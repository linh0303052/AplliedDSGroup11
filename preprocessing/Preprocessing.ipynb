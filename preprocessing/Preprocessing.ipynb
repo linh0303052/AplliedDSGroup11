{
 "cells": [
  {
   "cell_type": "code",
   "execution_count": null,
   "metadata": {
    "colab": {
     "base_uri": "https://localhost:8080/"
    },
    "id": "ZUju3nEXfvDG",
    "outputId": "5d9e6a7a-ae2b-498f-b8ee-5d8426fed20b"
   },
   "outputs": [
    {
     "name": "stdout",
     "output_type": "stream",
     "text": [
      "Cloning into 'AplliedDSGroup11'...\n",
      "remote: Enumerating objects: 130, done.\u001b[K\n",
      "remote: Counting objects: 100% (130/130), done.\u001b[K\n",
      "remote: Compressing objects: 100% (105/105), done.\u001b[K\n",
      "remote: Total 130 (delta 51), reused 79 (delta 18), pack-reused 0\u001b[K\n",
      "Receiving objects: 100% (130/130), 32.60 MiB | 20.03 MiB/s, done.\n",
      "Resolving deltas: 100% (51/51), done.\n",
      "Checking out files: 100% (27/27), done.\n"
     ]
    }
   ],
   "source": [
    "!git clone https://github.com/linh0303052/AplliedDSGroup11"
   ]
  },
  {
   "cell_type": "code",
   "execution_count": null,
   "metadata": {
    "colab": {
     "base_uri": "https://localhost:8080/"
    },
    "id": "Lemir-HhfyYy",
    "outputId": "93917b0a-4068-431c-e606-c3e95375c5ec"
   },
   "outputs": [
    {
     "name": "stdout",
     "output_type": "stream",
     "text": [
      "AplliedDSGroup11  sample_data\n"
     ]
    }
   ],
   "source": [
    "!ls"
   ]
  },
  {
   "cell_type": "code",
   "execution_count": null,
   "metadata": {
    "id": "U4e6tisxlbfS"
   },
   "outputs": [],
   "source": [
    "!cd AplliedDSGroup11/"
   ]
  },
  {
   "cell_type": "code",
   "execution_count": null,
   "metadata": {
    "colab": {
     "base_uri": "https://localhost:8080/"
    },
    "id": "QbpOMPCElhHk",
    "outputId": "6d70306c-0543-4db2-e4be-a100be7083d5"
   },
   "outputs": [
    {
     "name": "stdout",
     "output_type": "stream",
     "text": [
      " data\t\t  new_model.ipynb\t       README.md\n",
      "'Marios Models'   preprocessing_xgboot.ipynb   Report.ipynb\n"
     ]
    }
   ],
   "source": [
    "!ls AplliedDSGroup11/"
   ]
  },
  {
   "cell_type": "code",
   "execution_count": null,
   "metadata": {
    "id": "m5fmRlIcliMu"
   },
   "outputs": [],
   "source": [
    "import pandas as pd\n",
    "import numpy as np\n",
    "from itertools import combinations\n",
    "# xgboost for feature importance on a regression problem\n",
    "from sklearn.datasets import make_regression\n",
    "from xgboost import XGBClassifier\n",
    "from matplotlib import pyplot\n",
    "import os\n",
    "import matplotlib.pyplot as plt"
   ]
  },
  {
   "cell_type": "code",
   "execution_count": null,
   "metadata": {
    "id": "fLGu5GFsmCji"
   },
   "outputs": [],
   "source": [
    "DATA_DIR = \"/content/AplliedDSGroup11/data\"\n",
    "CVFILE = \"5fold_20times.csv\""
   ]
  },
  {
   "cell_type": "code",
   "execution_count": null,
   "metadata": {
    "id": "YLyoEF1cmVtT"
   },
   "outputs": [],
   "source": [
    "train = pd.read_csv('{0}/input/train.csv'.format(DATA_DIR))\n",
    "test = pd.read_csv('{0}/input/test.csv'.format(DATA_DIR))"
   ]
  },
  {
   "cell_type": "code",
   "execution_count": null,
   "metadata": {
    "colab": {
     "base_uri": "https://localhost:8080/"
    },
    "id": "pu73MVj-mWn-",
    "outputId": "e59a1679-83c2-4b45-c691-e40182c9eb52"
   },
   "outputs": [
    {
     "name": "stdout",
     "output_type": "stream",
     "text": [
      "(76020, 369) (75818, 369)\n",
      "NANs: False\n",
      "#FEATURES 369\n"
     ]
    }
   ],
   "source": [
    "target = train['TARGET']\n",
    "train_ids = train.ID\n",
    "test_ids = test.ID\n",
    "\n",
    "train = train.drop(['ID', 'TARGET'], axis=1)\n",
    "test = test.drop('ID', axis=1)\n",
    "\n",
    "#train = train.drop(drop, axis=1)\n",
    "#test = test.drop(drop, axis=1)\n",
    "\n",
    "print(train.shape, test.shape)\n",
    "\n",
    "ntrain = train.shape[0]\n",
    "train_test = pd.concat((train, test), axis=0).reset_index(drop=True)\n",
    "\n",
    "print(\"NANs:\", train_test.isnull().values.any())\n",
    "\n",
    "features = train_test.columns\n",
    "print(\"#FEATURES\", len(features))"
   ]
  },
  {
   "cell_type": "code",
   "execution_count": null,
   "metadata": {
    "colab": {
     "base_uri": "https://localhost:8080/"
    },
    "id": "6hSgUpM975SO",
    "outputId": "e4597064-0890-456f-998a-f397197c6750"
   },
   "outputs": [
    {
     "data": {
      "text/plain": [
       "0         39205.170000\n",
       "1         49278.030000\n",
       "2         67333.770000\n",
       "3         64007.970000\n",
       "4        117310.979016\n",
       "             ...      \n",
       "76015     60926.490000\n",
       "76016    118634.520000\n",
       "76017     74028.150000\n",
       "76018     84278.160000\n",
       "76019    117310.979016\n",
       "Name: var38, Length: 76020, dtype: float64"
      ]
     },
     "execution_count": 9,
     "metadata": {},
     "output_type": "execute_result"
    }
   ],
   "source": [
    "train['var38']"
   ]
  },
  {
   "cell_type": "code",
   "execution_count": null,
   "metadata": {
    "colab": {
     "base_uri": "https://localhost:8080/",
     "height": 382
    },
    "id": "2M4uNneq8Hsd",
    "outputId": "beeb6d34-c103-400f-d2dc-31e37c2a8451"
   },
   "outputs": [
    {
     "data": {
      "text/plain": [
       "(array([7.598e+04, 1.900e+01, 8.000e+00, 5.000e+00, 4.000e+00, 2.000e+00,\n",
       "        1.000e+00, 0.000e+00, 0.000e+00, 1.000e+00]),\n",
       " array([5.16375000e+03, 2.20812125e+06, 4.41107875e+06, 6.61403625e+06,\n",
       "        8.81699375e+06, 1.10199513e+07, 1.32229088e+07, 1.54258663e+07,\n",
       "        1.76288238e+07, 1.98317813e+07, 2.20347388e+07]),\n",
       " <a list of 10 Patch objects>)"
      ]
     },
     "execution_count": 17,
     "metadata": {},
     "output_type": "execute_result"
    },
    {
     "data": {
      "image/png": "[encoded data removed]",
      "text/plain": [
       "<Figure size 432x288 with 1 Axes>"
      ]
     },
     "metadata": {
      "needs_background": "light"
     },
     "output_type": "display_data"
    }
   ],
   "source": [
    " plt.hist(train['var38'])"
   ]
  },
  {
   "cell_type": "code",
   "execution_count": null,
   "metadata": {
    "colab": {
     "base_uri": "https://localhost:8080/"
    },
    "id": "bvvbomuumvbd",
    "outputId": "ab01f2ef-6a2c-4eab-b156-25c3a89f5894"
   },
   "outputs": [
    {
     "name": "stdout",
     "output_type": "stream",
     "text": [
      "ind_var2_0\n",
      "ind_var2\n",
      "ind_var27_0\n",
      "ind_var28_0\n",
      "ind_var28\n",
      "ind_var27\n",
      "ind_var41\n",
      "ind_var46_0\n",
      "ind_var46\n",
      "num_var27_0\n",
      "num_var28_0\n",
      "num_var28\n",
      "num_var27\n",
      "num_var41\n",
      "num_var46_0\n",
      "num_var46\n",
      "saldo_var28\n",
      "saldo_var27\n",
      "saldo_var41\n",
      "saldo_var46\n",
      "imp_amort_var18_hace3\n",
      "imp_amort_var34_hace3\n",
      "imp_reemb_var13_hace3\n",
      "imp_reemb_var33_hace3\n",
      "imp_trasp_var17_out_hace3\n",
      "imp_trasp_var33_out_hace3\n",
      "num_var2_0_ult1\n",
      "num_var2_ult1\n",
      "num_reemb_var13_hace3\n",
      "num_reemb_var33_hace3\n",
      "num_trasp_var17_out_hace3\n",
      "num_trasp_var33_out_hace3\n",
      "saldo_var2_ult1\n",
      "saldo_medio_var13_medio_hace3\n",
      "#FEATURES 335\n"
     ]
    }
   ],
   "source": [
    "# Removing columns with zero variance\n",
    "drop = []\n",
    "for feat in features:\n",
    "    if np.unique(train_test[feat]).shape[0] == 1:\n",
    "        print(feat)\n",
    "        drop += [feat]\n",
    "\n",
    "features = np.setdiff1d(features, drop)\n",
    "print(\"#FEATURES\", len(features))"
   ]
  },
  {
   "cell_type": "code",
   "execution_count": null,
   "metadata": {
    "colab": {
     "base_uri": "https://localhost:8080/"
    },
    "id": "ypOdm_3Zm_9L",
    "outputId": "9a622340-354a-4b00-bde4-49dc09a35084"
   },
   "outputs": [
    {
     "name": "stdout",
     "output_type": "stream",
     "text": [
      "('delta_imp_reemb_var13_1y3', 'delta_num_reemb_var13_1y3')\n",
      "('delta_imp_reemb_var17_1y3', 'delta_num_reemb_var17_1y3')\n",
      "('delta_imp_reemb_var33_1y3', 'delta_num_reemb_var33_1y3')\n",
      "('delta_imp_trasp_var17_in_1y3', 'delta_num_trasp_var17_in_1y3')\n",
      "('delta_imp_trasp_var17_out_1y3', 'delta_num_trasp_var17_out_1y3')\n",
      "('delta_imp_trasp_var33_in_1y3', 'delta_num_trasp_var33_in_1y3')\n",
      "('delta_imp_trasp_var33_out_1y3', 'delta_num_trasp_var33_out_1y3')\n",
      "('ind_var13_medio', 'ind_var13_medio_0')\n",
      "('ind_var18', 'ind_var18_0')\n",
      "('ind_var25', 'ind_var25_0')\n",
      "('ind_var26', 'ind_var26_0')\n",
      "('ind_var29', 'ind_var6')\n",
      "('ind_var29_0', 'ind_var6_0')\n",
      "('ind_var32', 'ind_var32_0')\n",
      "('ind_var34', 'ind_var34_0')\n",
      "('ind_var37', 'ind_var37_0')\n",
      "('ind_var39', 'ind_var40')\n",
      "('num_var18', 'num_var18_0')\n",
      "('num_var25', 'num_var25_0')\n",
      "('num_var26', 'num_var26_0')\n",
      "('num_var29', 'num_var6')\n",
      "('num_var29_0', 'num_var6_0')\n",
      "('num_var32', 'num_var32_0')\n",
      "('num_var34', 'num_var34_0')\n",
      "('num_var37', 'num_var37_0')\n",
      "('num_var39', 'num_var40')\n",
      "('saldo_var29', 'saldo_var6')\n"
     ]
    }
   ],
   "source": [
    "# Removing duplicated columns\n",
    "drop = []\n",
    "for i, pair in enumerate(combinations(features, 2)):\n",
    "    f1 = pair[0]\n",
    "    f2 = pair[1]\n",
    "    # if f1 in drop or f2 in drop:\n",
    "    #     continue\n",
    "    if (train_test[f1] == train_test[f2]).all():\n",
    "        print(pair)\n",
    "        drop += [f2]"
   ]
  },
  {
   "cell_type": "code",
   "execution_count": null,
   "metadata": {
    "id": "uvzJ1EzEnBi3"
   },
   "outputs": [],
   "source": [
    "# Adding a feature with count of zeros per row\n",
    "# train_test['zero_count'] = train_test.apply(lambda x: np.sum(x == 0), axis=1)\n",
    "\n",
    "# train = train_test.iloc[:ntrain,:].copy().reset_index(drop=True)\n",
    "# test = train_test.iloc[ntrain:,:].copy().reset_index(drop=True)\n",
    "\n",
    "# train = pd.concat((train_ids,train,target),axis=1)\n",
    "# test = pd.concat((test_ids,test), axis=1)\n",
    "\n",
    "# print(train.shape, test.shape)\n",
    "\n",
    "train.to_csv(\"{0}/output/train_mm1.csv\".format(DATA_DIR), index=None)\n",
    "test.to_csv(\"{0}/output/test_mm1.csv\".format(DATA_DIR), index=None)"
   ]
  },
  {
   "cell_type": "code",
   "execution_count": null,
   "metadata": {
    "colab": {
     "base_uri": "https://localhost:8080/"
    },
    "id": "VOU744hZnT_x",
    "outputId": "6ce87963-8cd2-4dad-ef43-3e1a93ed2dd9"
   },
   "outputs": [
    {
     "data": {
      "text/plain": [
       "XGBClassifier()"
      ]
     },
     "execution_count": 12,
     "metadata": {},
     "output_type": "execute_result"
    }
   ],
   "source": [
    "# define the model\n",
    "model = XGBClassifier()\n",
    "# fit the model\n",
    "model.fit(train, target)"
   ]
  },
  {
   "cell_type": "code",
   "execution_count": null,
   "metadata": {
    "colab": {
     "base_uri": "https://localhost:8080/",
     "height": 282
    },
    "id": "LzxQ1tuHotsA",
    "outputId": "55833aec-b630-4bad-8192-1bba8a2d188a"
   },
   "outputs": [
    {
     "data": {
      "text/plain": [
       "<BarContainer object of 369 artists>"
      ]
     },
     "execution_count": 13,
     "metadata": {},
     "output_type": "execute_result"
    },
    {
     "data": {
      "image/png": "[encoded data removed]",
      "text/plain": [
       "<Figure size 432x288 with 1 Axes>"
      ]
     },
     "metadata": {},
     "output_type": "display_data"
    }
   ],
   "source": [
    "# get importance\n",
    "importance = model.feature_importances_\n",
    "# summarize feature importance\n",
    "for i,v in enumerate(importance):\n",
    "\t#print('Feature: %0d, Score: %.5f' % (i,v))\n",
    "\tpass\n",
    "# plot feature importance\n",
    "pyplot.bar([x for x in range(len(importance))], importance)"
   ]
  },
  {
   "cell_type": "code",
   "execution_count": null,
   "metadata": {
    "colab": {
     "base_uri": "https://localhost:8080/"
    },
    "id": "aKlp78-BWoxy",
    "outputId": "bf5bb0ee-1d57-4f05-dcb0-c1938efb696b"
   },
   "outputs": [
    {
     "data": {
      "text/plain": [
       "[0,\n",
       " 1,\n",
       " 2,\n",
       " 4,\n",
       " 10,\n",
       " 11,\n",
       " 12,\n",
       " 13,\n",
       " 14,\n",
       " 15,\n",
       " 16,\n",
       " 17,\n",
       " 18,\n",
       " 27,\n",
       " 73,\n",
       " 79,\n",
       " 88,\n",
       " 89,\n",
       " 123,\n",
       " 125,\n",
       " 126,\n",
       " 127,\n",
       " 128,\n",
       " 129,\n",
       " 157,\n",
       " 164,\n",
       " 166,\n",
       " 167,\n",
       " 182,\n",
       " 187,\n",
       " 188,\n",
       " 190,\n",
       " 193,\n",
       " 240,\n",
       " 241,\n",
       " 275,\n",
       " 276,\n",
       " 277,\n",
       " 279,\n",
       " 280,\n",
       " 289,\n",
       " 298,\n",
       " 299,\n",
       " 300,\n",
       " 301,\n",
       " 311,\n",
       " 323,\n",
       " 324,\n",
       " 325,\n",
       " 326,\n",
       " 328,\n",
       " 329,\n",
       " 330,\n",
       " 331,\n",
       " 332,\n",
       " 334,\n",
       " 335,\n",
       " 336,\n",
       " 339,\n",
       " 368]"
      ]
     },
     "execution_count": 14,
     "metadata": {},
     "output_type": "execute_result"
    }
   ],
   "source": [
    "new_features = []\n",
    "for index, value in enumerate(importance):\n",
    "    if value != 0:\n",
    "        new_features.append(index)\n",
    "new_features"
   ]
  },
  {
   "cell_type": "code",
   "execution_count": null,
   "metadata": {
    "colab": {
     "base_uri": "https://localhost:8080/"
    },
    "id": "JhCglscaW3gt",
    "outputId": "7cb98293-48c6-4576-e459-3e2b8c463707"
   },
   "outputs": [
    {
     "name": "stdout",
     "output_type": "stream",
     "text": [
      "[0, 1, 2, 4, 10, 11, 12, 13, 14, 15, 16, 17, 18, 27, 73, 79, 88, 89, 123, 125, 126, 127, 128, 129, 157, 164, 166, 167, 182, 187, 188, 190, 193, 240, 241, 275, 276, 277, 279, 280, 289, 298, 299, 300, 301, 311, 323, 324, 325, 326, 328, 329, 330, 331, 332, 334, 335, 336, 339, 368]\n"
     ]
    }
   ],
   "source": [
    "print(new_features)"
   ]
  },
  {
   "cell_type": "code",
   "execution_count": null,
   "metadata": {
    "colab": {
     "base_uri": "https://localhost:8080/"
    },
    "id": "tbi2zaRQYEZ0",
    "outputId": "d394424d-2a59-4dca-b9f2-4e01e4f7a1cb"
   },
   "outputs": [
    {
     "name": "stdout",
     "output_type": "stream",
     "text": [
      "5fold_20times.csv      test.csv      train.csv\n",
      "sample_submission.csv  test_mm1.csv  train_mm1.csv\n"
     ]
    }
   ],
   "source": [
    "new_train = train.iloc(axis=1)[new_features]\n",
    "new_test = test.iloc(axis=1)[new_features]\n",
    "\n",
    "new_train = pd.concat((train_ids,new_train,target),axis=1)\n",
    "new_test = pd.concat((test_ids,new_test), axis=1)\n",
    "\n",
    "new_train.to_csv(\"{0}/input/train_mm1.csv\".format(DATA_DIR), index=None)\n",
    "new_test.to_csv(\"{0}/input/test_mm1.csv\".format(DATA_DIR), index=None)\n",
    "!ls \"{DATA_DIR}/input\""
   ]
  },
  {
   "cell_type": "code",
   "execution_count": null,
   "metadata": {
    "colab": {
     "base_uri": "https://localhost:8080/"
    },
    "id": "BScU9NO7Y-v3",
    "outputId": "16139a6e-2c46-4644-f872-5f020b906d59"
   },
   "outputs": [
    {
     "data": {
      "text/plain": [
       "(76020, 62)"
      ]
     },
     "execution_count": 17,
     "metadata": {},
     "output_type": "execute_result"
    }
   ],
   "source": [
    "new_train.shape"
   ]
  },
  {
   "cell_type": "code",
   "execution_count": null,
   "metadata": {
    "colab": {
     "base_uri": "https://localhost:8080/"
    },
    "id": "08les0ufdTLM",
    "outputId": "a1eb9fce-cfbf-4c81-a0dd-2841f4742dbc"
   },
   "outputs": [
    {
     "data": {
      "text/plain": [
       "(75818, 61)"
      ]
     },
     "execution_count": 18,
     "metadata": {},
     "output_type": "execute_result"
    }
   ],
   "source": [
    "new_test.shape"
   ]
  }
 ],
 "metadata": {
  "colab": {
   "collapsed_sections": [],
   "name": "Preprocessing.ipynb",
   "provenance": []
  },
  "kernelspec": {
   "display_name": "Python 3 (ipykernel)",
   "language": "python",
   "name": "python3"
  },
  "language_info": {
   "codemirror_mode": {
    "name": "ipython",
    "version": 3
   },
   "file_extension": ".py",
   "mimetype": "text/x-python",
   "name": "python",
   "nbconvert_exporter": "python",
   "pygments_lexer": "ipython3",
   "version": "3.8.8"
  }
 },
 "nbformat": 4,
 "nbformat_minor": 1
}
