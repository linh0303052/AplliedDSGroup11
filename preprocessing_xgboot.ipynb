{
 "cells": [
  {
   "cell_type": "code",
   "execution_count": 1,
   "id": "d3368407",
   "metadata": {},
   "outputs": [],
   "source": [
    "from itertools import combinations\n",
    "\n",
    "import pandas as pd\n",
    "import numpy as np\n",
    "from san_utils import *"
   ]
  },
  {
   "cell_type": "code",
   "execution_count": 2,
   "id": "baf1b9b9",
   "metadata": {},
   "outputs": [],
   "source": [
    "drop = ['delta_imp_amort_var18_1y3', 'delta_imp_amort_var34_1y3',\n",
    "'delta_imp_aport_var17_1y3', 'delta_imp_aport_var33_1y3', 'delta_imp_reemb_var13_1y3',\n",
    "'delta_imp_reemb_var33_1y3', 'delta_imp_trasp_var17_in_1y3',\n",
    "'delta_imp_trasp_var17_out_1y3', 'delta_imp_trasp_var33_in_1y3',\n",
    "'delta_imp_trasp_var33_out_1y3', 'delta_imp_venta_var44_1y3', 'delta_num_aport_var17_1y3',\n",
    "'delta_num_aport_var33_1y3', 'delta_num_compra_var44_1y3',\n",
    "'delta_num_venta_var44_1y3', 'imp_amort_var18_ult1', 'imp_amort_var34_ult1',\n",
    "'imp_aport_var17_hace3', 'imp_aport_var33_hace3', 'imp_aport_var33_ult1',\n",
    "'imp_compra_var44_hace3', 'imp_reemb_var17_hace3', 'imp_reemb_var17_ult1',\n",
    "'imp_reemb_var33_ult1', 'imp_trasp_var17_in_hace3', 'imp_trasp_var17_in_ult1',\n",
    "'imp_trasp_var17_out_ult1', 'imp_trasp_var33_in_hace3', 'imp_trasp_var33_in_ult1',\n",
    "'imp_trasp_var33_out_ult1', 'imp_var7_emit_ult1', 'imp_venta_var44_hace3',\n",
    "'imp_venta_var44_ult1', 'ind_var13_corto', 'ind_var13_corto_0', 'ind_var13_largo_0',\n",
    "'ind_var13_medio', 'ind_var18', 'ind_var20', 'ind_var20_0', 'ind_var24', 'ind_var29',\n",
    "'ind_var29_0', 'ind_var32_cte', 'ind_var33', 'ind_var33_0', 'ind_var34',\n",
    "'ind_var44', 'ind_var44_0', 'ind_var7_emit_ult1', 'num_aport_var17_hace3',\n",
    "'num_aport_var33_hace3', 'num_aport_var33_ult1', 'num_compra_var44_hace3',\n",
    "'num_compra_var44_ult1', 'num_meses_var13_largo_ult3',\n",
    "'num_meses_var13_medio_ult3', 'num_meses_var29_ult3', 'num_meses_var33_ult3',\n",
    "'num_meses_var44_ult3', 'num_op_var40_efect_ult1', 'num_op_var40_hace3',\n",
    "'num_reemb_var13_ult1', 'num_reemb_var17_hace3', 'num_reemb_var17_ult1',\n",
    "'num_reemb_var33_ult1', 'num_trasp_var17_in_hace3', 'num_trasp_var17_in_ult1',\n",
    "'num_trasp_var17_out_ult1', 'num_trasp_var33_in_hace3', 'num_trasp_var33_in_ult1',\n",
    "'num_trasp_var33_out_ult1', 'num_var1', 'num_var12', 'num_var13_corto', 'num_var13_corto_0',\n",
    "'num_var13_largo', 'num_var13_largo_0', 'num_var13_medio', 'num_var13_medio_0',\n",
    "'num_var18', 'num_var20', 'num_var20_0', 'num_var24', 'num_var29', 'num_var29_0',\n",
    "'num_var31', 'num_var31_0', 'num_var32', 'num_var33', 'num_var33_0', 'num_var34',\n",
    "'num_var39', 'num_var44', 'num_var44_0', 'num_var7_emit_ult1',\n",
    "'num_var7_recib_ult1', 'num_venta_var44_hace3', 'num_venta_var44_ult1',\n",
    "'saldo_medio_var13_largo_hace2', 'saldo_medio_var13_largo_hace3',\n",
    "'saldo_medio_var13_largo_ult1', 'saldo_medio_var13_largo_ult3',\n",
    "'saldo_medio_var13_medio_hace2', 'saldo_medio_var13_medio_ult1',\n",
    "'saldo_medio_var13_medio_ult3', 'saldo_medio_var17_hace2', 'saldo_medio_var17_hace3',\n",
    "'saldo_medio_var17_ult1', 'saldo_medio_var29_hace2', 'saldo_medio_var29_hace3',\n",
    "'saldo_medio_var29_ult1', 'saldo_medio_var29_ult3', 'saldo_medio_var33_hace2',\n",
    "'saldo_medio_var33_hace3', 'saldo_medio_var33_ult1', 'saldo_medio_var33_ult3',\n",
    "'saldo_medio_var44_hace2', 'saldo_medio_var44_hace3', 'saldo_medio_var44_ult3',\n",
    "'saldo_var13_largo', 'saldo_var13_medio', 'saldo_var18', 'saldo_var20', 'saldo_var29',\n",
    "'saldo_var33', 'saldo_var34', 'delta_imp_compra_var44_1y3',\n",
    "'delta_imp_reemb_var17_1y3', 'delta_num_reemb_var13_1y3', 'delta_num_reemb_var33_1y3',\n",
    "'delta_num_trasp_var17_in_1y3', 'delta_num_trasp_var17_out_1y3',\n",
    "'delta_num_trasp_var33_in_1y3', 'delta_num_trasp_var33_out_1y3', 'imp_aport_var17_ult1',\n",
    "'imp_compra_var44_ult1', 'imp_reemb_var13_ult1', 'ind_var13_largo',\n",
    "'ind_var13_medio_0', 'ind_var14', 'ind_var17', 'ind_var17_0', 'ind_var18_0', 'ind_var19',\n",
    "'ind_var32', 'ind_var34_0', 'ind_var6', 'ind_var6_0', 'ind_var7_recib_ult1',\n",
    "'num_aport_var17_ult1', 'num_meses_var17_ult3', 'num_op_var40_comer_ult1',\n",
    "'num_op_var40_efect_ult3', 'num_op_var40_hace2', 'num_sal_var16_ult1', 'num_var14',\n",
    "'num_var17', 'num_var17_0', 'num_var18_0', 'num_var32_0', 'num_var34_0',\n",
    "'num_var6', 'num_var6_0', 'saldo_medio_var17_ult3',\n",
    "'saldo_medio_var44_ult1', 'saldo_var17', 'saldo_var32', 'saldo_var44', 'saldo_var6',\n",
    "'delta_num_reemb_var17_1y3', 'imp_op_var40_efect_ult1', 'ind_var1', 'ind_var31',\n",
    "'ind_var32_0', 'ind_var39', 'num_op_var40_ult1', 'num_var40',\n",
    "'imp_op_var40_comer_ult1', 'num_aport_var13_ult1', 'num_op_var40_comer_ult3',\n",
    "'imp_var7_recib_ult1', 'ind_var40', 'num_op_var40_ult3', 'imp_op_var40_comer_ult3',\n",
    "'imp_sal_var16_ult1', 'saldo_medio_var13_corto_hace3']"
   ]
  },
  {
   "cell_type": "code",
   "execution_count": 3,
   "id": "dbd9a3ee",
   "metadata": {},
   "outputs": [],
   "source": [
    "train = pd.read_csv('data/input/train.csv')\n",
    "test = pd.read_csv('data/input/test.csv')"
   ]
  },
  {
   "cell_type": "code",
   "execution_count": 4,
   "id": "2e18c5a2",
   "metadata": {},
   "outputs": [
    {
     "name": "stdout",
     "output_type": "stream",
     "text": [
      "(76020, 182) (75818, 182)\n",
      "NANs: False\n",
      "#FEATURES 182\n"
     ]
    }
   ],
   "source": [
    "# Remove ID, target colume, and all colume above\n",
    "target = train['TARGET']\n",
    "train_ids = train.ID\n",
    "test_ids = test.ID\n",
    "\n",
    "train = train.drop(['ID', 'TARGET'], axis=1)\n",
    "test = test.drop('ID', axis=1)\n",
    "\n",
    "train = train.drop(drop, axis=1)\n",
    "test = test.drop(drop, axis=1)\n",
    "\n",
    "print(train.shape, test.shape)\n",
    "\n",
    "ntrain = train.shape[0]\n",
    "train_test = pd.concat((train, test), axis=0).reset_index(drop=True)\n",
    "\n",
    "print(\"NANs:\", train_test.isnull().values.any())\n",
    "\n",
    "features = train_test.columns\n",
    "print(\"#FEATURES\", len(features))"
   ]
  },
  {
   "cell_type": "code",
   "execution_count": 5,
   "id": "737519a1",
   "metadata": {},
   "outputs": [
    {
     "name": "stdout",
     "output_type": "stream",
     "text": [
      "ind_var2_0\n",
      "ind_var2\n",
      "ind_var27_0\n",
      "ind_var28_0\n",
      "ind_var28\n",
      "ind_var27\n",
      "ind_var41\n",
      "ind_var46_0\n",
      "ind_var46\n",
      "num_var27_0\n",
      "num_var28_0\n",
      "num_var28\n",
      "num_var27\n",
      "num_var41\n",
      "num_var46_0\n",
      "num_var46\n",
      "saldo_var28\n",
      "saldo_var27\n",
      "saldo_var41\n",
      "saldo_var46\n",
      "imp_amort_var18_hace3\n",
      "imp_amort_var34_hace3\n",
      "imp_reemb_var13_hace3\n",
      "imp_reemb_var33_hace3\n",
      "imp_trasp_var17_out_hace3\n",
      "imp_trasp_var33_out_hace3\n",
      "num_var2_0_ult1\n",
      "num_var2_ult1\n",
      "num_reemb_var13_hace3\n",
      "num_reemb_var33_hace3\n",
      "num_trasp_var17_out_hace3\n",
      "num_trasp_var33_out_hace3\n",
      "saldo_var2_ult1\n",
      "saldo_medio_var13_medio_hace3\n",
      "#FEATURES 148\n"
     ]
    }
   ],
   "source": [
    "# Removing columns with zero variance\n",
    "drop = []\n",
    "for feat in features:\n",
    "    if np.unique(train_test[feat]).shape[0] == 1:\n",
    "        print(feat)\n",
    "        drop += [feat]\n",
    "\n",
    "features = np.setdiff1d(features, drop)\n",
    "print(\"#FEATURES\", len(features))"
   ]
  },
  {
   "cell_type": "code",
   "execution_count": 6,
   "id": "b355c1b4",
   "metadata": {},
   "outputs": [
    {
     "name": "stdout",
     "output_type": "stream",
     "text": [
      "('ind_var25', 'ind_var25_0')\n",
      "('ind_var26', 'ind_var26_0')\n",
      "('ind_var37', 'ind_var37_0')\n",
      "('num_var25', 'num_var25_0')\n",
      "('num_var26', 'num_var26_0')\n",
      "('num_var37', 'num_var37_0')\n",
      "#FEATURES 142\n",
      "(151838, 142)\n"
     ]
    }
   ],
   "source": [
    "# Removing duplicated columns\n",
    "drop = []\n",
    "for i, pair in enumerate(combinations(features, 2)):\n",
    "    f1 = pair[0]\n",
    "    f2 = pair[1]\n",
    "    # if f1 in drop or f2 in drop:\n",
    "    #     continue\n",
    "    if (train_test[f1] == train_test[f2]).all():\n",
    "        print(pair)\n",
    "        drop += [f2]\n",
    "        \n",
    "features = np.setdiff1d(features, drop)\n",
    "print(\"#FEATURES\" , len(features))\n",
    "\n",
    "train_test = train_test[features]\n",
    "print(train_test.shape)"
   ]
  },
  {
   "cell_type": "code",
   "execution_count": 7,
   "id": "b82b224d",
   "metadata": {},
   "outputs": [
    {
     "name": "stdout",
     "output_type": "stream",
     "text": [
      "0     128\n",
      "1     107\n",
      "2     113\n",
      "3      84\n",
      "4      95\n",
      "5     128\n",
      "6     113\n",
      "7     114\n",
      "8     128\n",
      "9     119\n",
      "10     96\n",
      "11    128\n",
      "12    109\n",
      "13     89\n",
      "14     54\n",
      "15    113\n",
      "16    133\n",
      "17     87\n",
      "18     98\n",
      "19    113\n",
      "Name: zero_count, dtype: int64\n",
      "(76020, 145) (75818, 144)\n"
     ]
    }
   ],
   "source": [
    "# Adding a feature with count of zeros per row\n",
    "train_test['zero_count'] = train_test.apply(lambda x: np.sum(x == 0), axis=1)\n",
    "print(train_test['zero_count'].head(n=20))\n",
    "\n",
    "train = train_test.iloc[:ntrain,:].copy().reset_index(drop=True)\n",
    "test = train_test.iloc[ntrain:,:].copy().reset_index(drop=True)\n",
    "\n",
    "train = pd.concat((train_ids,train,target),axis=1)\n",
    "test = pd.concat((test_ids,test), axis=1)\n",
    "\n",
    "print(train.shape, test.shape)"
   ]
  },
  {
   "cell_type": "code",
   "execution_count": null,
   "id": "03fa0c9c",
   "metadata": {},
   "outputs": [],
   "source": []
  }
 ],
 "metadata": {
  "kernelspec": {
   "display_name": "Python 3 (ipykernel)",
   "language": "python",
   "name": "python3"
  },
  "language_info": {
   "codemirror_mode": {
    "name": "ipython",
    "version": 3
   },
   "file_extension": ".py",
   "mimetype": "text/x-python",
   "name": "python",
   "nbconvert_exporter": "python",
   "pygments_lexer": "ipython3",
   "version": "3.8.8"
  }
 },
 "nbformat": 4,
 "nbformat_minor": 5
}
