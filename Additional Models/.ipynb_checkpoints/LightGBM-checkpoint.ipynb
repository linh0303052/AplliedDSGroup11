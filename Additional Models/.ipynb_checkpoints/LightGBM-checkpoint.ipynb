{
 "cells": [
  {
   "cell_type": "markdown",
   "metadata": {
    "id": "mw6UrlC1qW_Q"
   },
   "source": [
    "File này được chạy trên Google Colab, để chạy được, ta sẽ cấu hình như bên dưới"
   ]
  },
  {
   "cell_type": "code",
   "execution_count": null,
   "metadata": {
    "colab": {
     "base_uri": "https://localhost:8080/"
    },
    "executionInfo": {
     "elapsed": 18156,
     "status": "ok",
     "timestamp": 1641452620602,
     "user": {
      "displayName": "Gia Bảo Hoàng",
      "photoUrl": "https://lh3.googleusercontent.com/a/default-user=s64",
      "userId": "15531827273777406165"
     },
     "user_tz": -420
    },
    "id": "aoIHvDCwcFGN",
    "outputId": "d2333612-c62b-4248-9814-e3195b7147b5"
   },
   "outputs": [
    {
     "name": "stdout",
     "output_type": "stream",
     "text": [
      "Mounted at /content/drive\n"
     ]
    }
   ],
   "source": [
    "from google.colab import drive\n",
    "drive._mount('/content/drive')"
   ]
  },
  {
   "cell_type": "markdown",
   "metadata": {
    "id": "pInoRb4souzq"
   },
   "source": [
    "Ở đây, sử dụng thư mục \"santander_2016-master\" nên cần cd đến thư mục này, nếu bạn làm ở thư mục có tên khác thì bạn phải chỉnh lại"
   ]
  },
  {
   "cell_type": "code",
   "execution_count": null,
   "metadata": {
    "colab": {
     "base_uri": "https://localhost:8080/"
    },
    "executionInfo": {
     "elapsed": 10,
     "status": "ok",
     "timestamp": 1641452620603,
     "user": {
      "displayName": "Gia Bảo Hoàng",
      "photoUrl": "https://lh3.googleusercontent.com/a/default-user=s64",
      "userId": "15531827273777406165"
     },
     "user_tz": -420
    },
    "id": "fLlhboxbcLPm",
    "outputId": "667ce258-a4e8-40cd-8ef2-bd5b1de4a7a2"
   },
   "outputs": [
    {
     "name": "stdout",
     "output_type": "stream",
     "text": [
      "/content/drive/My Drive/santander_2016-master\n"
     ]
    }
   ],
   "source": [
    "%cd /content/drive/My\\ Drive/santander_2016-master"
   ]
  },
  {
   "cell_type": "code",
   "execution_count": null,
   "metadata": {
    "colab": {
     "base_uri": "https://localhost:8080/"
    },
    "executionInfo": {
     "elapsed": 30209,
     "status": "ok",
     "timestamp": 1641452650807,
     "user": {
      "displayName": "Gia Bảo Hoàng",
      "photoUrl": "https://lh3.googleusercontent.com/a/default-user=s64",
      "userId": "15531827273777406165"
     },
     "user_tz": -420
    },
    "id": "LA0ltlHPcO6C",
    "outputId": "ea85d23c-66c1-456c-dede-9ecbd4b33881"
   },
   "outputs": [
    {
     "name": "stdout",
     "output_type": "stream",
     "text": [
      "Requirement already satisfied: xgboost in /usr/local/lib/python3.7/dist-packages (0.90)\n",
      "Collecting xgboost\n",
      "  Downloading xgboost-1.5.1-py3-none-manylinux2014_x86_64.whl (173.5 MB)\n",
      "\u001b[K     |████████████████████████████████| 173.5 MB 11 kB/s \n",
      "\u001b[?25hRequirement already satisfied: lightgbm in /usr/local/lib/python3.7/dist-packages (2.2.3)\n",
      "Collecting lightgbm\n",
      "  Downloading lightgbm-3.3.1-py3-none-manylinux1_x86_64.whl (2.0 MB)\n",
      "\u001b[K     |████████████████████████████████| 2.0 MB 36.2 MB/s \n",
      "\u001b[?25hCollecting catboost\n",
      "  Downloading catboost-1.0.3-cp37-none-manylinux1_x86_64.whl (76.3 MB)\n",
      "\u001b[K     |████████████████████████████████| 76.3 MB 1.3 MB/s \n",
      "\u001b[?25hRequirement already satisfied: numpy in /usr/local/lib/python3.7/dist-packages (from xgboost) (1.19.5)\n",
      "Requirement already satisfied: scipy in /usr/local/lib/python3.7/dist-packages (from xgboost) (1.4.1)\n",
      "Requirement already satisfied: wheel in /usr/local/lib/python3.7/dist-packages (from lightgbm) (0.37.0)\n",
      "Requirement already satisfied: scikit-learn!=0.22.0 in /usr/local/lib/python3.7/dist-packages (from lightgbm) (1.0.1)\n",
      "Requirement already satisfied: threadpoolctl>=2.0.0 in /usr/local/lib/python3.7/dist-packages (from scikit-learn!=0.22.0->lightgbm) (3.0.0)\n",
      "Requirement already satisfied: joblib>=0.11 in /usr/local/lib/python3.7/dist-packages (from scikit-learn!=0.22.0->lightgbm) (1.1.0)\n",
      "Requirement already satisfied: graphviz in /usr/local/lib/python3.7/dist-packages (from catboost) (0.10.1)\n",
      "Requirement already satisfied: six in /usr/local/lib/python3.7/dist-packages (from catboost) (1.15.0)\n",
      "Requirement already satisfied: pandas>=0.24.0 in /usr/local/lib/python3.7/dist-packages (from catboost) (1.1.5)\n",
      "Requirement already satisfied: plotly in /usr/local/lib/python3.7/dist-packages (from catboost) (4.4.1)\n",
      "Requirement already satisfied: matplotlib in /usr/local/lib/python3.7/dist-packages (from catboost) (3.2.2)\n",
      "Requirement already satisfied: pytz>=2017.2 in /usr/local/lib/python3.7/dist-packages (from pandas>=0.24.0->catboost) (2018.9)\n",
      "Requirement already satisfied: python-dateutil>=2.7.3 in /usr/local/lib/python3.7/dist-packages (from pandas>=0.24.0->catboost) (2.8.2)\n",
      "Requirement already satisfied: pyparsing!=2.0.4,!=2.1.2,!=2.1.6,>=2.0.1 in /usr/local/lib/python3.7/dist-packages (from matplotlib->catboost) (3.0.6)\n",
      "Requirement already satisfied: cycler>=0.10 in /usr/local/lib/python3.7/dist-packages (from matplotlib->catboost) (0.11.0)\n",
      "Requirement already satisfied: kiwisolver>=1.0.1 in /usr/local/lib/python3.7/dist-packages (from matplotlib->catboost) (1.3.2)\n",
      "Requirement already satisfied: retrying>=1.3.3 in /usr/local/lib/python3.7/dist-packages (from plotly->catboost) (1.3.3)\n",
      "Installing collected packages: xgboost, lightgbm, catboost\n",
      "  Attempting uninstall: xgboost\n",
      "    Found existing installation: xgboost 0.90\n",
      "    Uninstalling xgboost-0.90:\n",
      "      Successfully uninstalled xgboost-0.90\n",
      "  Attempting uninstall: lightgbm\n",
      "    Found existing installation: lightgbm 2.2.3\n",
      "    Uninstalling lightgbm-2.2.3:\n",
      "      Successfully uninstalled lightgbm-2.2.3\n",
      "Successfully installed catboost-1.0.3 lightgbm-3.3.1 xgboost-1.5.1\n"
     ]
    }
   ],
   "source": [
    "!pip install --upgrade xgboost lightgbm catboost"
   ]
  },
  {
   "cell_type": "code",
   "execution_count": null,
   "metadata": {
    "id": "Stwv_QRYcU8l"
   },
   "outputs": [],
   "source": [
    "import numpy as np\n",
    "import pandas as pd\n",
    "import matplotlib.pyplot as plt\n",
    "import seaborn as sns\n",
    "\n",
    "import warnings\n",
    "warnings.filterwarnings(\"ignore\")\n",
    "\n",
    "%matplotlib inline"
   ]
  },
  {
   "cell_type": "markdown",
   "metadata": {
    "id": "HXFp4YX8o-Lx"
   },
   "source": [
    "Trong thư mục \"santander_2016-master\" sẽ có 1 thư mục tên là \"data\" và file này, trong thư mục \"data\" đó lại có 2 thư mục khác là: \"input\", \"output\"\n",
    "* Thư mục \"input\" sẽ chứa file: \"train.csv\", \"test.csv\", \"5folds_20times.csv\"\n",
    "* Thư mục \"output\" sẽ chứa 3 thư mục: \"features\", \"train\", \"test\"\n",
    "  * Thư mục \"features\" sẽ chứa các features như: t_SNE, PCA,...\n",
    "  * Thư mục \"train\" sẽ chứa các dự đoán của mô hình trên tập train\n",
    "  * Thư mục \"test\" sẽ chứa các dự đoán của mô hình trên tập test\n",
    "\n",
    "--> Để chạy được, bạn cần có đủ các thư mục, tập tin này"
   ]
  },
  {
   "cell_type": "code",
   "execution_count": null,
   "metadata": {
    "id": "PejDUobRcdQp"
   },
   "outputs": [],
   "source": [
    "# path\n",
    "metafolder_train = \"data/output/train/\"\n",
    "metafolder_test = \"data/output/test/\"        \n",
    "input_folder = \"data/input/\"\n",
    "feature_folder = \"data/output/features/\""
   ]
  },
  {
   "cell_type": "code",
   "execution_count": null,
   "metadata": {
    "id": "JhkR-jS3orq0"
   },
   "outputs": [],
   "source": [
    "data_train = pd.read_csv(input_folder + \"train.csv\")\n",
    "data_test = pd.read_csv(input_folder + \"test.csv\")"
   ]
  },
  {
   "cell_type": "code",
   "execution_count": null,
   "metadata": {
    "colab": {
     "base_uri": "https://localhost:8080/",
     "height": 487
    },
    "executionInfo": {
     "elapsed": 19,
     "status": "ok",
     "timestamp": 1641452659826,
     "user": {
      "displayName": "Gia Bảo Hoàng",
      "photoUrl": "https://lh3.googleusercontent.com/a/default-user=s64",
      "userId": "15531827273777406165"
     },
     "user_tz": -420
    },
    "id": "Yp_myY-MpBAT",
    "outputId": "f70827f6-4e32-4b00-9889-f16247808a0a"
   },
   "outputs": [
    {
     "data": {
      "text/html": [
       "\n",
       "  <div id=\"df-15ea9d31-798c-40de-b218-fe89dbe21e37\">\n",
       "    <div class=\"colab-df-container\">\n",
       "      <div>\n",
       "<style scoped>\n",
       "    .dataframe tbody tr th:only-of-type {\n",
       "        vertical-align: middle;\n",
       "    }\n",
       "\n",
       "    .dataframe tbody tr th {\n",
       "        vertical-align: top;\n",
       "    }\n",
       "\n",
       "    .dataframe thead th {\n",
       "        text-align: right;\n",
       "    }\n",
       "</style>\n",
       "<table border=\"1\" class=\"dataframe\">\n",
       "  <thead>\n",
       "    <tr style=\"text-align: right;\">\n",
       "      <th></th>\n",
       "      <th>ID</th>\n",
       "      <th>var3</th>\n",
       "      <th>var15</th>\n",
       "      <th>imp_ent_var16_ult1</th>\n",
       "      <th>imp_op_var39_comer_ult1</th>\n",
       "      <th>imp_op_var39_comer_ult3</th>\n",
       "      <th>imp_op_var40_comer_ult1</th>\n",
       "      <th>imp_op_var40_comer_ult3</th>\n",
       "      <th>imp_op_var40_efect_ult1</th>\n",
       "      <th>imp_op_var40_efect_ult3</th>\n",
       "      <th>imp_op_var40_ult1</th>\n",
       "      <th>imp_op_var41_comer_ult1</th>\n",
       "      <th>imp_op_var41_comer_ult3</th>\n",
       "      <th>imp_op_var41_efect_ult1</th>\n",
       "      <th>imp_op_var41_efect_ult3</th>\n",
       "      <th>imp_op_var41_ult1</th>\n",
       "      <th>imp_op_var39_efect_ult1</th>\n",
       "      <th>imp_op_var39_efect_ult3</th>\n",
       "      <th>imp_op_var39_ult1</th>\n",
       "      <th>imp_sal_var16_ult1</th>\n",
       "      <th>ind_var1_0</th>\n",
       "      <th>ind_var1</th>\n",
       "      <th>ind_var2_0</th>\n",
       "      <th>ind_var2</th>\n",
       "      <th>ind_var5_0</th>\n",
       "      <th>ind_var5</th>\n",
       "      <th>ind_var6_0</th>\n",
       "      <th>ind_var6</th>\n",
       "      <th>ind_var8_0</th>\n",
       "      <th>ind_var8</th>\n",
       "      <th>ind_var12_0</th>\n",
       "      <th>ind_var12</th>\n",
       "      <th>ind_var13_0</th>\n",
       "      <th>ind_var13_corto_0</th>\n",
       "      <th>ind_var13_corto</th>\n",
       "      <th>ind_var13_largo_0</th>\n",
       "      <th>ind_var13_largo</th>\n",
       "      <th>ind_var13_medio_0</th>\n",
       "      <th>ind_var13_medio</th>\n",
       "      <th>ind_var13</th>\n",
       "      <th>...</th>\n",
       "      <th>saldo_medio_var5_ult1</th>\n",
       "      <th>saldo_medio_var5_ult3</th>\n",
       "      <th>saldo_medio_var8_hace2</th>\n",
       "      <th>saldo_medio_var8_hace3</th>\n",
       "      <th>saldo_medio_var8_ult1</th>\n",
       "      <th>saldo_medio_var8_ult3</th>\n",
       "      <th>saldo_medio_var12_hace2</th>\n",
       "      <th>saldo_medio_var12_hace3</th>\n",
       "      <th>saldo_medio_var12_ult1</th>\n",
       "      <th>saldo_medio_var12_ult3</th>\n",
       "      <th>saldo_medio_var13_corto_hace2</th>\n",
       "      <th>saldo_medio_var13_corto_hace3</th>\n",
       "      <th>saldo_medio_var13_corto_ult1</th>\n",
       "      <th>saldo_medio_var13_corto_ult3</th>\n",
       "      <th>saldo_medio_var13_largo_hace2</th>\n",
       "      <th>saldo_medio_var13_largo_hace3</th>\n",
       "      <th>saldo_medio_var13_largo_ult1</th>\n",
       "      <th>saldo_medio_var13_largo_ult3</th>\n",
       "      <th>saldo_medio_var13_medio_hace2</th>\n",
       "      <th>saldo_medio_var13_medio_hace3</th>\n",
       "      <th>saldo_medio_var13_medio_ult1</th>\n",
       "      <th>saldo_medio_var13_medio_ult3</th>\n",
       "      <th>saldo_medio_var17_hace2</th>\n",
       "      <th>saldo_medio_var17_hace3</th>\n",
       "      <th>saldo_medio_var17_ult1</th>\n",
       "      <th>saldo_medio_var17_ult3</th>\n",
       "      <th>saldo_medio_var29_hace2</th>\n",
       "      <th>saldo_medio_var29_hace3</th>\n",
       "      <th>saldo_medio_var29_ult1</th>\n",
       "      <th>saldo_medio_var29_ult3</th>\n",
       "      <th>saldo_medio_var33_hace2</th>\n",
       "      <th>saldo_medio_var33_hace3</th>\n",
       "      <th>saldo_medio_var33_ult1</th>\n",
       "      <th>saldo_medio_var33_ult3</th>\n",
       "      <th>saldo_medio_var44_hace2</th>\n",
       "      <th>saldo_medio_var44_hace3</th>\n",
       "      <th>saldo_medio_var44_ult1</th>\n",
       "      <th>saldo_medio_var44_ult3</th>\n",
       "      <th>var38</th>\n",
       "      <th>TARGET</th>\n",
       "    </tr>\n",
       "  </thead>\n",
       "  <tbody>\n",
       "    <tr>\n",
       "      <th>0</th>\n",
       "      <td>1</td>\n",
       "      <td>2</td>\n",
       "      <td>23</td>\n",
       "      <td>0.0</td>\n",
       "      <td>0.0</td>\n",
       "      <td>0.0</td>\n",
       "      <td>0.0</td>\n",
       "      <td>0.0</td>\n",
       "      <td>0.0</td>\n",
       "      <td>0.0</td>\n",
       "      <td>0.0</td>\n",
       "      <td>0.0</td>\n",
       "      <td>0.0</td>\n",
       "      <td>0.0</td>\n",
       "      <td>0.0</td>\n",
       "      <td>0.0</td>\n",
       "      <td>0.0</td>\n",
       "      <td>0.0</td>\n",
       "      <td>0.0</td>\n",
       "      <td>0.0</td>\n",
       "      <td>0</td>\n",
       "      <td>0</td>\n",
       "      <td>0</td>\n",
       "      <td>0</td>\n",
       "      <td>1</td>\n",
       "      <td>0</td>\n",
       "      <td>0</td>\n",
       "      <td>0</td>\n",
       "      <td>0</td>\n",
       "      <td>0</td>\n",
       "      <td>0</td>\n",
       "      <td>0</td>\n",
       "      <td>0</td>\n",
       "      <td>0</td>\n",
       "      <td>0</td>\n",
       "      <td>0</td>\n",
       "      <td>0</td>\n",
       "      <td>0</td>\n",
       "      <td>0</td>\n",
       "      <td>0</td>\n",
       "      <td>...</td>\n",
       "      <td>0.00</td>\n",
       "      <td>0.00</td>\n",
       "      <td>0.0</td>\n",
       "      <td>0.0</td>\n",
       "      <td>0.0</td>\n",
       "      <td>0.0</td>\n",
       "      <td>0.00</td>\n",
       "      <td>0.0</td>\n",
       "      <td>0.00</td>\n",
       "      <td>0.00</td>\n",
       "      <td>0.0</td>\n",
       "      <td>0.00</td>\n",
       "      <td>0.0</td>\n",
       "      <td>0.00</td>\n",
       "      <td>0.0</td>\n",
       "      <td>0.0</td>\n",
       "      <td>0.0</td>\n",
       "      <td>0.0</td>\n",
       "      <td>0.0</td>\n",
       "      <td>0</td>\n",
       "      <td>0</td>\n",
       "      <td>0.0</td>\n",
       "      <td>0.0</td>\n",
       "      <td>0.0</td>\n",
       "      <td>0.0</td>\n",
       "      <td>0.0</td>\n",
       "      <td>0.0</td>\n",
       "      <td>0.0</td>\n",
       "      <td>0.0</td>\n",
       "      <td>0.0</td>\n",
       "      <td>0.0</td>\n",
       "      <td>0.0</td>\n",
       "      <td>0.0</td>\n",
       "      <td>0.0</td>\n",
       "      <td>0.0</td>\n",
       "      <td>0.0</td>\n",
       "      <td>0.0</td>\n",
       "      <td>0.0</td>\n",
       "      <td>39205.170000</td>\n",
       "      <td>0</td>\n",
       "    </tr>\n",
       "    <tr>\n",
       "      <th>1</th>\n",
       "      <td>3</td>\n",
       "      <td>2</td>\n",
       "      <td>34</td>\n",
       "      <td>0.0</td>\n",
       "      <td>0.0</td>\n",
       "      <td>0.0</td>\n",
       "      <td>0.0</td>\n",
       "      <td>0.0</td>\n",
       "      <td>0.0</td>\n",
       "      <td>0.0</td>\n",
       "      <td>0.0</td>\n",
       "      <td>0.0</td>\n",
       "      <td>0.0</td>\n",
       "      <td>0.0</td>\n",
       "      <td>0.0</td>\n",
       "      <td>0.0</td>\n",
       "      <td>0.0</td>\n",
       "      <td>0.0</td>\n",
       "      <td>0.0</td>\n",
       "      <td>0.0</td>\n",
       "      <td>0</td>\n",
       "      <td>0</td>\n",
       "      <td>0</td>\n",
       "      <td>0</td>\n",
       "      <td>1</td>\n",
       "      <td>0</td>\n",
       "      <td>0</td>\n",
       "      <td>0</td>\n",
       "      <td>0</td>\n",
       "      <td>0</td>\n",
       "      <td>0</td>\n",
       "      <td>0</td>\n",
       "      <td>1</td>\n",
       "      <td>1</td>\n",
       "      <td>1</td>\n",
       "      <td>0</td>\n",
       "      <td>0</td>\n",
       "      <td>0</td>\n",
       "      <td>0</td>\n",
       "      <td>1</td>\n",
       "      <td>...</td>\n",
       "      <td>0.00</td>\n",
       "      <td>0.00</td>\n",
       "      <td>0.0</td>\n",
       "      <td>0.0</td>\n",
       "      <td>0.0</td>\n",
       "      <td>0.0</td>\n",
       "      <td>0.00</td>\n",
       "      <td>0.0</td>\n",
       "      <td>0.00</td>\n",
       "      <td>0.00</td>\n",
       "      <td>300.0</td>\n",
       "      <td>122.22</td>\n",
       "      <td>300.0</td>\n",
       "      <td>240.75</td>\n",
       "      <td>0.0</td>\n",
       "      <td>0.0</td>\n",
       "      <td>0.0</td>\n",
       "      <td>0.0</td>\n",
       "      <td>0.0</td>\n",
       "      <td>0</td>\n",
       "      <td>0</td>\n",
       "      <td>0.0</td>\n",
       "      <td>0.0</td>\n",
       "      <td>0.0</td>\n",
       "      <td>0.0</td>\n",
       "      <td>0.0</td>\n",
       "      <td>0.0</td>\n",
       "      <td>0.0</td>\n",
       "      <td>0.0</td>\n",
       "      <td>0.0</td>\n",
       "      <td>0.0</td>\n",
       "      <td>0.0</td>\n",
       "      <td>0.0</td>\n",
       "      <td>0.0</td>\n",
       "      <td>0.0</td>\n",
       "      <td>0.0</td>\n",
       "      <td>0.0</td>\n",
       "      <td>0.0</td>\n",
       "      <td>49278.030000</td>\n",
       "      <td>0</td>\n",
       "    </tr>\n",
       "    <tr>\n",
       "      <th>2</th>\n",
       "      <td>4</td>\n",
       "      <td>2</td>\n",
       "      <td>23</td>\n",
       "      <td>0.0</td>\n",
       "      <td>0.0</td>\n",
       "      <td>0.0</td>\n",
       "      <td>0.0</td>\n",
       "      <td>0.0</td>\n",
       "      <td>0.0</td>\n",
       "      <td>0.0</td>\n",
       "      <td>0.0</td>\n",
       "      <td>0.0</td>\n",
       "      <td>0.0</td>\n",
       "      <td>0.0</td>\n",
       "      <td>0.0</td>\n",
       "      <td>0.0</td>\n",
       "      <td>0.0</td>\n",
       "      <td>0.0</td>\n",
       "      <td>0.0</td>\n",
       "      <td>0.0</td>\n",
       "      <td>0</td>\n",
       "      <td>0</td>\n",
       "      <td>0</td>\n",
       "      <td>0</td>\n",
       "      <td>1</td>\n",
       "      <td>1</td>\n",
       "      <td>0</td>\n",
       "      <td>0</td>\n",
       "      <td>0</td>\n",
       "      <td>0</td>\n",
       "      <td>0</td>\n",
       "      <td>0</td>\n",
       "      <td>0</td>\n",
       "      <td>0</td>\n",
       "      <td>0</td>\n",
       "      <td>0</td>\n",
       "      <td>0</td>\n",
       "      <td>0</td>\n",
       "      <td>0</td>\n",
       "      <td>0</td>\n",
       "      <td>...</td>\n",
       "      <td>3.00</td>\n",
       "      <td>2.07</td>\n",
       "      <td>0.0</td>\n",
       "      <td>0.0</td>\n",
       "      <td>0.0</td>\n",
       "      <td>0.0</td>\n",
       "      <td>0.00</td>\n",
       "      <td>0.0</td>\n",
       "      <td>0.00</td>\n",
       "      <td>0.00</td>\n",
       "      <td>0.0</td>\n",
       "      <td>0.00</td>\n",
       "      <td>0.0</td>\n",
       "      <td>0.00</td>\n",
       "      <td>0.0</td>\n",
       "      <td>0.0</td>\n",
       "      <td>0.0</td>\n",
       "      <td>0.0</td>\n",
       "      <td>0.0</td>\n",
       "      <td>0</td>\n",
       "      <td>0</td>\n",
       "      <td>0.0</td>\n",
       "      <td>0.0</td>\n",
       "      <td>0.0</td>\n",
       "      <td>0.0</td>\n",
       "      <td>0.0</td>\n",
       "      <td>0.0</td>\n",
       "      <td>0.0</td>\n",
       "      <td>0.0</td>\n",
       "      <td>0.0</td>\n",
       "      <td>0.0</td>\n",
       "      <td>0.0</td>\n",
       "      <td>0.0</td>\n",
       "      <td>0.0</td>\n",
       "      <td>0.0</td>\n",
       "      <td>0.0</td>\n",
       "      <td>0.0</td>\n",
       "      <td>0.0</td>\n",
       "      <td>67333.770000</td>\n",
       "      <td>0</td>\n",
       "    </tr>\n",
       "    <tr>\n",
       "      <th>3</th>\n",
       "      <td>8</td>\n",
       "      <td>2</td>\n",
       "      <td>37</td>\n",
       "      <td>0.0</td>\n",
       "      <td>195.0</td>\n",
       "      <td>195.0</td>\n",
       "      <td>0.0</td>\n",
       "      <td>0.0</td>\n",
       "      <td>0.0</td>\n",
       "      <td>0.0</td>\n",
       "      <td>0.0</td>\n",
       "      <td>195.0</td>\n",
       "      <td>195.0</td>\n",
       "      <td>0.0</td>\n",
       "      <td>0.0</td>\n",
       "      <td>195.0</td>\n",
       "      <td>0.0</td>\n",
       "      <td>0.0</td>\n",
       "      <td>195.0</td>\n",
       "      <td>0.0</td>\n",
       "      <td>0</td>\n",
       "      <td>0</td>\n",
       "      <td>0</td>\n",
       "      <td>0</td>\n",
       "      <td>1</td>\n",
       "      <td>1</td>\n",
       "      <td>0</td>\n",
       "      <td>0</td>\n",
       "      <td>0</td>\n",
       "      <td>0</td>\n",
       "      <td>0</td>\n",
       "      <td>0</td>\n",
       "      <td>0</td>\n",
       "      <td>0</td>\n",
       "      <td>0</td>\n",
       "      <td>0</td>\n",
       "      <td>0</td>\n",
       "      <td>0</td>\n",
       "      <td>0</td>\n",
       "      <td>0</td>\n",
       "      <td>...</td>\n",
       "      <td>91.56</td>\n",
       "      <td>138.84</td>\n",
       "      <td>0.0</td>\n",
       "      <td>0.0</td>\n",
       "      <td>0.0</td>\n",
       "      <td>0.0</td>\n",
       "      <td>0.00</td>\n",
       "      <td>0.0</td>\n",
       "      <td>0.00</td>\n",
       "      <td>0.00</td>\n",
       "      <td>0.0</td>\n",
       "      <td>0.00</td>\n",
       "      <td>0.0</td>\n",
       "      <td>0.00</td>\n",
       "      <td>0.0</td>\n",
       "      <td>0.0</td>\n",
       "      <td>0.0</td>\n",
       "      <td>0.0</td>\n",
       "      <td>0.0</td>\n",
       "      <td>0</td>\n",
       "      <td>0</td>\n",
       "      <td>0.0</td>\n",
       "      <td>0.0</td>\n",
       "      <td>0.0</td>\n",
       "      <td>0.0</td>\n",
       "      <td>0.0</td>\n",
       "      <td>0.0</td>\n",
       "      <td>0.0</td>\n",
       "      <td>0.0</td>\n",
       "      <td>0.0</td>\n",
       "      <td>0.0</td>\n",
       "      <td>0.0</td>\n",
       "      <td>0.0</td>\n",
       "      <td>0.0</td>\n",
       "      <td>0.0</td>\n",
       "      <td>0.0</td>\n",
       "      <td>0.0</td>\n",
       "      <td>0.0</td>\n",
       "      <td>64007.970000</td>\n",
       "      <td>0</td>\n",
       "    </tr>\n",
       "    <tr>\n",
       "      <th>4</th>\n",
       "      <td>10</td>\n",
       "      <td>2</td>\n",
       "      <td>39</td>\n",
       "      <td>0.0</td>\n",
       "      <td>0.0</td>\n",
       "      <td>0.0</td>\n",
       "      <td>0.0</td>\n",
       "      <td>0.0</td>\n",
       "      <td>0.0</td>\n",
       "      <td>0.0</td>\n",
       "      <td>0.0</td>\n",
       "      <td>0.0</td>\n",
       "      <td>0.0</td>\n",
       "      <td>0.0</td>\n",
       "      <td>0.0</td>\n",
       "      <td>0.0</td>\n",
       "      <td>0.0</td>\n",
       "      <td>0.0</td>\n",
       "      <td>0.0</td>\n",
       "      <td>0.0</td>\n",
       "      <td>0</td>\n",
       "      <td>0</td>\n",
       "      <td>0</td>\n",
       "      <td>0</td>\n",
       "      <td>1</td>\n",
       "      <td>0</td>\n",
       "      <td>0</td>\n",
       "      <td>0</td>\n",
       "      <td>0</td>\n",
       "      <td>0</td>\n",
       "      <td>1</td>\n",
       "      <td>1</td>\n",
       "      <td>0</td>\n",
       "      <td>0</td>\n",
       "      <td>0</td>\n",
       "      <td>0</td>\n",
       "      <td>0</td>\n",
       "      <td>0</td>\n",
       "      <td>0</td>\n",
       "      <td>0</td>\n",
       "      <td>...</td>\n",
       "      <td>40501.08</td>\n",
       "      <td>13501.47</td>\n",
       "      <td>0.0</td>\n",
       "      <td>0.0</td>\n",
       "      <td>0.0</td>\n",
       "      <td>0.0</td>\n",
       "      <td>0.00</td>\n",
       "      <td>0.0</td>\n",
       "      <td>85501.89</td>\n",
       "      <td>85501.89</td>\n",
       "      <td>0.0</td>\n",
       "      <td>0.00</td>\n",
       "      <td>0.0</td>\n",
       "      <td>0.00</td>\n",
       "      <td>0.0</td>\n",
       "      <td>0.0</td>\n",
       "      <td>0.0</td>\n",
       "      <td>0.0</td>\n",
       "      <td>0.0</td>\n",
       "      <td>0</td>\n",
       "      <td>0</td>\n",
       "      <td>0.0</td>\n",
       "      <td>0.0</td>\n",
       "      <td>0.0</td>\n",
       "      <td>0.0</td>\n",
       "      <td>0.0</td>\n",
       "      <td>0.0</td>\n",
       "      <td>0.0</td>\n",
       "      <td>0.0</td>\n",
       "      <td>0.0</td>\n",
       "      <td>0.0</td>\n",
       "      <td>0.0</td>\n",
       "      <td>0.0</td>\n",
       "      <td>0.0</td>\n",
       "      <td>0.0</td>\n",
       "      <td>0.0</td>\n",
       "      <td>0.0</td>\n",
       "      <td>0.0</td>\n",
       "      <td>117310.979016</td>\n",
       "      <td>0</td>\n",
       "    </tr>\n",
       "    <tr>\n",
       "      <th>...</th>\n",
       "      <td>...</td>\n",
       "      <td>...</td>\n",
       "      <td>...</td>\n",
       "      <td>...</td>\n",
       "      <td>...</td>\n",
       "      <td>...</td>\n",
       "      <td>...</td>\n",
       "      <td>...</td>\n",
       "      <td>...</td>\n",
       "      <td>...</td>\n",
       "      <td>...</td>\n",
       "      <td>...</td>\n",
       "      <td>...</td>\n",
       "      <td>...</td>\n",
       "      <td>...</td>\n",
       "      <td>...</td>\n",
       "      <td>...</td>\n",
       "      <td>...</td>\n",
       "      <td>...</td>\n",
       "      <td>...</td>\n",
       "      <td>...</td>\n",
       "      <td>...</td>\n",
       "      <td>...</td>\n",
       "      <td>...</td>\n",
       "      <td>...</td>\n",
       "      <td>...</td>\n",
       "      <td>...</td>\n",
       "      <td>...</td>\n",
       "      <td>...</td>\n",
       "      <td>...</td>\n",
       "      <td>...</td>\n",
       "      <td>...</td>\n",
       "      <td>...</td>\n",
       "      <td>...</td>\n",
       "      <td>...</td>\n",
       "      <td>...</td>\n",
       "      <td>...</td>\n",
       "      <td>...</td>\n",
       "      <td>...</td>\n",
       "      <td>...</td>\n",
       "      <td>...</td>\n",
       "      <td>...</td>\n",
       "      <td>...</td>\n",
       "      <td>...</td>\n",
       "      <td>...</td>\n",
       "      <td>...</td>\n",
       "      <td>...</td>\n",
       "      <td>...</td>\n",
       "      <td>...</td>\n",
       "      <td>...</td>\n",
       "      <td>...</td>\n",
       "      <td>...</td>\n",
       "      <td>...</td>\n",
       "      <td>...</td>\n",
       "      <td>...</td>\n",
       "      <td>...</td>\n",
       "      <td>...</td>\n",
       "      <td>...</td>\n",
       "      <td>...</td>\n",
       "      <td>...</td>\n",
       "      <td>...</td>\n",
       "      <td>...</td>\n",
       "      <td>...</td>\n",
       "      <td>...</td>\n",
       "      <td>...</td>\n",
       "      <td>...</td>\n",
       "      <td>...</td>\n",
       "      <td>...</td>\n",
       "      <td>...</td>\n",
       "      <td>...</td>\n",
       "      <td>...</td>\n",
       "      <td>...</td>\n",
       "      <td>...</td>\n",
       "      <td>...</td>\n",
       "      <td>...</td>\n",
       "      <td>...</td>\n",
       "      <td>...</td>\n",
       "      <td>...</td>\n",
       "      <td>...</td>\n",
       "      <td>...</td>\n",
       "      <td>...</td>\n",
       "    </tr>\n",
       "    <tr>\n",
       "      <th>76015</th>\n",
       "      <td>151829</td>\n",
       "      <td>2</td>\n",
       "      <td>48</td>\n",
       "      <td>0.0</td>\n",
       "      <td>0.0</td>\n",
       "      <td>0.0</td>\n",
       "      <td>0.0</td>\n",
       "      <td>0.0</td>\n",
       "      <td>0.0</td>\n",
       "      <td>0.0</td>\n",
       "      <td>0.0</td>\n",
       "      <td>0.0</td>\n",
       "      <td>0.0</td>\n",
       "      <td>0.0</td>\n",
       "      <td>0.0</td>\n",
       "      <td>0.0</td>\n",
       "      <td>0.0</td>\n",
       "      <td>0.0</td>\n",
       "      <td>0.0</td>\n",
       "      <td>0.0</td>\n",
       "      <td>0</td>\n",
       "      <td>0</td>\n",
       "      <td>0</td>\n",
       "      <td>0</td>\n",
       "      <td>1</td>\n",
       "      <td>0</td>\n",
       "      <td>0</td>\n",
       "      <td>0</td>\n",
       "      <td>0</td>\n",
       "      <td>0</td>\n",
       "      <td>0</td>\n",
       "      <td>0</td>\n",
       "      <td>0</td>\n",
       "      <td>0</td>\n",
       "      <td>0</td>\n",
       "      <td>0</td>\n",
       "      <td>0</td>\n",
       "      <td>0</td>\n",
       "      <td>0</td>\n",
       "      <td>0</td>\n",
       "      <td>...</td>\n",
       "      <td>0.00</td>\n",
       "      <td>0.00</td>\n",
       "      <td>0.0</td>\n",
       "      <td>0.0</td>\n",
       "      <td>0.0</td>\n",
       "      <td>0.0</td>\n",
       "      <td>0.00</td>\n",
       "      <td>0.0</td>\n",
       "      <td>0.00</td>\n",
       "      <td>0.00</td>\n",
       "      <td>0.0</td>\n",
       "      <td>0.00</td>\n",
       "      <td>0.0</td>\n",
       "      <td>0.00</td>\n",
       "      <td>0.0</td>\n",
       "      <td>0.0</td>\n",
       "      <td>0.0</td>\n",
       "      <td>0.0</td>\n",
       "      <td>0.0</td>\n",
       "      <td>0</td>\n",
       "      <td>0</td>\n",
       "      <td>0.0</td>\n",
       "      <td>0.0</td>\n",
       "      <td>0.0</td>\n",
       "      <td>0.0</td>\n",
       "      <td>0.0</td>\n",
       "      <td>0.0</td>\n",
       "      <td>0.0</td>\n",
       "      <td>0.0</td>\n",
       "      <td>0.0</td>\n",
       "      <td>0.0</td>\n",
       "      <td>0.0</td>\n",
       "      <td>0.0</td>\n",
       "      <td>0.0</td>\n",
       "      <td>0.0</td>\n",
       "      <td>0.0</td>\n",
       "      <td>0.0</td>\n",
       "      <td>0.0</td>\n",
       "      <td>60926.490000</td>\n",
       "      <td>0</td>\n",
       "    </tr>\n",
       "    <tr>\n",
       "      <th>76016</th>\n",
       "      <td>151830</td>\n",
       "      <td>2</td>\n",
       "      <td>39</td>\n",
       "      <td>0.0</td>\n",
       "      <td>0.0</td>\n",
       "      <td>0.0</td>\n",
       "      <td>0.0</td>\n",
       "      <td>0.0</td>\n",
       "      <td>0.0</td>\n",
       "      <td>0.0</td>\n",
       "      <td>0.0</td>\n",
       "      <td>0.0</td>\n",
       "      <td>0.0</td>\n",
       "      <td>0.0</td>\n",
       "      <td>0.0</td>\n",
       "      <td>0.0</td>\n",
       "      <td>0.0</td>\n",
       "      <td>0.0</td>\n",
       "      <td>0.0</td>\n",
       "      <td>0.0</td>\n",
       "      <td>0</td>\n",
       "      <td>0</td>\n",
       "      <td>0</td>\n",
       "      <td>0</td>\n",
       "      <td>1</td>\n",
       "      <td>0</td>\n",
       "      <td>0</td>\n",
       "      <td>0</td>\n",
       "      <td>0</td>\n",
       "      <td>0</td>\n",
       "      <td>1</td>\n",
       "      <td>1</td>\n",
       "      <td>0</td>\n",
       "      <td>0</td>\n",
       "      <td>0</td>\n",
       "      <td>0</td>\n",
       "      <td>0</td>\n",
       "      <td>0</td>\n",
       "      <td>0</td>\n",
       "      <td>0</td>\n",
       "      <td>...</td>\n",
       "      <td>0.00</td>\n",
       "      <td>0.00</td>\n",
       "      <td>0.0</td>\n",
       "      <td>0.0</td>\n",
       "      <td>0.0</td>\n",
       "      <td>0.0</td>\n",
       "      <td>15498.42</td>\n",
       "      <td>0.0</td>\n",
       "      <td>48175.62</td>\n",
       "      <td>31837.02</td>\n",
       "      <td>0.0</td>\n",
       "      <td>0.00</td>\n",
       "      <td>0.0</td>\n",
       "      <td>0.00</td>\n",
       "      <td>0.0</td>\n",
       "      <td>0.0</td>\n",
       "      <td>0.0</td>\n",
       "      <td>0.0</td>\n",
       "      <td>0.0</td>\n",
       "      <td>0</td>\n",
       "      <td>0</td>\n",
       "      <td>0.0</td>\n",
       "      <td>0.0</td>\n",
       "      <td>0.0</td>\n",
       "      <td>0.0</td>\n",
       "      <td>0.0</td>\n",
       "      <td>0.0</td>\n",
       "      <td>0.0</td>\n",
       "      <td>0.0</td>\n",
       "      <td>0.0</td>\n",
       "      <td>0.0</td>\n",
       "      <td>0.0</td>\n",
       "      <td>0.0</td>\n",
       "      <td>0.0</td>\n",
       "      <td>0.0</td>\n",
       "      <td>0.0</td>\n",
       "      <td>0.0</td>\n",
       "      <td>0.0</td>\n",
       "      <td>118634.520000</td>\n",
       "      <td>0</td>\n",
       "    </tr>\n",
       "    <tr>\n",
       "      <th>76017</th>\n",
       "      <td>151835</td>\n",
       "      <td>2</td>\n",
       "      <td>23</td>\n",
       "      <td>0.0</td>\n",
       "      <td>0.0</td>\n",
       "      <td>0.0</td>\n",
       "      <td>0.0</td>\n",
       "      <td>0.0</td>\n",
       "      <td>0.0</td>\n",
       "      <td>0.0</td>\n",
       "      <td>0.0</td>\n",
       "      <td>0.0</td>\n",
       "      <td>0.0</td>\n",
       "      <td>0.0</td>\n",
       "      <td>0.0</td>\n",
       "      <td>0.0</td>\n",
       "      <td>0.0</td>\n",
       "      <td>0.0</td>\n",
       "      <td>0.0</td>\n",
       "      <td>0.0</td>\n",
       "      <td>0</td>\n",
       "      <td>0</td>\n",
       "      <td>0</td>\n",
       "      <td>0</td>\n",
       "      <td>1</td>\n",
       "      <td>1</td>\n",
       "      <td>0</td>\n",
       "      <td>0</td>\n",
       "      <td>0</td>\n",
       "      <td>0</td>\n",
       "      <td>0</td>\n",
       "      <td>0</td>\n",
       "      <td>0</td>\n",
       "      <td>0</td>\n",
       "      <td>0</td>\n",
       "      <td>0</td>\n",
       "      <td>0</td>\n",
       "      <td>0</td>\n",
       "      <td>0</td>\n",
       "      <td>0</td>\n",
       "      <td>...</td>\n",
       "      <td>3.00</td>\n",
       "      <td>3.00</td>\n",
       "      <td>0.0</td>\n",
       "      <td>0.0</td>\n",
       "      <td>0.0</td>\n",
       "      <td>0.0</td>\n",
       "      <td>0.00</td>\n",
       "      <td>0.0</td>\n",
       "      <td>0.00</td>\n",
       "      <td>0.00</td>\n",
       "      <td>0.0</td>\n",
       "      <td>0.00</td>\n",
       "      <td>0.0</td>\n",
       "      <td>0.00</td>\n",
       "      <td>0.0</td>\n",
       "      <td>0.0</td>\n",
       "      <td>0.0</td>\n",
       "      <td>0.0</td>\n",
       "      <td>0.0</td>\n",
       "      <td>0</td>\n",
       "      <td>0</td>\n",
       "      <td>0.0</td>\n",
       "      <td>0.0</td>\n",
       "      <td>0.0</td>\n",
       "      <td>0.0</td>\n",
       "      <td>0.0</td>\n",
       "      <td>0.0</td>\n",
       "      <td>0.0</td>\n",
       "      <td>0.0</td>\n",
       "      <td>0.0</td>\n",
       "      <td>0.0</td>\n",
       "      <td>0.0</td>\n",
       "      <td>0.0</td>\n",
       "      <td>0.0</td>\n",
       "      <td>0.0</td>\n",
       "      <td>0.0</td>\n",
       "      <td>0.0</td>\n",
       "      <td>0.0</td>\n",
       "      <td>74028.150000</td>\n",
       "      <td>0</td>\n",
       "    </tr>\n",
       "    <tr>\n",
       "      <th>76018</th>\n",
       "      <td>151836</td>\n",
       "      <td>2</td>\n",
       "      <td>25</td>\n",
       "      <td>0.0</td>\n",
       "      <td>0.0</td>\n",
       "      <td>0.0</td>\n",
       "      <td>0.0</td>\n",
       "      <td>0.0</td>\n",
       "      <td>0.0</td>\n",
       "      <td>0.0</td>\n",
       "      <td>0.0</td>\n",
       "      <td>0.0</td>\n",
       "      <td>0.0</td>\n",
       "      <td>0.0</td>\n",
       "      <td>0.0</td>\n",
       "      <td>0.0</td>\n",
       "      <td>0.0</td>\n",
       "      <td>0.0</td>\n",
       "      <td>0.0</td>\n",
       "      <td>0.0</td>\n",
       "      <td>0</td>\n",
       "      <td>0</td>\n",
       "      <td>0</td>\n",
       "      <td>0</td>\n",
       "      <td>1</td>\n",
       "      <td>1</td>\n",
       "      <td>0</td>\n",
       "      <td>0</td>\n",
       "      <td>0</td>\n",
       "      <td>0</td>\n",
       "      <td>0</td>\n",
       "      <td>0</td>\n",
       "      <td>0</td>\n",
       "      <td>0</td>\n",
       "      <td>0</td>\n",
       "      <td>0</td>\n",
       "      <td>0</td>\n",
       "      <td>0</td>\n",
       "      <td>0</td>\n",
       "      <td>0</td>\n",
       "      <td>...</td>\n",
       "      <td>3.00</td>\n",
       "      <td>2.58</td>\n",
       "      <td>0.0</td>\n",
       "      <td>0.0</td>\n",
       "      <td>0.0</td>\n",
       "      <td>0.0</td>\n",
       "      <td>0.00</td>\n",
       "      <td>0.0</td>\n",
       "      <td>0.00</td>\n",
       "      <td>0.00</td>\n",
       "      <td>0.0</td>\n",
       "      <td>0.00</td>\n",
       "      <td>0.0</td>\n",
       "      <td>0.00</td>\n",
       "      <td>0.0</td>\n",
       "      <td>0.0</td>\n",
       "      <td>0.0</td>\n",
       "      <td>0.0</td>\n",
       "      <td>0.0</td>\n",
       "      <td>0</td>\n",
       "      <td>0</td>\n",
       "      <td>0.0</td>\n",
       "      <td>0.0</td>\n",
       "      <td>0.0</td>\n",
       "      <td>0.0</td>\n",
       "      <td>0.0</td>\n",
       "      <td>0.0</td>\n",
       "      <td>0.0</td>\n",
       "      <td>0.0</td>\n",
       "      <td>0.0</td>\n",
       "      <td>0.0</td>\n",
       "      <td>0.0</td>\n",
       "      <td>0.0</td>\n",
       "      <td>0.0</td>\n",
       "      <td>0.0</td>\n",
       "      <td>0.0</td>\n",
       "      <td>0.0</td>\n",
       "      <td>0.0</td>\n",
       "      <td>84278.160000</td>\n",
       "      <td>0</td>\n",
       "    </tr>\n",
       "    <tr>\n",
       "      <th>76019</th>\n",
       "      <td>151838</td>\n",
       "      <td>2</td>\n",
       "      <td>46</td>\n",
       "      <td>0.0</td>\n",
       "      <td>0.0</td>\n",
       "      <td>0.0</td>\n",
       "      <td>0.0</td>\n",
       "      <td>0.0</td>\n",
       "      <td>0.0</td>\n",
       "      <td>0.0</td>\n",
       "      <td>0.0</td>\n",
       "      <td>0.0</td>\n",
       "      <td>0.0</td>\n",
       "      <td>0.0</td>\n",
       "      <td>0.0</td>\n",
       "      <td>0.0</td>\n",
       "      <td>0.0</td>\n",
       "      <td>0.0</td>\n",
       "      <td>0.0</td>\n",
       "      <td>0.0</td>\n",
       "      <td>0</td>\n",
       "      <td>0</td>\n",
       "      <td>0</td>\n",
       "      <td>0</td>\n",
       "      <td>1</td>\n",
       "      <td>0</td>\n",
       "      <td>0</td>\n",
       "      <td>0</td>\n",
       "      <td>0</td>\n",
       "      <td>0</td>\n",
       "      <td>0</td>\n",
       "      <td>0</td>\n",
       "      <td>0</td>\n",
       "      <td>0</td>\n",
       "      <td>0</td>\n",
       "      <td>0</td>\n",
       "      <td>0</td>\n",
       "      <td>0</td>\n",
       "      <td>0</td>\n",
       "      <td>0</td>\n",
       "      <td>...</td>\n",
       "      <td>0.00</td>\n",
       "      <td>0.00</td>\n",
       "      <td>0.0</td>\n",
       "      <td>0.0</td>\n",
       "      <td>0.0</td>\n",
       "      <td>0.0</td>\n",
       "      <td>0.00</td>\n",
       "      <td>0.0</td>\n",
       "      <td>0.00</td>\n",
       "      <td>0.00</td>\n",
       "      <td>0.0</td>\n",
       "      <td>0.00</td>\n",
       "      <td>0.0</td>\n",
       "      <td>0.00</td>\n",
       "      <td>0.0</td>\n",
       "      <td>0.0</td>\n",
       "      <td>0.0</td>\n",
       "      <td>0.0</td>\n",
       "      <td>0.0</td>\n",
       "      <td>0</td>\n",
       "      <td>0</td>\n",
       "      <td>0.0</td>\n",
       "      <td>0.0</td>\n",
       "      <td>0.0</td>\n",
       "      <td>0.0</td>\n",
       "      <td>0.0</td>\n",
       "      <td>0.0</td>\n",
       "      <td>0.0</td>\n",
       "      <td>0.0</td>\n",
       "      <td>0.0</td>\n",
       "      <td>0.0</td>\n",
       "      <td>0.0</td>\n",
       "      <td>0.0</td>\n",
       "      <td>0.0</td>\n",
       "      <td>0.0</td>\n",
       "      <td>0.0</td>\n",
       "      <td>0.0</td>\n",
       "      <td>0.0</td>\n",
       "      <td>117310.979016</td>\n",
       "      <td>0</td>\n",
       "    </tr>\n",
       "  </tbody>\n",
       "</table>\n",
       "<p>76020 rows × 371 columns</p>\n",
       "</div>\n",
       "      <button class=\"colab-df-convert\" onclick=\"convertToInteractive('df-15ea9d31-798c-40de-b218-fe89dbe21e37')\"\n",
       "              title=\"Convert this dataframe to an interactive table.\"\n",
       "              style=\"display:none;\">\n",
       "        \n",
       "  <svg xmlns=\"http://www.w3.org/2000/svg\" height=\"24px\"viewBox=\"0 0 24 24\"\n",
       "       width=\"24px\">\n",
       "    <path d=\"M0 0h24v24H0V0z\" fill=\"none\"/>\n",
       "    <path d=\"M18.56 5.44l.94 2.06.94-2.06 2.06-.94-2.06-.94-.94-2.06-.94 2.06-2.06.94zm-11 1L8.5 8.5l.94-2.06 2.06-.94-2.06-.94L8.5 2.5l-.94 2.06-2.06.94zm10 10l.94 2.06.94-2.06 2.06-.94-2.06-.94-.94-2.06-.94 2.06-2.06.94z\"/><path d=\"M17.41 7.96l-1.37-1.37c-.4-.4-.92-.59-1.43-.59-.52 0-1.04.2-1.43.59L10.3 9.45l-7.72 7.72c-.78.78-.78 2.05 0 2.83L4 21.41c.39.39.9.59 1.41.59.51 0 1.02-.2 1.41-.59l7.78-7.78 2.81-2.81c.8-.78.8-2.07 0-2.86zM5.41 20L4 18.59l7.72-7.72 1.47 1.35L5.41 20z\"/>\n",
       "  </svg>\n",
       "      </button>\n",
       "      \n",
       "  <style>\n",
       "    .colab-df-container {\n",
       "      display:flex;\n",
       "      flex-wrap:wrap;\n",
       "      gap: 12px;\n",
       "    }\n",
       "\n",
       "    .colab-df-convert {\n",
       "      background-color: #E8F0FE;\n",
       "      border: none;\n",
       "      border-radius: 50%;\n",
       "      cursor: pointer;\n",
       "      display: none;\n",
       "      fill: #1967D2;\n",
       "      height: 32px;\n",
       "      padding: 0 0 0 0;\n",
       "      width: 32px;\n",
       "    }\n",
       "\n",
       "    .colab-df-convert:hover {\n",
       "      background-color: #E2EBFA;\n",
       "      box-shadow: 0px 1px 2px rgba(60, 64, 67, 0.3), 0px 1px 3px 1px rgba(60, 64, 67, 0.15);\n",
       "      fill: #174EA6;\n",
       "    }\n",
       "\n",
       "    [theme=dark] .colab-df-convert {\n",
       "      background-color: #3B4455;\n",
       "      fill: #D2E3FC;\n",
       "    }\n",
       "\n",
       "    [theme=dark] .colab-df-convert:hover {\n",
       "      background-color: #434B5C;\n",
       "      box-shadow: 0px 1px 3px 1px rgba(0, 0, 0, 0.15);\n",
       "      filter: drop-shadow(0px 1px 2px rgba(0, 0, 0, 0.3));\n",
       "      fill: #FFFFFF;\n",
       "    }\n",
       "  </style>\n",
       "\n",
       "      <script>\n",
       "        const buttonEl =\n",
       "          document.querySelector('#df-15ea9d31-798c-40de-b218-fe89dbe21e37 button.colab-df-convert');\n",
       "        buttonEl.style.display =\n",
       "          google.colab.kernel.accessAllowed ? 'block' : 'none';\n",
       "\n",
       "        async function convertToInteractive(key) {\n",
       "          const element = document.querySelector('#df-15ea9d31-798c-40de-b218-fe89dbe21e37');\n",
       "          const dataTable =\n",
       "            await google.colab.kernel.invokeFunction('convertToInteractive',\n",
       "                                                     [key], {});\n",
       "          if (!dataTable) return;\n",
       "\n",
       "          const docLinkHtml = 'Like what you see? Visit the ' +\n",
       "            '<a target=\"_blank\" href=https://colab.research.google.com/notebooks/data_table.ipynb>data table notebook</a>'\n",
       "            + ' to learn more about interactive tables.';\n",
       "          element.innerHTML = '';\n",
       "          dataTable['output_type'] = 'display_data';\n",
       "          await google.colab.output.renderOutput(dataTable, element);\n",
       "          const docLink = document.createElement('div');\n",
       "          docLink.innerHTML = docLinkHtml;\n",
       "          element.appendChild(docLink);\n",
       "        }\n",
       "      </script>\n",
       "    </div>\n",
       "  </div>\n",
       "  "
      ],
      "text/plain": [
       "           ID  var3  var15  ...  saldo_medio_var44_ult3          var38  TARGET\n",
       "0           1     2     23  ...                     0.0   39205.170000       0\n",
       "1           3     2     34  ...                     0.0   49278.030000       0\n",
       "2           4     2     23  ...                     0.0   67333.770000       0\n",
       "3           8     2     37  ...                     0.0   64007.970000       0\n",
       "4          10     2     39  ...                     0.0  117310.979016       0\n",
       "...       ...   ...    ...  ...                     ...            ...     ...\n",
       "76015  151829     2     48  ...                     0.0   60926.490000       0\n",
       "76016  151830     2     39  ...                     0.0  118634.520000       0\n",
       "76017  151835     2     23  ...                     0.0   74028.150000       0\n",
       "76018  151836     2     25  ...                     0.0   84278.160000       0\n",
       "76019  151838     2     46  ...                     0.0  117310.979016       0\n",
       "\n",
       "[76020 rows x 371 columns]"
      ]
     },
     "execution_count": 7,
     "metadata": {},
     "output_type": "execute_result"
    }
   ],
   "source": [
    "data_train.shape\n",
    "data_train"
   ]
  },
  {
   "cell_type": "code",
   "execution_count": null,
   "metadata": {
    "colab": {
     "base_uri": "https://localhost:8080/"
    },
    "executionInfo": {
     "elapsed": 17,
     "status": "ok",
     "timestamp": 1641452659827,
     "user": {
      "displayName": "Gia Bảo Hoàng",
      "photoUrl": "https://lh3.googleusercontent.com/a/default-user=s64",
      "userId": "15531827273777406165"
     },
     "user_tz": -420
    },
    "id": "npAQbw_EqBHv",
    "outputId": "a2d90c33-1889-4de1-cfc6-f2bb0439d620"
   },
   "outputs": [
    {
     "data": {
      "text/plain": [
       "(75818, 370)"
      ]
     },
     "execution_count": 8,
     "metadata": {},
     "output_type": "execute_result"
    }
   ],
   "source": [
    "data_test.shape"
   ]
  },
  {
   "cell_type": "markdown",
   "metadata": {
    "id": "l3vB9LCJMvNh"
   },
   "source": [
    "# Tách input, output của tập train"
   ]
  },
  {
   "cell_type": "code",
   "execution_count": null,
   "metadata": {
    "id": "xS6kwdq8MyQm"
   },
   "outputs": [],
   "source": [
    "X_train = data_train.drop(['ID', 'TARGET'], axis = 1)\n",
    "y_train = data_train.TARGET"
   ]
  },
  {
   "cell_type": "code",
   "execution_count": null,
   "metadata": {
    "id": "MHbQ8fZFOrR6"
   },
   "outputs": [],
   "source": [
    "X_test = data_test.drop(['ID'], axis = 1)"
   ]
  },
  {
   "cell_type": "markdown",
   "metadata": {
    "id": "H9kJHsNpqaRV"
   },
   "source": [
    "# Khám phá dữ liệu"
   ]
  },
  {
   "cell_type": "markdown",
   "metadata": {
    "id": "vcwjpwjoVpM6"
   },
   "source": [
    "## Kiểu dữ liệu của các cột là gì?"
   ]
  },
  {
   "cell_type": "code",
   "execution_count": null,
   "metadata": {
    "colab": {
     "base_uri": "https://localhost:8080/"
    },
    "executionInfo": {
     "elapsed": 14,
     "status": "ok",
     "timestamp": 1641452659829,
     "user": {
      "displayName": "Gia Bảo Hoàng",
      "photoUrl": "https://lh3.googleusercontent.com/a/default-user=s64",
      "userId": "15531827273777406165"
     },
     "user_tz": -420
    },
    "id": "WTe1j4S7VG2d",
    "outputId": "13756086-2941-498c-cfa4-c16d718e04a8"
   },
   "outputs": [
    {
     "name": "stdout",
     "output_type": "stream",
     "text": [
      "<class 'pandas.core.frame.DataFrame'>\n",
      "RangeIndex: 76020 entries, 0 to 76019\n",
      "Columns: 369 entries, var3 to var38\n",
      "dtypes: float64(111), int64(258)\n",
      "memory usage: 214.0 MB\n"
     ]
    }
   ],
   "source": [
    "X_train.info()"
   ]
  },
  {
   "cell_type": "markdown",
   "metadata": {
    "id": "SMcbT777VulA"
   },
   "source": [
    "--> Các cột đều là kiểu dữ liệu số"
   ]
  },
  {
   "cell_type": "markdown",
   "metadata": {
    "id": "csZEqrzq6CK_"
   },
   "source": [
    "## Tìm xem có giá trị nào còn thiếu không"
   ]
  },
  {
   "cell_type": "code",
   "execution_count": null,
   "metadata": {
    "colab": {
     "base_uri": "https://localhost:8080/"
    },
    "executionInfo": {
     "elapsed": 12,
     "status": "ok",
     "timestamp": 1641452659830,
     "user": {
      "displayName": "Gia Bảo Hoàng",
      "photoUrl": "https://lh3.googleusercontent.com/a/default-user=s64",
      "userId": "15531827273777406165"
     },
     "user_tz": -420
    },
    "id": "MiZ6-wjG6Igc",
    "outputId": "a28a16f6-6aad-4faf-aebb-1be54ac01c29"
   },
   "outputs": [
    {
     "data": {
      "text/plain": [
       "False"
      ]
     },
     "execution_count": 12,
     "metadata": {},
     "output_type": "execute_result"
    }
   ],
   "source": [
    "X_train.isnull().values.any()"
   ]
  },
  {
   "cell_type": "markdown",
   "metadata": {
    "id": "RNzWdijHrDjU"
   },
   "source": [
    "## Tìm xem cột nào trùng nhau"
   ]
  },
  {
   "cell_type": "code",
   "execution_count": null,
   "metadata": {
    "id": "dk--lXU8_qtp"
   },
   "outputs": [],
   "source": [
    "is_dup = X_train.T.duplicated().T\n",
    "is_dup = is_dup.to_dict()"
   ]
  },
  {
   "cell_type": "code",
   "execution_count": null,
   "metadata": {
    "colab": {
     "base_uri": "https://localhost:8080/"
    },
    "executionInfo": {
     "elapsed": 22,
     "status": "ok",
     "timestamp": 1641452684228,
     "user": {
      "displayName": "Gia Bảo Hoàng",
      "photoUrl": "https://lh3.googleusercontent.com/a/default-user=s64",
      "userId": "15531827273777406165"
     },
     "user_tz": -420
    },
    "id": "vqX82g5jBaBw",
    "outputId": "a33c499f-0376-4358-9717-faefb59579e6"
   },
   "outputs": [
    {
     "name": "stdout",
     "output_type": "stream",
     "text": [
      "62\n"
     ]
    }
   ],
   "source": [
    "duplicated_cols = []\n",
    "\n",
    "for col in is_dup:\n",
    "  if (is_dup[col] == True):\n",
    "    duplicated_cols.append(col)\n",
    "  \n",
    "print(len(duplicated_cols))\n",
    "# duplicated_cols"
   ]
  },
  {
   "cell_type": "markdown",
   "metadata": {
    "id": "QTj2VuPuvHzV"
   },
   "source": [
    "## Tìm xem cột nào chỉ có 1 giá trị"
   ]
  },
  {
   "cell_type": "code",
   "execution_count": null,
   "metadata": {
    "colab": {
     "base_uri": "https://localhost:8080/"
    },
    "executionInfo": {
     "elapsed": 21,
     "status": "ok",
     "timestamp": 1641452684229,
     "user": {
      "displayName": "Gia Bảo Hoàng",
      "photoUrl": "https://lh3.googleusercontent.com/a/default-user=s64",
      "userId": "15531827273777406165"
     },
     "user_tz": -420
    },
    "id": "7A-te_Hou2Gv",
    "outputId": "a898b9d1-8923-4cca-efea-c4823093be79"
   },
   "outputs": [
    {
     "data": {
      "text/plain": [
       "369"
      ]
     },
     "execution_count": 15,
     "metadata": {},
     "output_type": "execute_result"
    }
   ],
   "source": [
    "col_list = []\n",
    "for col in X_train.columns:\n",
    "  if (col not in ['ID', 'TARGET']):\n",
    "    col_list.append(col)\n",
    "len(col_list)"
   ]
  },
  {
   "cell_type": "code",
   "execution_count": null,
   "metadata": {
    "colab": {
     "base_uri": "https://localhost:8080/"
    },
    "executionInfo": {
     "elapsed": 834,
     "status": "ok",
     "timestamp": 1641452685048,
     "user": {
      "displayName": "Gia Bảo Hoàng",
      "photoUrl": "https://lh3.googleusercontent.com/a/default-user=s64",
      "userId": "15531827273777406165"
     },
     "user_tz": -420
    },
    "id": "0pgVjozivmEr",
    "outputId": "3f621e2d-ef1e-436e-ab09-a35ee90c16ff"
   },
   "outputs": [
    {
     "name": "stdout",
     "output_type": "stream",
     "text": [
      "34\n"
     ]
    }
   ],
   "source": [
    "unique_cols = []\n",
    "for col in col_list:\n",
    "  if (len(np.unique(X_train[col])) < 2):\n",
    "    unique_cols.append(col)\n",
    "print(len(unique_cols))\n",
    "# unique_cols "
   ]
  },
  {
   "cell_type": "markdown",
   "metadata": {
    "id": "fPpa_hMBvmeQ"
   },
   "source": [
    "## Tiền xử lý dữ liệu cơ bản"
   ]
  },
  {
   "cell_type": "markdown",
   "metadata": {
    "id": "eWr1PgYuhjm9"
   },
   "source": [
    "Xóa các cột bị trùng nhau và các cột chỉ có 1 giá trị"
   ]
  },
  {
   "cell_type": "code",
   "execution_count": null,
   "metadata": {
    "colab": {
     "base_uri": "https://localhost:8080/"
    },
    "executionInfo": {
     "elapsed": 21,
     "status": "ok",
     "timestamp": 1641452685050,
     "user": {
      "displayName": "Gia Bảo Hoàng",
      "photoUrl": "https://lh3.googleusercontent.com/a/default-user=s64",
      "userId": "15531827273777406165"
     },
     "user_tz": -420
    },
    "id": "epEdV5Cqz1L0",
    "outputId": "b430d2d0-9ed7-4953-c33c-b29bca316259"
   },
   "outputs": [
    {
     "name": "stdout",
     "output_type": "stream",
     "text": [
      "63\n"
     ]
    }
   ],
   "source": [
    "drop_cols = set(duplicated_cols).union(set(unique_cols))\n",
    "drop_cols = list(drop_cols)\n",
    "print(len(drop_cols))\n",
    "# drop_cols"
   ]
  },
  {
   "cell_type": "code",
   "execution_count": null,
   "metadata": {
    "colab": {
     "base_uri": "https://localhost:8080/"
    },
    "executionInfo": {
     "elapsed": 21,
     "status": "ok",
     "timestamp": 1641452685051,
     "user": {
      "displayName": "Gia Bảo Hoàng",
      "photoUrl": "https://lh3.googleusercontent.com/a/default-user=s64",
      "userId": "15531827273777406165"
     },
     "user_tz": -420
    },
    "id": "sPXUhAznve_-",
    "outputId": "6acc84cf-e077-42a8-a7d3-0e775e34c139"
   },
   "outputs": [
    {
     "data": {
      "text/plain": [
       "(76020, 306)"
      ]
     },
     "execution_count": 18,
     "metadata": {},
     "output_type": "execute_result"
    }
   ],
   "source": [
    "X_train.drop(drop_cols, axis = 1, inplace = True)\n",
    "X_train.shape"
   ]
  },
  {
   "cell_type": "code",
   "execution_count": null,
   "metadata": {
    "colab": {
     "base_uri": "https://localhost:8080/"
    },
    "executionInfo": {
     "elapsed": 16,
     "status": "ok",
     "timestamp": 1641452685052,
     "user": {
      "displayName": "Gia Bảo Hoàng",
      "photoUrl": "https://lh3.googleusercontent.com/a/default-user=s64",
      "userId": "15531827273777406165"
     },
     "user_tz": -420
    },
    "id": "qv57ybGsvlFC",
    "outputId": "2f7a08d8-6a6e-48dc-8caf-9be0f76bf76d"
   },
   "outputs": [
    {
     "data": {
      "text/plain": [
       "(75818, 306)"
      ]
     },
     "execution_count": 19,
     "metadata": {},
     "output_type": "execute_result"
    }
   ],
   "source": [
    "X_test.drop(drop_cols, axis = 1, inplace = True)\n",
    "X_test.shape"
   ]
  },
  {
   "cell_type": "markdown",
   "metadata": {
    "id": "wdJMc8t44LJt"
   },
   "source": [
    "# Khám phá chi tiết hơn về dữ liệu các cột"
   ]
  },
  {
   "cell_type": "code",
   "execution_count": null,
   "metadata": {
    "colab": {
     "base_uri": "https://localhost:8080/",
     "height": 393
    },
    "executionInfo": {
     "elapsed": 1143,
     "status": "ok",
     "timestamp": 1641452686186,
     "user": {
      "displayName": "Gia Bảo Hoàng",
      "photoUrl": "https://lh3.googleusercontent.com/a/default-user=s64",
      "userId": "15531827273777406165"
     },
     "user_tz": -420
    },
    "id": "PLL2V5Fq4Qnf",
    "outputId": "6929bfd8-b4ac-442f-edcd-03656677ffa9"
   },
   "outputs": [
    {
     "data": {
      "text/html": [
       "\n",
       "  <div id=\"df-aedd0e02-ce75-4061-be92-0ad11455cbda\">\n",
       "    <div class=\"colab-df-container\">\n",
       "      <div>\n",
       "<style scoped>\n",
       "    .dataframe tbody tr th:only-of-type {\n",
       "        vertical-align: middle;\n",
       "    }\n",
       "\n",
       "    .dataframe tbody tr th {\n",
       "        vertical-align: top;\n",
       "    }\n",
       "\n",
       "    .dataframe thead th {\n",
       "        text-align: right;\n",
       "    }\n",
       "</style>\n",
       "<table border=\"1\" class=\"dataframe\">\n",
       "  <thead>\n",
       "    <tr style=\"text-align: right;\">\n",
       "      <th></th>\n",
       "      <th>var3</th>\n",
       "      <th>var15</th>\n",
       "      <th>imp_ent_var16_ult1</th>\n",
       "      <th>imp_op_var39_comer_ult1</th>\n",
       "      <th>imp_op_var39_comer_ult3</th>\n",
       "      <th>imp_op_var40_comer_ult1</th>\n",
       "      <th>imp_op_var40_comer_ult3</th>\n",
       "      <th>imp_op_var40_efect_ult1</th>\n",
       "      <th>imp_op_var40_efect_ult3</th>\n",
       "      <th>imp_op_var40_ult1</th>\n",
       "      <th>imp_op_var41_comer_ult1</th>\n",
       "      <th>imp_op_var41_comer_ult3</th>\n",
       "      <th>imp_op_var41_efect_ult1</th>\n",
       "      <th>imp_op_var41_efect_ult3</th>\n",
       "      <th>imp_op_var41_ult1</th>\n",
       "      <th>imp_op_var39_efect_ult1</th>\n",
       "      <th>imp_op_var39_efect_ult3</th>\n",
       "      <th>imp_op_var39_ult1</th>\n",
       "      <th>imp_sal_var16_ult1</th>\n",
       "      <th>ind_var1_0</th>\n",
       "      <th>ind_var1</th>\n",
       "      <th>ind_var5_0</th>\n",
       "      <th>ind_var5</th>\n",
       "      <th>ind_var6_0</th>\n",
       "      <th>ind_var6</th>\n",
       "      <th>ind_var8_0</th>\n",
       "      <th>ind_var8</th>\n",
       "      <th>ind_var12_0</th>\n",
       "      <th>ind_var12</th>\n",
       "      <th>ind_var13_0</th>\n",
       "      <th>ind_var13_corto_0</th>\n",
       "      <th>ind_var13_corto</th>\n",
       "      <th>ind_var13_largo_0</th>\n",
       "      <th>ind_var13_largo</th>\n",
       "      <th>ind_var13_medio_0</th>\n",
       "      <th>ind_var13</th>\n",
       "      <th>ind_var14_0</th>\n",
       "      <th>ind_var14</th>\n",
       "      <th>ind_var17_0</th>\n",
       "      <th>ind_var17</th>\n",
       "      <th>...</th>\n",
       "      <th>num_var45_ult3</th>\n",
       "      <th>saldo_medio_var5_hace2</th>\n",
       "      <th>saldo_medio_var5_hace3</th>\n",
       "      <th>saldo_medio_var5_ult1</th>\n",
       "      <th>saldo_medio_var5_ult3</th>\n",
       "      <th>saldo_medio_var8_hace2</th>\n",
       "      <th>saldo_medio_var8_hace3</th>\n",
       "      <th>saldo_medio_var8_ult1</th>\n",
       "      <th>saldo_medio_var8_ult3</th>\n",
       "      <th>saldo_medio_var12_hace2</th>\n",
       "      <th>saldo_medio_var12_hace3</th>\n",
       "      <th>saldo_medio_var12_ult1</th>\n",
       "      <th>saldo_medio_var12_ult3</th>\n",
       "      <th>saldo_medio_var13_corto_hace2</th>\n",
       "      <th>saldo_medio_var13_corto_hace3</th>\n",
       "      <th>saldo_medio_var13_corto_ult1</th>\n",
       "      <th>saldo_medio_var13_corto_ult3</th>\n",
       "      <th>saldo_medio_var13_largo_hace2</th>\n",
       "      <th>saldo_medio_var13_largo_hace3</th>\n",
       "      <th>saldo_medio_var13_largo_ult1</th>\n",
       "      <th>saldo_medio_var13_largo_ult3</th>\n",
       "      <th>saldo_medio_var13_medio_hace2</th>\n",
       "      <th>saldo_medio_var13_medio_ult3</th>\n",
       "      <th>saldo_medio_var17_hace2</th>\n",
       "      <th>saldo_medio_var17_hace3</th>\n",
       "      <th>saldo_medio_var17_ult1</th>\n",
       "      <th>saldo_medio_var17_ult3</th>\n",
       "      <th>saldo_medio_var29_hace2</th>\n",
       "      <th>saldo_medio_var29_hace3</th>\n",
       "      <th>saldo_medio_var29_ult1</th>\n",
       "      <th>saldo_medio_var29_ult3</th>\n",
       "      <th>saldo_medio_var33_hace2</th>\n",
       "      <th>saldo_medio_var33_hace3</th>\n",
       "      <th>saldo_medio_var33_ult1</th>\n",
       "      <th>saldo_medio_var33_ult3</th>\n",
       "      <th>saldo_medio_var44_hace2</th>\n",
       "      <th>saldo_medio_var44_hace3</th>\n",
       "      <th>saldo_medio_var44_ult1</th>\n",
       "      <th>saldo_medio_var44_ult3</th>\n",
       "      <th>var38</th>\n",
       "    </tr>\n",
       "  </thead>\n",
       "  <tbody>\n",
       "    <tr>\n",
       "      <th>count</th>\n",
       "      <td>76020.000000</td>\n",
       "      <td>76020.000000</td>\n",
       "      <td>76020.000000</td>\n",
       "      <td>76020.000000</td>\n",
       "      <td>76020.000000</td>\n",
       "      <td>76020.000000</td>\n",
       "      <td>76020.000000</td>\n",
       "      <td>76020.000000</td>\n",
       "      <td>76020.000000</td>\n",
       "      <td>76020.000000</td>\n",
       "      <td>76020.000000</td>\n",
       "      <td>76020.000000</td>\n",
       "      <td>76020.000000</td>\n",
       "      <td>76020.000000</td>\n",
       "      <td>76020.000000</td>\n",
       "      <td>76020.000000</td>\n",
       "      <td>76020.000000</td>\n",
       "      <td>76020.000000</td>\n",
       "      <td>76020.000000</td>\n",
       "      <td>76020.000000</td>\n",
       "      <td>76020.000000</td>\n",
       "      <td>76020.000000</td>\n",
       "      <td>76020.000000</td>\n",
       "      <td>76020.000000</td>\n",
       "      <td>76020.000000</td>\n",
       "      <td>76020.000000</td>\n",
       "      <td>76020.000000</td>\n",
       "      <td>76020.000000</td>\n",
       "      <td>76020.000000</td>\n",
       "      <td>76020.000000</td>\n",
       "      <td>76020.000000</td>\n",
       "      <td>76020.000000</td>\n",
       "      <td>76020.000000</td>\n",
       "      <td>76020.000000</td>\n",
       "      <td>76020.000000</td>\n",
       "      <td>76020.000000</td>\n",
       "      <td>76020.000000</td>\n",
       "      <td>76020.000000</td>\n",
       "      <td>76020.000000</td>\n",
       "      <td>76020.000000</td>\n",
       "      <td>...</td>\n",
       "      <td>76020.000000</td>\n",
       "      <td>76020.000000</td>\n",
       "      <td>7.602000e+04</td>\n",
       "      <td>76020.000000</td>\n",
       "      <td>76020.000000</td>\n",
       "      <td>76020.000000</td>\n",
       "      <td>76020.000000</td>\n",
       "      <td>76020.000000</td>\n",
       "      <td>76020.000000</td>\n",
       "      <td>7.602000e+04</td>\n",
       "      <td>76020.000000</td>\n",
       "      <td>7.602000e+04</td>\n",
       "      <td>7.602000e+04</td>\n",
       "      <td>76020.000000</td>\n",
       "      <td>76020.000000</td>\n",
       "      <td>76020.000000</td>\n",
       "      <td>76020.000000</td>\n",
       "      <td>76020.000000</td>\n",
       "      <td>76020.000000</td>\n",
       "      <td>7.602000e+04</td>\n",
       "      <td>7.602000e+04</td>\n",
       "      <td>76020.000000</td>\n",
       "      <td>76020.000000</td>\n",
       "      <td>7.602000e+04</td>\n",
       "      <td>7.602000e+04</td>\n",
       "      <td>7.602000e+04</td>\n",
       "      <td>7.602000e+04</td>\n",
       "      <td>76020.000000</td>\n",
       "      <td>76020.000000</td>\n",
       "      <td>76020.000000</td>\n",
       "      <td>76020.000000</td>\n",
       "      <td>76020.000000</td>\n",
       "      <td>76020.000000</td>\n",
       "      <td>76020.000000</td>\n",
       "      <td>76020.000000</td>\n",
       "      <td>76020.000000</td>\n",
       "      <td>76020.000000</td>\n",
       "      <td>76020.000000</td>\n",
       "      <td>76020.000000</td>\n",
       "      <td>7.602000e+04</td>\n",
       "    </tr>\n",
       "    <tr>\n",
       "      <th>mean</th>\n",
       "      <td>-1523.199277</td>\n",
       "      <td>33.212865</td>\n",
       "      <td>86.208265</td>\n",
       "      <td>72.363067</td>\n",
       "      <td>119.529632</td>\n",
       "      <td>3.559130</td>\n",
       "      <td>6.472698</td>\n",
       "      <td>0.412946</td>\n",
       "      <td>0.567352</td>\n",
       "      <td>3.160715</td>\n",
       "      <td>68.803937</td>\n",
       "      <td>113.056934</td>\n",
       "      <td>68.205140</td>\n",
       "      <td>113.225058</td>\n",
       "      <td>137.242763</td>\n",
       "      <td>68.618087</td>\n",
       "      <td>113.792410</td>\n",
       "      <td>140.403479</td>\n",
       "      <td>5.477676</td>\n",
       "      <td>0.011458</td>\n",
       "      <td>0.003762</td>\n",
       "      <td>0.958024</td>\n",
       "      <td>0.663760</td>\n",
       "      <td>0.000105</td>\n",
       "      <td>0.000026</td>\n",
       "      <td>0.032833</td>\n",
       "      <td>0.028598</td>\n",
       "      <td>0.067522</td>\n",
       "      <td>0.045462</td>\n",
       "      <td>0.052249</td>\n",
       "      <td>0.042936</td>\n",
       "      <td>0.041476</td>\n",
       "      <td>0.010168</td>\n",
       "      <td>0.009997</td>\n",
       "      <td>0.000026</td>\n",
       "      <td>0.050855</td>\n",
       "      <td>0.023652</td>\n",
       "      <td>0.005301</td>\n",
       "      <td>0.001802</td>\n",
       "      <td>0.001447</td>\n",
       "      <td>...</td>\n",
       "      <td>13.651105</td>\n",
       "      <td>1579.135311</td>\n",
       "      <td>8.913659e+02</td>\n",
       "      <td>1077.256756</td>\n",
       "      <td>1048.856447</td>\n",
       "      <td>68.275452</td>\n",
       "      <td>9.505287</td>\n",
       "      <td>124.620962</td>\n",
       "      <td>110.026575</td>\n",
       "      <td>3.997023e+03</td>\n",
       "      <td>613.534443</td>\n",
       "      <td>5.703008e+03</td>\n",
       "      <td>4.401002e+03</td>\n",
       "      <td>3639.419939</td>\n",
       "      <td>556.184178</td>\n",
       "      <td>4852.261814</td>\n",
       "      <td>3857.848542</td>\n",
       "      <td>771.227449</td>\n",
       "      <td>162.170439</td>\n",
       "      <td>9.569502e+02</td>\n",
       "      <td>7.509563e+02</td>\n",
       "      <td>0.175324</td>\n",
       "      <td>0.344174</td>\n",
       "      <td>9.117181e+01</td>\n",
       "      <td>3.646318e+01</td>\n",
       "      <td>1.310316e+02</td>\n",
       "      <td>1.092169e+02</td>\n",
       "      <td>0.213071</td>\n",
       "      <td>0.001910</td>\n",
       "      <td>0.253907</td>\n",
       "      <td>0.186630</td>\n",
       "      <td>7.935824</td>\n",
       "      <td>1.365146</td>\n",
       "      <td>12.215580</td>\n",
       "      <td>8.784074</td>\n",
       "      <td>31.505324</td>\n",
       "      <td>1.858575</td>\n",
       "      <td>76.026165</td>\n",
       "      <td>56.614351</td>\n",
       "      <td>1.172358e+05</td>\n",
       "    </tr>\n",
       "    <tr>\n",
       "      <th>std</th>\n",
       "      <td>39033.462364</td>\n",
       "      <td>12.956486</td>\n",
       "      <td>1614.757313</td>\n",
       "      <td>339.315831</td>\n",
       "      <td>546.266294</td>\n",
       "      <td>93.155749</td>\n",
       "      <td>153.737066</td>\n",
       "      <td>30.604864</td>\n",
       "      <td>36.513513</td>\n",
       "      <td>95.268204</td>\n",
       "      <td>319.605516</td>\n",
       "      <td>512.154823</td>\n",
       "      <td>531.897917</td>\n",
       "      <td>950.086398</td>\n",
       "      <td>697.712596</td>\n",
       "      <td>535.473750</td>\n",
       "      <td>953.578624</td>\n",
       "      <td>712.767240</td>\n",
       "      <td>465.391149</td>\n",
       "      <td>0.106425</td>\n",
       "      <td>0.061221</td>\n",
       "      <td>0.200535</td>\n",
       "      <td>0.472425</td>\n",
       "      <td>0.010258</td>\n",
       "      <td>0.005129</td>\n",
       "      <td>0.178202</td>\n",
       "      <td>0.166674</td>\n",
       "      <td>0.250925</td>\n",
       "      <td>0.208316</td>\n",
       "      <td>0.222531</td>\n",
       "      <td>0.202714</td>\n",
       "      <td>0.199390</td>\n",
       "      <td>0.100325</td>\n",
       "      <td>0.099486</td>\n",
       "      <td>0.005129</td>\n",
       "      <td>0.219703</td>\n",
       "      <td>0.151962</td>\n",
       "      <td>0.072617</td>\n",
       "      <td>0.042414</td>\n",
       "      <td>0.038012</td>\n",
       "      <td>...</td>\n",
       "      <td>33.304012</td>\n",
       "      <td>12148.452398</td>\n",
       "      <td>9.888597e+03</td>\n",
       "      <td>9614.906985</td>\n",
       "      <td>8189.948852</td>\n",
       "      <td>1733.838226</td>\n",
       "      <td>519.389157</td>\n",
       "      <td>2205.249804</td>\n",
       "      <td>1935.305713</td>\n",
       "      <td>3.777314e+04</td>\n",
       "      <td>9292.752726</td>\n",
       "      <td>4.620254e+04</td>\n",
       "      <td>3.550718e+04</td>\n",
       "      <td>26359.174223</td>\n",
       "      <td>7182.642532</td>\n",
       "      <td>31886.615189</td>\n",
       "      <td>25572.245055</td>\n",
       "      <td>13082.155867</td>\n",
       "      <td>4698.868075</td>\n",
       "      <td>1.600698e+04</td>\n",
       "      <td>1.242252e+04</td>\n",
       "      <td>34.625518</td>\n",
       "      <td>73.376513</td>\n",
       "      <td>1.539248e+04</td>\n",
       "      <td>8.612395e+03</td>\n",
       "      <td>1.495653e+04</td>\n",
       "      <td>1.308216e+04</td>\n",
       "      <td>41.820444</td>\n",
       "      <td>0.526626</td>\n",
       "      <td>52.078775</td>\n",
       "      <td>31.879418</td>\n",
       "      <td>455.887218</td>\n",
       "      <td>113.959637</td>\n",
       "      <td>783.207399</td>\n",
       "      <td>538.439211</td>\n",
       "      <td>2013.125393</td>\n",
       "      <td>147.786584</td>\n",
       "      <td>4040.337842</td>\n",
       "      <td>2852.579397</td>\n",
       "      <td>1.826646e+05</td>\n",
       "    </tr>\n",
       "    <tr>\n",
       "      <th>min</th>\n",
       "      <td>-999999.000000</td>\n",
       "      <td>5.000000</td>\n",
       "      <td>0.000000</td>\n",
       "      <td>0.000000</td>\n",
       "      <td>0.000000</td>\n",
       "      <td>0.000000</td>\n",
       "      <td>0.000000</td>\n",
       "      <td>0.000000</td>\n",
       "      <td>0.000000</td>\n",
       "      <td>0.000000</td>\n",
       "      <td>0.000000</td>\n",
       "      <td>0.000000</td>\n",
       "      <td>0.000000</td>\n",
       "      <td>0.000000</td>\n",
       "      <td>0.000000</td>\n",
       "      <td>0.000000</td>\n",
       "      <td>0.000000</td>\n",
       "      <td>0.000000</td>\n",
       "      <td>0.000000</td>\n",
       "      <td>0.000000</td>\n",
       "      <td>0.000000</td>\n",
       "      <td>0.000000</td>\n",
       "      <td>0.000000</td>\n",
       "      <td>0.000000</td>\n",
       "      <td>0.000000</td>\n",
       "      <td>0.000000</td>\n",
       "      <td>0.000000</td>\n",
       "      <td>0.000000</td>\n",
       "      <td>0.000000</td>\n",
       "      <td>0.000000</td>\n",
       "      <td>0.000000</td>\n",
       "      <td>0.000000</td>\n",
       "      <td>0.000000</td>\n",
       "      <td>0.000000</td>\n",
       "      <td>0.000000</td>\n",
       "      <td>0.000000</td>\n",
       "      <td>0.000000</td>\n",
       "      <td>0.000000</td>\n",
       "      <td>0.000000</td>\n",
       "      <td>0.000000</td>\n",
       "      <td>...</td>\n",
       "      <td>0.000000</td>\n",
       "      <td>-128.370000</td>\n",
       "      <td>-8.040000e+00</td>\n",
       "      <td>-922.380000</td>\n",
       "      <td>-476.070000</td>\n",
       "      <td>-287.670000</td>\n",
       "      <td>0.000000</td>\n",
       "      <td>-3401.340000</td>\n",
       "      <td>-1844.520000</td>\n",
       "      <td>0.000000e+00</td>\n",
       "      <td>0.000000</td>\n",
       "      <td>0.000000e+00</td>\n",
       "      <td>0.000000e+00</td>\n",
       "      <td>0.000000</td>\n",
       "      <td>0.000000</td>\n",
       "      <td>0.000000</td>\n",
       "      <td>0.000000</td>\n",
       "      <td>0.000000</td>\n",
       "      <td>0.000000</td>\n",
       "      <td>0.000000e+00</td>\n",
       "      <td>0.000000e+00</td>\n",
       "      <td>0.000000</td>\n",
       "      <td>0.000000</td>\n",
       "      <td>-3.000000e-02</td>\n",
       "      <td>0.000000e+00</td>\n",
       "      <td>0.000000e+00</td>\n",
       "      <td>0.000000e+00</td>\n",
       "      <td>0.000000</td>\n",
       "      <td>0.000000</td>\n",
       "      <td>0.000000</td>\n",
       "      <td>0.000000</td>\n",
       "      <td>0.000000</td>\n",
       "      <td>0.000000</td>\n",
       "      <td>0.000000</td>\n",
       "      <td>0.000000</td>\n",
       "      <td>0.000000</td>\n",
       "      <td>0.000000</td>\n",
       "      <td>0.000000</td>\n",
       "      <td>0.000000</td>\n",
       "      <td>5.163750e+03</td>\n",
       "    </tr>\n",
       "    <tr>\n",
       "      <th>25%</th>\n",
       "      <td>2.000000</td>\n",
       "      <td>23.000000</td>\n",
       "      <td>0.000000</td>\n",
       "      <td>0.000000</td>\n",
       "      <td>0.000000</td>\n",
       "      <td>0.000000</td>\n",
       "      <td>0.000000</td>\n",
       "      <td>0.000000</td>\n",
       "      <td>0.000000</td>\n",
       "      <td>0.000000</td>\n",
       "      <td>0.000000</td>\n",
       "      <td>0.000000</td>\n",
       "      <td>0.000000</td>\n",
       "      <td>0.000000</td>\n",
       "      <td>0.000000</td>\n",
       "      <td>0.000000</td>\n",
       "      <td>0.000000</td>\n",
       "      <td>0.000000</td>\n",
       "      <td>0.000000</td>\n",
       "      <td>0.000000</td>\n",
       "      <td>0.000000</td>\n",
       "      <td>1.000000</td>\n",
       "      <td>0.000000</td>\n",
       "      <td>0.000000</td>\n",
       "      <td>0.000000</td>\n",
       "      <td>0.000000</td>\n",
       "      <td>0.000000</td>\n",
       "      <td>0.000000</td>\n",
       "      <td>0.000000</td>\n",
       "      <td>0.000000</td>\n",
       "      <td>0.000000</td>\n",
       "      <td>0.000000</td>\n",
       "      <td>0.000000</td>\n",
       "      <td>0.000000</td>\n",
       "      <td>0.000000</td>\n",
       "      <td>0.000000</td>\n",
       "      <td>0.000000</td>\n",
       "      <td>0.000000</td>\n",
       "      <td>0.000000</td>\n",
       "      <td>0.000000</td>\n",
       "      <td>...</td>\n",
       "      <td>0.000000</td>\n",
       "      <td>0.000000</td>\n",
       "      <td>0.000000e+00</td>\n",
       "      <td>0.000000</td>\n",
       "      <td>0.000000</td>\n",
       "      <td>0.000000</td>\n",
       "      <td>0.000000</td>\n",
       "      <td>0.000000</td>\n",
       "      <td>0.000000</td>\n",
       "      <td>0.000000e+00</td>\n",
       "      <td>0.000000</td>\n",
       "      <td>0.000000e+00</td>\n",
       "      <td>0.000000e+00</td>\n",
       "      <td>0.000000</td>\n",
       "      <td>0.000000</td>\n",
       "      <td>0.000000</td>\n",
       "      <td>0.000000</td>\n",
       "      <td>0.000000</td>\n",
       "      <td>0.000000</td>\n",
       "      <td>0.000000e+00</td>\n",
       "      <td>0.000000e+00</td>\n",
       "      <td>0.000000</td>\n",
       "      <td>0.000000</td>\n",
       "      <td>0.000000e+00</td>\n",
       "      <td>0.000000e+00</td>\n",
       "      <td>0.000000e+00</td>\n",
       "      <td>0.000000e+00</td>\n",
       "      <td>0.000000</td>\n",
       "      <td>0.000000</td>\n",
       "      <td>0.000000</td>\n",
       "      <td>0.000000</td>\n",
       "      <td>0.000000</td>\n",
       "      <td>0.000000</td>\n",
       "      <td>0.000000</td>\n",
       "      <td>0.000000</td>\n",
       "      <td>0.000000</td>\n",
       "      <td>0.000000</td>\n",
       "      <td>0.000000</td>\n",
       "      <td>0.000000</td>\n",
       "      <td>6.787061e+04</td>\n",
       "    </tr>\n",
       "    <tr>\n",
       "      <th>50%</th>\n",
       "      <td>2.000000</td>\n",
       "      <td>28.000000</td>\n",
       "      <td>0.000000</td>\n",
       "      <td>0.000000</td>\n",
       "      <td>0.000000</td>\n",
       "      <td>0.000000</td>\n",
       "      <td>0.000000</td>\n",
       "      <td>0.000000</td>\n",
       "      <td>0.000000</td>\n",
       "      <td>0.000000</td>\n",
       "      <td>0.000000</td>\n",
       "      <td>0.000000</td>\n",
       "      <td>0.000000</td>\n",
       "      <td>0.000000</td>\n",
       "      <td>0.000000</td>\n",
       "      <td>0.000000</td>\n",
       "      <td>0.000000</td>\n",
       "      <td>0.000000</td>\n",
       "      <td>0.000000</td>\n",
       "      <td>0.000000</td>\n",
       "      <td>0.000000</td>\n",
       "      <td>1.000000</td>\n",
       "      <td>1.000000</td>\n",
       "      <td>0.000000</td>\n",
       "      <td>0.000000</td>\n",
       "      <td>0.000000</td>\n",
       "      <td>0.000000</td>\n",
       "      <td>0.000000</td>\n",
       "      <td>0.000000</td>\n",
       "      <td>0.000000</td>\n",
       "      <td>0.000000</td>\n",
       "      <td>0.000000</td>\n",
       "      <td>0.000000</td>\n",
       "      <td>0.000000</td>\n",
       "      <td>0.000000</td>\n",
       "      <td>0.000000</td>\n",
       "      <td>0.000000</td>\n",
       "      <td>0.000000</td>\n",
       "      <td>0.000000</td>\n",
       "      <td>0.000000</td>\n",
       "      <td>...</td>\n",
       "      <td>0.000000</td>\n",
       "      <td>3.000000</td>\n",
       "      <td>9.900000e-01</td>\n",
       "      <td>3.000000</td>\n",
       "      <td>2.730000</td>\n",
       "      <td>0.000000</td>\n",
       "      <td>0.000000</td>\n",
       "      <td>0.000000</td>\n",
       "      <td>0.000000</td>\n",
       "      <td>0.000000e+00</td>\n",
       "      <td>0.000000</td>\n",
       "      <td>0.000000e+00</td>\n",
       "      <td>0.000000e+00</td>\n",
       "      <td>0.000000</td>\n",
       "      <td>0.000000</td>\n",
       "      <td>0.000000</td>\n",
       "      <td>0.000000</td>\n",
       "      <td>0.000000</td>\n",
       "      <td>0.000000</td>\n",
       "      <td>0.000000e+00</td>\n",
       "      <td>0.000000e+00</td>\n",
       "      <td>0.000000</td>\n",
       "      <td>0.000000</td>\n",
       "      <td>0.000000e+00</td>\n",
       "      <td>0.000000e+00</td>\n",
       "      <td>0.000000e+00</td>\n",
       "      <td>0.000000e+00</td>\n",
       "      <td>0.000000</td>\n",
       "      <td>0.000000</td>\n",
       "      <td>0.000000</td>\n",
       "      <td>0.000000</td>\n",
       "      <td>0.000000</td>\n",
       "      <td>0.000000</td>\n",
       "      <td>0.000000</td>\n",
       "      <td>0.000000</td>\n",
       "      <td>0.000000</td>\n",
       "      <td>0.000000</td>\n",
       "      <td>0.000000</td>\n",
       "      <td>0.000000</td>\n",
       "      <td>1.064092e+05</td>\n",
       "    </tr>\n",
       "    <tr>\n",
       "      <th>75%</th>\n",
       "      <td>2.000000</td>\n",
       "      <td>40.000000</td>\n",
       "      <td>0.000000</td>\n",
       "      <td>0.000000</td>\n",
       "      <td>0.000000</td>\n",
       "      <td>0.000000</td>\n",
       "      <td>0.000000</td>\n",
       "      <td>0.000000</td>\n",
       "      <td>0.000000</td>\n",
       "      <td>0.000000</td>\n",
       "      <td>0.000000</td>\n",
       "      <td>0.000000</td>\n",
       "      <td>0.000000</td>\n",
       "      <td>0.000000</td>\n",
       "      <td>0.000000</td>\n",
       "      <td>0.000000</td>\n",
       "      <td>0.000000</td>\n",
       "      <td>0.000000</td>\n",
       "      <td>0.000000</td>\n",
       "      <td>0.000000</td>\n",
       "      <td>0.000000</td>\n",
       "      <td>1.000000</td>\n",
       "      <td>1.000000</td>\n",
       "      <td>0.000000</td>\n",
       "      <td>0.000000</td>\n",
       "      <td>0.000000</td>\n",
       "      <td>0.000000</td>\n",
       "      <td>0.000000</td>\n",
       "      <td>0.000000</td>\n",
       "      <td>0.000000</td>\n",
       "      <td>0.000000</td>\n",
       "      <td>0.000000</td>\n",
       "      <td>0.000000</td>\n",
       "      <td>0.000000</td>\n",
       "      <td>0.000000</td>\n",
       "      <td>0.000000</td>\n",
       "      <td>0.000000</td>\n",
       "      <td>0.000000</td>\n",
       "      <td>0.000000</td>\n",
       "      <td>0.000000</td>\n",
       "      <td>...</td>\n",
       "      <td>12.000000</td>\n",
       "      <td>90.000000</td>\n",
       "      <td>1.221750e+01</td>\n",
       "      <td>90.000000</td>\n",
       "      <td>83.790000</td>\n",
       "      <td>0.000000</td>\n",
       "      <td>0.000000</td>\n",
       "      <td>0.000000</td>\n",
       "      <td>0.000000</td>\n",
       "      <td>0.000000e+00</td>\n",
       "      <td>0.000000</td>\n",
       "      <td>0.000000e+00</td>\n",
       "      <td>0.000000e+00</td>\n",
       "      <td>0.000000</td>\n",
       "      <td>0.000000</td>\n",
       "      <td>0.000000</td>\n",
       "      <td>0.000000</td>\n",
       "      <td>0.000000</td>\n",
       "      <td>0.000000</td>\n",
       "      <td>0.000000e+00</td>\n",
       "      <td>0.000000e+00</td>\n",
       "      <td>0.000000</td>\n",
       "      <td>0.000000</td>\n",
       "      <td>0.000000e+00</td>\n",
       "      <td>0.000000e+00</td>\n",
       "      <td>0.000000e+00</td>\n",
       "      <td>0.000000e+00</td>\n",
       "      <td>0.000000</td>\n",
       "      <td>0.000000</td>\n",
       "      <td>0.000000</td>\n",
       "      <td>0.000000</td>\n",
       "      <td>0.000000</td>\n",
       "      <td>0.000000</td>\n",
       "      <td>0.000000</td>\n",
       "      <td>0.000000</td>\n",
       "      <td>0.000000</td>\n",
       "      <td>0.000000</td>\n",
       "      <td>0.000000</td>\n",
       "      <td>0.000000</td>\n",
       "      <td>1.187563e+05</td>\n",
       "    </tr>\n",
       "    <tr>\n",
       "      <th>max</th>\n",
       "      <td>238.000000</td>\n",
       "      <td>105.000000</td>\n",
       "      <td>210000.000000</td>\n",
       "      <td>12888.030000</td>\n",
       "      <td>21024.810000</td>\n",
       "      <td>8237.820000</td>\n",
       "      <td>11073.570000</td>\n",
       "      <td>6600.000000</td>\n",
       "      <td>6600.000000</td>\n",
       "      <td>8237.820000</td>\n",
       "      <td>12888.030000</td>\n",
       "      <td>16566.810000</td>\n",
       "      <td>45990.000000</td>\n",
       "      <td>131100.000000</td>\n",
       "      <td>47598.090000</td>\n",
       "      <td>45990.000000</td>\n",
       "      <td>131100.000000</td>\n",
       "      <td>47598.090000</td>\n",
       "      <td>105000.000000</td>\n",
       "      <td>1.000000</td>\n",
       "      <td>1.000000</td>\n",
       "      <td>1.000000</td>\n",
       "      <td>1.000000</td>\n",
       "      <td>1.000000</td>\n",
       "      <td>1.000000</td>\n",
       "      <td>1.000000</td>\n",
       "      <td>1.000000</td>\n",
       "      <td>1.000000</td>\n",
       "      <td>1.000000</td>\n",
       "      <td>1.000000</td>\n",
       "      <td>1.000000</td>\n",
       "      <td>1.000000</td>\n",
       "      <td>1.000000</td>\n",
       "      <td>1.000000</td>\n",
       "      <td>1.000000</td>\n",
       "      <td>1.000000</td>\n",
       "      <td>1.000000</td>\n",
       "      <td>1.000000</td>\n",
       "      <td>1.000000</td>\n",
       "      <td>1.000000</td>\n",
       "      <td>...</td>\n",
       "      <td>801.000000</td>\n",
       "      <td>812137.260000</td>\n",
       "      <td>1.542339e+06</td>\n",
       "      <td>601428.600000</td>\n",
       "      <td>544365.570000</td>\n",
       "      <td>231351.990000</td>\n",
       "      <td>77586.210000</td>\n",
       "      <td>228031.800000</td>\n",
       "      <td>177582.000000</td>\n",
       "      <td>3.000538e+06</td>\n",
       "      <td>668335.320000</td>\n",
       "      <td>3.004186e+06</td>\n",
       "      <td>2.272859e+06</td>\n",
       "      <td>450000.000000</td>\n",
       "      <td>304838.700000</td>\n",
       "      <td>450000.000000</td>\n",
       "      <td>450000.000000</td>\n",
       "      <td>840000.000000</td>\n",
       "      <td>534000.000000</td>\n",
       "      <td>1.500000e+06</td>\n",
       "      <td>1.034483e+06</td>\n",
       "      <td>7741.950000</td>\n",
       "      <td>18870.990000</td>\n",
       "      <td>4.210084e+06</td>\n",
       "      <td>2.368559e+06</td>\n",
       "      <td>3.998687e+06</td>\n",
       "      <td>3.525777e+06</td>\n",
       "      <td>10430.010000</td>\n",
       "      <td>145.200000</td>\n",
       "      <td>13793.670000</td>\n",
       "      <td>7331.340000</td>\n",
       "      <td>50003.880000</td>\n",
       "      <td>20385.720000</td>\n",
       "      <td>138831.630000</td>\n",
       "      <td>91778.730000</td>\n",
       "      <td>438329.220000</td>\n",
       "      <td>24650.010000</td>\n",
       "      <td>681462.900000</td>\n",
       "      <td>397884.300000</td>\n",
       "      <td>2.203474e+07</td>\n",
       "    </tr>\n",
       "  </tbody>\n",
       "</table>\n",
       "<p>8 rows × 306 columns</p>\n",
       "</div>\n",
       "      <button class=\"colab-df-convert\" onclick=\"convertToInteractive('df-aedd0e02-ce75-4061-be92-0ad11455cbda')\"\n",
       "              title=\"Convert this dataframe to an interactive table.\"\n",
       "              style=\"display:none;\">\n",
       "        \n",
       "  <svg xmlns=\"http://www.w3.org/2000/svg\" height=\"24px\"viewBox=\"0 0 24 24\"\n",
       "       width=\"24px\">\n",
       "    <path d=\"M0 0h24v24H0V0z\" fill=\"none\"/>\n",
       "    <path d=\"M18.56 5.44l.94 2.06.94-2.06 2.06-.94-2.06-.94-.94-2.06-.94 2.06-2.06.94zm-11 1L8.5 8.5l.94-2.06 2.06-.94-2.06-.94L8.5 2.5l-.94 2.06-2.06.94zm10 10l.94 2.06.94-2.06 2.06-.94-2.06-.94-.94-2.06-.94 2.06-2.06.94z\"/><path d=\"M17.41 7.96l-1.37-1.37c-.4-.4-.92-.59-1.43-.59-.52 0-1.04.2-1.43.59L10.3 9.45l-7.72 7.72c-.78.78-.78 2.05 0 2.83L4 21.41c.39.39.9.59 1.41.59.51 0 1.02-.2 1.41-.59l7.78-7.78 2.81-2.81c.8-.78.8-2.07 0-2.86zM5.41 20L4 18.59l7.72-7.72 1.47 1.35L5.41 20z\"/>\n",
       "  </svg>\n",
       "      </button>\n",
       "      \n",
       "  <style>\n",
       "    .colab-df-container {\n",
       "      display:flex;\n",
       "      flex-wrap:wrap;\n",
       "      gap: 12px;\n",
       "    }\n",
       "\n",
       "    .colab-df-convert {\n",
       "      background-color: #E8F0FE;\n",
       "      border: none;\n",
       "      border-radius: 50%;\n",
       "      cursor: pointer;\n",
       "      display: none;\n",
       "      fill: #1967D2;\n",
       "      height: 32px;\n",
       "      padding: 0 0 0 0;\n",
       "      width: 32px;\n",
       "    }\n",
       "\n",
       "    .colab-df-convert:hover {\n",
       "      background-color: #E2EBFA;\n",
       "      box-shadow: 0px 1px 2px rgba(60, 64, 67, 0.3), 0px 1px 3px 1px rgba(60, 64, 67, 0.15);\n",
       "      fill: #174EA6;\n",
       "    }\n",
       "\n",
       "    [theme=dark] .colab-df-convert {\n",
       "      background-color: #3B4455;\n",
       "      fill: #D2E3FC;\n",
       "    }\n",
       "\n",
       "    [theme=dark] .colab-df-convert:hover {\n",
       "      background-color: #434B5C;\n",
       "      box-shadow: 0px 1px 3px 1px rgba(0, 0, 0, 0.15);\n",
       "      filter: drop-shadow(0px 1px 2px rgba(0, 0, 0, 0.3));\n",
       "      fill: #FFFFFF;\n",
       "    }\n",
       "  </style>\n",
       "\n",
       "      <script>\n",
       "        const buttonEl =\n",
       "          document.querySelector('#df-aedd0e02-ce75-4061-be92-0ad11455cbda button.colab-df-convert');\n",
       "        buttonEl.style.display =\n",
       "          google.colab.kernel.accessAllowed ? 'block' : 'none';\n",
       "\n",
       "        async function convertToInteractive(key) {\n",
       "          const element = document.querySelector('#df-aedd0e02-ce75-4061-be92-0ad11455cbda');\n",
       "          const dataTable =\n",
       "            await google.colab.kernel.invokeFunction('convertToInteractive',\n",
       "                                                     [key], {});\n",
       "          if (!dataTable) return;\n",
       "\n",
       "          const docLinkHtml = 'Like what you see? Visit the ' +\n",
       "            '<a target=\"_blank\" href=https://colab.research.google.com/notebooks/data_table.ipynb>data table notebook</a>'\n",
       "            + ' to learn more about interactive tables.';\n",
       "          element.innerHTML = '';\n",
       "          dataTable['output_type'] = 'display_data';\n",
       "          await google.colab.output.renderOutput(dataTable, element);\n",
       "          const docLink = document.createElement('div');\n",
       "          docLink.innerHTML = docLinkHtml;\n",
       "          element.appendChild(docLink);\n",
       "        }\n",
       "      </script>\n",
       "    </div>\n",
       "  </div>\n",
       "  "
      ],
      "text/plain": [
       "                var3         var15  ...  saldo_medio_var44_ult3         var38\n",
       "count   76020.000000  76020.000000  ...            76020.000000  7.602000e+04\n",
       "mean    -1523.199277     33.212865  ...               56.614351  1.172358e+05\n",
       "std     39033.462364     12.956486  ...             2852.579397  1.826646e+05\n",
       "min   -999999.000000      5.000000  ...                0.000000  5.163750e+03\n",
       "25%         2.000000     23.000000  ...                0.000000  6.787061e+04\n",
       "50%         2.000000     28.000000  ...                0.000000  1.064092e+05\n",
       "75%         2.000000     40.000000  ...                0.000000  1.187563e+05\n",
       "max       238.000000    105.000000  ...           397884.300000  2.203474e+07\n",
       "\n",
       "[8 rows x 306 columns]"
      ]
     },
     "execution_count": 20,
     "metadata": {},
     "output_type": "execute_result"
    }
   ],
   "source": [
    "X_train.describe()"
   ]
  },
  {
   "cell_type": "code",
   "execution_count": null,
   "metadata": {
    "colab": {
     "base_uri": "https://localhost:8080/",
     "height": 1000
    },
    "executionInfo": {
     "elapsed": 4268,
     "status": "ok",
     "timestamp": 1641452690452,
     "user": {
      "displayName": "Gia Bảo Hoàng",
      "photoUrl": "https://lh3.googleusercontent.com/a/default-user=s64",
      "userId": "15531827273777406165"
     },
     "user_tz": -420
    },
    "id": "T8y7Z2dH7Py2",
    "outputId": "7a77f92e-af13-450c-9c1f-0493233f7723"
   },
   "outputs": [
    {
     "data": {
      "text/html": [
       "\n",
       "  <div id=\"df-0339ab91-0c04-4681-b733-f963cada1ce1\">\n",
       "    <div class=\"colab-df-container\">\n",
       "      <div>\n",
       "<style scoped>\n",
       "    .dataframe tbody tr th:only-of-type {\n",
       "        vertical-align: middle;\n",
       "    }\n",
       "\n",
       "    .dataframe tbody tr th {\n",
       "        vertical-align: top;\n",
       "    }\n",
       "\n",
       "    .dataframe thead th {\n",
       "        text-align: right;\n",
       "    }\n",
       "</style>\n",
       "<table border=\"1\" class=\"dataframe\">\n",
       "  <thead>\n",
       "    <tr style=\"text-align: right;\">\n",
       "      <th></th>\n",
       "      <th>var3</th>\n",
       "      <th>var15</th>\n",
       "      <th>imp_ent_var16_ult1</th>\n",
       "      <th>imp_op_var39_comer_ult1</th>\n",
       "      <th>imp_op_var39_comer_ult3</th>\n",
       "      <th>imp_op_var40_comer_ult1</th>\n",
       "      <th>imp_op_var40_comer_ult3</th>\n",
       "      <th>imp_op_var40_efect_ult1</th>\n",
       "      <th>imp_op_var40_efect_ult3</th>\n",
       "      <th>imp_op_var40_ult1</th>\n",
       "      <th>imp_op_var41_comer_ult1</th>\n",
       "      <th>imp_op_var41_comer_ult3</th>\n",
       "      <th>imp_op_var41_efect_ult1</th>\n",
       "      <th>imp_op_var41_efect_ult3</th>\n",
       "      <th>imp_op_var41_ult1</th>\n",
       "      <th>imp_op_var39_efect_ult1</th>\n",
       "      <th>imp_op_var39_efect_ult3</th>\n",
       "      <th>imp_op_var39_ult1</th>\n",
       "      <th>imp_sal_var16_ult1</th>\n",
       "      <th>ind_var1_0</th>\n",
       "      <th>ind_var1</th>\n",
       "      <th>ind_var5_0</th>\n",
       "      <th>ind_var5</th>\n",
       "      <th>ind_var6_0</th>\n",
       "      <th>ind_var6</th>\n",
       "      <th>ind_var8_0</th>\n",
       "      <th>ind_var8</th>\n",
       "      <th>ind_var12_0</th>\n",
       "      <th>ind_var12</th>\n",
       "      <th>ind_var13_0</th>\n",
       "      <th>ind_var13_corto_0</th>\n",
       "      <th>ind_var13_corto</th>\n",
       "      <th>ind_var13_largo_0</th>\n",
       "      <th>ind_var13_largo</th>\n",
       "      <th>ind_var13_medio_0</th>\n",
       "      <th>ind_var13</th>\n",
       "      <th>ind_var14_0</th>\n",
       "      <th>ind_var14</th>\n",
       "      <th>ind_var17_0</th>\n",
       "      <th>ind_var17</th>\n",
       "      <th>...</th>\n",
       "      <th>num_var45_ult3</th>\n",
       "      <th>saldo_medio_var5_hace2</th>\n",
       "      <th>saldo_medio_var5_hace3</th>\n",
       "      <th>saldo_medio_var5_ult1</th>\n",
       "      <th>saldo_medio_var5_ult3</th>\n",
       "      <th>saldo_medio_var8_hace2</th>\n",
       "      <th>saldo_medio_var8_hace3</th>\n",
       "      <th>saldo_medio_var8_ult1</th>\n",
       "      <th>saldo_medio_var8_ult3</th>\n",
       "      <th>saldo_medio_var12_hace2</th>\n",
       "      <th>saldo_medio_var12_hace3</th>\n",
       "      <th>saldo_medio_var12_ult1</th>\n",
       "      <th>saldo_medio_var12_ult3</th>\n",
       "      <th>saldo_medio_var13_corto_hace2</th>\n",
       "      <th>saldo_medio_var13_corto_hace3</th>\n",
       "      <th>saldo_medio_var13_corto_ult1</th>\n",
       "      <th>saldo_medio_var13_corto_ult3</th>\n",
       "      <th>saldo_medio_var13_largo_hace2</th>\n",
       "      <th>saldo_medio_var13_largo_hace3</th>\n",
       "      <th>saldo_medio_var13_largo_ult1</th>\n",
       "      <th>saldo_medio_var13_largo_ult3</th>\n",
       "      <th>saldo_medio_var13_medio_hace2</th>\n",
       "      <th>saldo_medio_var13_medio_ult3</th>\n",
       "      <th>saldo_medio_var17_hace2</th>\n",
       "      <th>saldo_medio_var17_hace3</th>\n",
       "      <th>saldo_medio_var17_ult1</th>\n",
       "      <th>saldo_medio_var17_ult3</th>\n",
       "      <th>saldo_medio_var29_hace2</th>\n",
       "      <th>saldo_medio_var29_hace3</th>\n",
       "      <th>saldo_medio_var29_ult1</th>\n",
       "      <th>saldo_medio_var29_ult3</th>\n",
       "      <th>saldo_medio_var33_hace2</th>\n",
       "      <th>saldo_medio_var33_hace3</th>\n",
       "      <th>saldo_medio_var33_ult1</th>\n",
       "      <th>saldo_medio_var33_ult3</th>\n",
       "      <th>saldo_medio_var44_hace2</th>\n",
       "      <th>saldo_medio_var44_hace3</th>\n",
       "      <th>saldo_medio_var44_ult1</th>\n",
       "      <th>saldo_medio_var44_ult3</th>\n",
       "      <th>var38</th>\n",
       "    </tr>\n",
       "  </thead>\n",
       "  <tbody>\n",
       "    <tr>\n",
       "      <th>nunique</th>\n",
       "      <td>208</td>\n",
       "      <td>100</td>\n",
       "      <td>596</td>\n",
       "      <td>7551</td>\n",
       "      <td>9099</td>\n",
       "      <td>293</td>\n",
       "      <td>346</td>\n",
       "      <td>23</td>\n",
       "      <td>29</td>\n",
       "      <td>224</td>\n",
       "      <td>7421</td>\n",
       "      <td>8961</td>\n",
       "      <td>331</td>\n",
       "      <td>454</td>\n",
       "      <td>8032</td>\n",
       "      <td>336</td>\n",
       "      <td>462</td>\n",
       "      <td>8149</td>\n",
       "      <td>66</td>\n",
       "      <td>2</td>\n",
       "      <td>2</td>\n",
       "      <td>2</td>\n",
       "      <td>2</td>\n",
       "      <td>2</td>\n",
       "      <td>2</td>\n",
       "      <td>2</td>\n",
       "      <td>2</td>\n",
       "      <td>2</td>\n",
       "      <td>2</td>\n",
       "      <td>2</td>\n",
       "      <td>2</td>\n",
       "      <td>2</td>\n",
       "      <td>2</td>\n",
       "      <td>2</td>\n",
       "      <td>2</td>\n",
       "      <td>2</td>\n",
       "      <td>2</td>\n",
       "      <td>2</td>\n",
       "      <td>2</td>\n",
       "      <td>2</td>\n",
       "      <td>...</td>\n",
       "      <td>172</td>\n",
       "      <td>14486</td>\n",
       "      <td>7787</td>\n",
       "      <td>14778</td>\n",
       "      <td>17330</td>\n",
       "      <td>1325</td>\n",
       "      <td>439</td>\n",
       "      <td>2116</td>\n",
       "      <td>2173</td>\n",
       "      <td>2834</td>\n",
       "      <td>1152</td>\n",
       "      <td>3405</td>\n",
       "      <td>3447</td>\n",
       "      <td>1628</td>\n",
       "      <td>968</td>\n",
       "      <td>943</td>\n",
       "      <td>2576</td>\n",
       "      <td>295</td>\n",
       "      <td>264</td>\n",
       "      <td>233</td>\n",
       "      <td>511</td>\n",
       "      <td>3</td>\n",
       "      <td>3</td>\n",
       "      <td>88</td>\n",
       "      <td>18</td>\n",
       "      <td>119</td>\n",
       "      <td>119</td>\n",
       "      <td>5</td>\n",
       "      <td>2</td>\n",
       "      <td>4</td>\n",
       "      <td>4</td>\n",
       "      <td>43</td>\n",
       "      <td>24</td>\n",
       "      <td>48</td>\n",
       "      <td>48</td>\n",
       "      <td>99</td>\n",
       "      <td>33</td>\n",
       "      <td>141</td>\n",
       "      <td>141</td>\n",
       "      <td>57736</td>\n",
       "    </tr>\n",
       "    <tr>\n",
       "      <th>value_counts</th>\n",
       "      <td>{2: 74165, 8: 138, -999999: 116, 9: 110, 3: 108, 1: 105, 13: 98, 7: 97, 4: 86, 12: 85, 6: 82, 0: 75, 10: 72, 11: 66, 5: 63, 14: 61, 15: 34, 18: 10, 16: 9, 17: 7, 23: 7, 25: 6, 142: 6, 154: 6, 20: 6, 31: 6, 38: 6, 153: 5, 24: 5, 91: 5, 30: 5, 114: 5, 22: 5, 149: 5, 192: 5, 138: 5, 21: 4, 174: 4, 102: 4, 36: 4, 162: 4, 129: 4, 158: 4, 28: 4, 133: 4, 172: 4, 46: 4, 110: 4, 27: 4, 103: 4, 147: 4, 183: 4, 48: 4, 86: 4, 209: 4, 161: 3, 64: 3, 100: 3, 19: 3, 163: 3, 26: 3, 33: 3, 217: 3, 88: 3, 195: 3, 156: 3, 216: 3, 167: 3, 137: 3, 143: 3, 29: 3, 53: 3, 189: 3, 58: 3, 56: 3, 118: 3, 117: 3, 49: 3, 43: 3, 125: 3, 175: 3, 121: 3, 104: 3, 176: 2, 105: 2, 187: 2, 198: 2, 150: 2, 50: 2, 59: 2, 145: 2, 51: 2, 85: 2, 115: 2, 148: 2, 52: 2, 116: 2, 146: 2, 82: 2, 81: 2, ...}</td>\n",
       "      <td>{23: 20170, 24: 6232, 25: 4217, 26: 3270, 27: 2861, 28: 2173, 31: 1798, 29: 1727, 30: 1640, 32: 1592, 36: 1546, 35: 1536, 34: 1489, 37: 1401, 38: 1390, 33: 1377, 39: 1329, 40: 1310, 41: 1242, 42: 1199, 43: 1077, 44: 1042, 45: 1020, 22: 940, 46: 910, 47: 780, 48: 773, 49: 708, 50: 666, 51: 663, 52: 589, 53: 567, 54: 504, 55: 480, 56: 451, 57: 385, 58: 369, 59: 359, 60: 311, 61: 288, 62: 280, 64: 274, 63: 252, 65: 207, 67: 189, 70: 180, 66: 178, 68: 156, 69: 151, 71: 133, 72: 122, 74: 117, 75: 113, 76: 109, 73: 89, 79: 70, 78: 68, 77: 64, 80: 57, 83: 56, 84: 54, 82: 50, 88: 48, 81: 47, 85: 43, 86: 42, 89: 40, 87: 37, 91: 30, 5: 28, 15: 27, 90: 26, 21: 21, 6: 21, 93: 20, 14: 20, 11: 19, 9: 18, 10: 17, 92: 16, 19: 16, 18: 14, 17: 13, 16: 12, 94: 12, 13: 11, 12: 11, 20: 9, 8: 9, 96: 7, 7: 6, 95: 6, 99: 6, 100: 6, 102: 4, 97: 3, 104: 2, 98: 1, 105: 1, 101: 1}</td>\n",
       "      <td>{0.0: 72301, 300.0: 221, 150.0: 217, 600.0: 172, 900.0: 164, 3.0: 141, 450.0: 124, 60.0: 123, 1500.0: 119, 90.0: 112, 30.0: 97, 1200.0: 89, 3000.0: 76, 120.0: 74, 15.0: 65, 750.0: 61, 180.0: 56, 1800.0: 56, 210.0: 55, 360.0: 46, 1050.0: 42, 240.0: 42, 75.0: 31, 2400.0: 31, 6000.0: 29, 420.0: 29, 2100.0: 28, 270.0: 25, 480.0: 23, 660.0: 22, 390.0: 21, 1350.0: 21, 45.0: 21, 4500.0: 19, 9000.0: 19, 3600.0: 19, 2700.0: 18, 1650.0: 18, 960.0: 18, 1950.0: 17, 6.0: 17, 2250.0: 16, 510.0: 15, 720.0: 15, 540.0: 14, 105.0: 13, 780.0: 12, 135.0: 12, 330.0: 12, 810.0: 12, 1140.0: 11, 840.0: 11, 225.0: 11, 570.0: 11, 630.0: 10, 465.0: 10, 4200.0: 10, 1080.0: 10, 690.0: 9, 405.0: 9, 165.0: 9, 870.0: 9, 375.0: 8, 1170.0: 8, 15000.0: 8, 990.0: 8, 315.0: 8, 195.0: 8, 18.0: 7, 3450.0: 7, 345.0: 7, 2550.0: 7, 3900.0: 7, 7500.0: 7, 27.0: 6, 1110.0: 6, 36.0: 6, 495.0: 6, 1410.0: 6, 3300.0: 6, 3150.0: 6, 525.0: 6, 5100.0: 6, 18000.0: 5, 2310.0: 5, 1260.0: 5, 7200.0: 5, 285.0: 5, 825.0: 5, 915.0: 5, 555.0: 5, 255.0: 5, 675.0: 5, 435.0: 5, 111.0: 5, 153.0: 5, 1320.0: 5, 12000.0: 5, 2850.0: 5, 1290.0: 5, ...}</td>\n",
       "      <td>{0.0: 66075, 30.0: 120, 60.0: 100, 15.0: 56, 90.0: 48, 45.0: 36, 4.5: 36, 120.0: 32, 150.0: 32, 2.67: 29, 300.0: 29, 3.0: 22, 59.97: 20, 180.0: 19, 105.0: 18, 29.97: 18, 36.0: 17, 9.0: 17, 29.85: 17, 2.97: 16, 89.85: 16, 75.0: 15, 18.0: 14, 24.0: 12, 42.0: 12, 27.0: 11, 59.85: 11, 135.0: 10, 89.97: 10, 14.97: 10, 44.97: 9, 17.97: 9, 240.0: 9, 6.0: 8, 54.0: 8, 21.0: 8, 114.0: 8, 84.0: 8, 33.0: 8, 165.0: 8, 78.0: 8, 63.0: 7, 31.2: 7, 38.85: 7, 57.0: 7, 72.0: 7, 177.0: 7, 43.2: 7, 51.0: 7, 195.0: 7, 119.97: 7, 38.97: 7, 48.0: 7, 53.97: 6, 171.0: 6, 12.0: 6, 225.0: 6, 129.0: 6, 8.85: 6, 74.97: 6, 14.4: 6, 179.7: 6, 210.0: 6, 62.4: 6, 117.0: 6, 66.0: 6, 29.7: 6, 11.97: 6, 149.97: 6, 99.0: 6, 39.0: 6, 8.97: 6, 23.85: 6, 87.0: 6, 59.7: 5, 83.97: 5, 149.85: 5, 270.0: 5, 77.7: 5, 98.97: 5, 450.0: 5, 21.54: 5, 297.0: 5, 35.7: 5, 17.4: 5, 20.97: 5, 17.1: 5, 92.7: 5, 26.85: 5, 77.97: 5, 360.0: 5, 1800.0: 5, 179.97: 5, 61.8: 5, 74.85: 5, 34.5: 5, 35.94: 5, 0.03: 5, 36.6: 5, 81.0: 4, ...}</td>\n",
       "      <td>{0.0: 64330, 30.0: 161, 60.0: 91, 4.5: 72, 15.0: 60, 90.0: 53, 45.0: 36, 150.0: 35, 120.0: 31, 2.67: 31, 3.0: 30, 300.0: 27, 2.97: 23, 180.0: 22, 75.0: 21, 9.0: 20, 59.97: 18, 36.0: 18, 29.97: 17, 89.97: 16, 29.85: 16, 18.0: 16, 105.0: 15, 21.0: 13, 89.85: 13, 84.0: 12, 27.0: 12, 42.0: 12, 59.85: 11, 24.0: 11, 195.0: 11, 78.0: 10, 57.0: 10, 48.0: 10, 135.0: 10, 14.97: 10, 12.0: 9, 17.4: 9, 6.0: 9, 66.0: 9, 8.85: 9, 36.6: 8, 39.0: 8, 33.0: 8, 81.0: 8, 114.0: 8, 360.0: 7, 29.7: 7, 38.97: 7, 34.5: 7, 44.97: 7, 17.97: 7, 68.97: 7, 149.97: 7, 63.0: 7, 29.4: 7, 8.97: 6, 77.97: 6, 87.0: 6, 210.0: 6, 23.85: 6, 315.0: 6, 0.03: 6, 297.0: 6, 59.7: 5, 44.7: 5, 132.0: 5, 73.2: 5, 83.97: 5, 68.1: 5, 25.2: 5, 58.8: 5, 450.0: 5, 69.6: 5, 74.97: 5, 21.54: 5, 38.85: 5, 435.0: 5, 8.7: 5, 28.8: 5, 51.0: 5, 19.5: 5, 168.0: 5, 11.97: 5, 133.5: 5, 70.2: 5, 1500.0: 5, 270.0: 5, 600.0: 5, 179.7: 5, 35.7: 5, 570.0: 5, 20.7: 5, 119.97: 5, 119.85: 5, 20.85: 5, 62.4: 5, 43.2: 5, 54.0: 5, 59.1: 5, ...}</td>\n",
       "      <td>{0.0: 75725, 30.0: 2, 396.0: 2, 180.0: 2, 17.25: 1, 1436.19: 1, 1370.49: 1, 192.24: 1, 2521.86: 1, 47.7: 1, 635.7: 1, 299.82: 1, 315.33: 1, 1161.09: 1, 137.94: 1, 408.51: 1, 541.29: 1, 6300.69: 1, 1368.0: 1, 1224.87: 1, 1194.03: 1, 682.38: 1, 488.43: 1, 277.62: 1, 1775.1: 1, 468.12: 1, 388.2: 1, 2235.54: 1, 212.91: 1, 435.78: 1, 271.41: 1, 59.97: 1, 129.0: 1, 195.24: 1, 253.8: 1, 209.07: 1, 272.31: 1, 535.32: 1, 225.24: 1, 867.81: 1, 1055.58: 1, 671.1: 1, 567.0: 1, 985.92: 1, 1935.03: 1, 87.0: 1, 29.91: 1, 954.0: 1, 149.07: 1, 117.81: 1, 175.47: 1, 1776.12: 1, 2045.37: 1, 1632.27: 1, 1041.33: 1, 819.12: 1, 948.0: 1, 1723.53: 1, 381.15: 1, 1430.94: 1, 716.28: 1, 383.85: 1, 279.0: 1, 2189.04: 1, 14.37: 1, 226.83: 1, 440.28: 1, 72.42: 1, 10.68: 1, 152.55: 1, 1036.08: 1, 172.5: 1, 1006.92: 1, 1222.62: 1, 168.0: 1, 4.26: 1, 269.31: 1, 195.06: 1, 1447.35: 1, 1890.33: 1, 108.09: 1, 5122.29: 1, 361.65: 1, 368.61: 1, 580.56: 1, 587.19: 1, 978.3: 1, 1601.67: 1, 29.97: 1, 642.99: 1, 210.39: 1, 428.1: 1, 406.05: 1, 2068.5: 1, 557.85: 1, 727.8: 1, 142.83: 1, 251.73: 1, 979.95: 1, 2974.38: 1, ...}</td>\n",
       "      <td>{0.0: 75672, 30.0: 3, 4.5: 2, 1775.1: 1, 4251.06: 1, 1370.49: 1, 956.73: 1, 192.24: 1, 2521.86: 1, 47.7: 1, 591.72: 1, 3217.29: 1, 635.7: 1, 315.33: 1, 137.94: 1, 1430.31: 1, 929.49: 1, 4060.89: 1, 160.65: 1, 1368.0: 1, 535.32: 1, 225.24: 1, 1992.63: 1, 34.5: 1, 993.81: 1, 17.25: 1, 1261.35: 1, 4184.43: 1, 311.97: 1, 521.4: 1, 277.62: 1, 453.3: 1, 488.43: 1, 59.97: 1, 1429.59: 1, 195.24: 1, 1506.6: 1, 617.19: 1, 253.8: 1, 209.07: 1, 272.31: 1, 271.41: 1, 1224.87: 1, 678.99: 1, 4458.0: 1, 322.05: 1, 1197.81: 1, 411.81: 1, 440.28: 1, 808.77: 1, 3346.56: 1, 580.14: 1, 428.79: 1, 149.07: 1, 1132.5: 1, 1935.03: 1, 1222.62: 1, 1634.01: 1, 87.0: 1, 5815.11: 1, 1055.58: 1, 655.29: 1, 954.0: 1, 3256.17: 1, 117.81: 1, 678.48: 1, 172.5: 1, 1585.95: 1, 210.0: 1, 1430.94: 1, 7209.93: 1, 383.85: 1, 8552.88: 1, 6929.52: 1, 1351.02: 1, 2189.04: 1, 356.61: 1, 14.37: 1, 11073.57: 1, 381.15: 1, 1376.25: 1, 226.83: 1, 2144.34: 1, 152.55: 1, 879.84: 1, 835.86: 1, 2692.5: 1, 544.5: 1, 1965.66: 1, 3289.53: 1, 8332.5: 1, 642.99: 1, 5246.04: 1, 643.74: 1, 400.2: 1, 195.0: 1, 847.56: 1, 1535.97: 1, 8332.92: 1, 1768.44: 1, ...}</td>\n",
       "      <td>{0.0: 75982, 900.0: 6, 1800.0: 4, 600.0: 3, 60.0: 3, 270.0: 2, 120.0: 2, 450.0: 2, 300.0: 2, 74.28: 1, 1710.0: 1, 870.0: 1, 180.0: 1, 210.0: 1, 87.9: 1, 6600.0: 1, 150.0: 1, 930.0: 1, 750.0: 1, 1200.0: 1, 330.0: 1, 420.0: 1, 1020.0: 1}</td>\n",
       "      <td>{0.0: 75975, 900.0: 6, 1800.0: 4, 120.0: 4, 300.0: 2, 330.0: 2, 960.0: 2, 600.0: 2, 60.0: 2, 450.0: 2, 210.0: 1, 270.0: 1, 150.0: 1, 1621.26: 1, 3810.0: 1, 6600.0: 1, 1020.0: 1, 720.0: 1, 74.28: 1, 750.0: 1, 1200.0: 1, 306.69: 1, 870.0: 1, 1650.0: 1, 180.0: 1, 87.9: 1, 3000.0: 1, 420.0: 1, 1710.0: 1}</td>\n",
       "      <td>{0.0: 75791, 900.0: 2, 450.0: 2, 600.0: 2, 1800.0: 2, 567.0: 2, 270.0: 2, 277.62: 1, 1775.1: 1, 643.65: 1, 2521.86: 1, 956.73: 1, 281.76: 1, 1370.49: 1, 121.65: 1, 757.2: 1, 1749.63: 1, 701.52: 1, 1194.03: 1, 272.31: 1, 1585.86: 1, 559.38: 1, 435.78: 1, 521.4: 1, 311.97: 1, 359.04: 1, 150.0: 1, 468.12: 1, 319.17: 1, 1934.34: 1, 4933.23: 1, 137.94: 1, 416.58: 1, 871.41: 1, 1965.66: 1, 381.15: 1, 396.0: 1, 912.15: 1, 1229.82: 1, 6600.0: 1, 1055.58: 1, 740.91: 1, 87.0: 1, 670.35: 1, 149.07: 1, 1218.15: 1, 678.48: 1, 152.55: 1, 72.42: 1, 623.34: 1, 60.0: 1, 660.57: 1, 762.3: 1, 383.85: 1, 1368.0: 1, 628.59: 1, 2714.28: 1, 423.6: 1, 480.0: 1, 1890.33: 1, 1350.45: 1, 210.39: 1, 771.99: 1, 861.3: 1, 596.91: 1, 1526.22: 1, 978.3: 1, 580.56: 1, 361.65: 1, 1885.17: 1, 108.09: 1, 1205.82: 1, 195.0: 1, 195.06: 1, 5497.2: 1, 236.76: 1, 828.18: 1, 180.0: 1, 149.7: 1, 7904.22: 1, 570.18: 1, 131.94: 1, 2974.38: 1, 979.95: 1, 320.37: 1, 305.46: 1, 775.77: 1, 1090.08: 1, 540.0: 1, 89.85: 1, 1846.5: 1, 328.62: 1, 34.23: 1, 199.53: 1, 158.07: 1, 8237.82: 1, 268.5: 1, 792.0: 1, 612.36: 1, 713.91: 1, ...}</td>\n",
       "      <td>{0.0: 66226, 30.0: 120, 60.0: 101, 15.0: 56, 90.0: 48, 4.5: 36, 45.0: 35, 150.0: 32, 120.0: 32, 2.67: 29, 300.0: 29, 3.0: 22, 59.97: 19, 180.0: 19, 105.0: 18, 29.97: 18, 36.0: 17, 29.85: 17, 9.0: 17, 2.97: 16, 75.0: 15, 89.85: 15, 18.0: 14, 42.0: 12, 24.0: 12, 27.0: 11, 89.97: 11, 59.85: 11, 135.0: 10, 14.97: 10, 17.97: 9, 44.97: 9, 78.0: 8, 165.0: 8, 54.0: 8, 240.0: 8, 21.0: 8, 33.0: 8, 6.0: 8, 84.0: 8, 48.0: 8, 114.0: 8, 63.0: 7, 38.97: 7, 31.2: 7, 51.0: 7, 43.2: 7, 177.0: 7, 38.85: 7, 119.97: 7, 12.0: 7, 72.0: 7, 57.0: 7, 39.0: 6, 149.97: 6, 117.0: 6, 210.0: 6, 29.7: 6, 23.85: 6, 195.0: 6, 53.97: 6, 87.0: 6, 11.97: 6, 14.4: 6, 99.0: 6, 8.85: 6, 225.0: 6, 179.7: 6, 62.4: 6, 66.0: 6, 8.97: 6, 74.97: 6, 171.0: 6, 129.0: 6, 77.97: 5, 34.5: 5, 77.7: 5, 297.0: 5, 360.0: 5, 74.85: 5, 35.94: 5, 61.8: 5, 21.54: 5, 26.85: 5, 1800.0: 5, 83.97: 5, 179.97: 5, 149.85: 5, 98.97: 5, 600.0: 5, 17.1: 5, 92.7: 5, 450.0: 5, 900.0: 5, 20.97: 5, 17.4: 5, 35.7: 5, 0.03: 5, 270.0: 5, 36.6: 5, ...}</td>\n",
       "      <td>{0.0: 64480, 30.0: 161, 60.0: 91, 4.5: 72, 15.0: 60, 90.0: 53, 45.0: 36, 150.0: 35, 2.67: 31, 120.0: 31, 3.0: 30, 300.0: 27, 2.97: 23, 180.0: 22, 75.0: 21, 9.0: 20, 36.0: 18, 29.97: 17, 59.97: 17, 89.97: 16, 29.85: 16, 18.0: 16, 105.0: 15, 21.0: 13, 42.0: 12, 27.0: 12, 89.85: 12, 84.0: 12, 24.0: 11, 59.85: 11, 48.0: 11, 135.0: 10, 57.0: 10, 195.0: 10, 14.97: 10, 78.0: 10, 6.0: 9, 66.0: 9, 8.85: 9, 12.0: 9, 17.4: 9, 36.6: 8, 33.0: 8, 39.0: 8, 81.0: 8, 29.7: 7, 68.97: 7, 360.0: 7, 44.97: 7, 29.4: 7, 17.97: 7, 149.97: 7, 38.97: 7, 114.0: 7, 63.0: 7, 0.03: 6, 34.5: 6, 23.85: 6, 87.0: 6, 297.0: 6, 315.0: 6, 77.97: 6, 8.97: 6, 210.0: 6, 68.1: 5, 43.2: 5, 73.2: 5, 179.7: 5, 119.85: 5, 38.85: 5, 28.8: 5, 74.97: 5, 450.0: 5, 54.0: 5, 83.97: 5, 1500.0: 5, 8.7: 5, 11.97: 5, 20.85: 5, 179.97: 5, 133.5: 5, 168.0: 5, 51.0: 5, 58.8: 5, 129.0: 5, 270.0: 5, 69.6: 5, 132.0: 5, 21.54: 5, 35.7: 5, 25.2: 5, 72.0: 5, 20.7: 5, 44.7: 5, 59.1: 5, 570.0: 5, 119.97: 5, 70.2: 5, 77.94: 5, 19.5: 5, ...}</td>\n",
       "      <td>{0.0: 69336, 60.0: 1124, 120.0: 644, 180.0: 294, 240.0: 259, 300.0: 245, 360.0: 177, 420.0: 176, 210.0: 168, 600.0: 165, 150.0: 165, 330.0: 161, 540.0: 121, 900.0: 121, 450.0: 117, 480.0: 111, 270.0: 108, 750.0: 91, 660.0: 91, 1200.0: 81, 1800.0: 80, 510.0: 79, 630.0: 69, 720.0: 69, 390.0: 68, 1500.0: 65, 780.0: 63, 570.0: 55, 960.0: 55, 690.0: 51, 840.0: 50, 1050.0: 49, 1020.0: 49, 810.0: 45, 870.0: 44, 990.0: 42, 930.0: 38, 1140.0: 37, 1350.0: 36, 1260.0: 35, 1110.0: 35, 1650.0: 32, 1230.0: 29, 1320.0: 28, 90.0: 27, 30.0: 26, 1080.0: 26, 1170.0: 26, 2400.0: 25, 1290.0: 24, 1620.0: 23, 1860.0: 22, 1410.0: 21, 2100.0: 20, 1380.0: 20, 1920.0: 19, 1470.0: 18, 2040.0: 18, 1950.0: 18, 3600.0: 17, 2700.0: 17, 1770.0: 17, 1440.0: 16, 1590.0: 16, 1530.0: 15, 2130.0: 15, 1680.0: 15, 1740.0: 14, 1710.0: 13, 1560.0: 13, 1830.0: 13, 3000.0: 13, 2010.0: 12, 2370.0: 10, 15.0: 10, 2190.0: 9, 2670.0: 9, 1890.0: 9, 2220.0: 9, 2460.0: 9, 2160.0: 8, 3300.0: 8, 45.0: 8, 3150.0: 8, 2850.0: 7, 2310.0: 7, 3450.0: 6, 2250.0: 6, 2070.0: 6, 2640.0: 6, 3060.0: 6, 2490.0: 6, 2340.0: 5, 2430.0: 5, 5400.0: 5, 3240.0: 5, 2580.0: 5, 2550.0: 5, 2280.0: 5, 3420.0: 5, ...}</td>\n",
       "      <td>{0.0: 67372, 60.0: 1570, 120.0: 694, 180.0: 352, 240.0: 279, 300.0: 274, 150.0: 203, 360.0: 193, 420.0: 188, 210.0: 184, 600.0: 172, 330.0: 169, 450.0: 145, 480.0: 139, 900.0: 130, 540.0: 127, 660.0: 121, 270.0: 114, 1200.0: 104, 750.0: 101, 390.0: 91, 1500.0: 84, 1800.0: 81, 510.0: 79, 570.0: 76, 810.0: 75, 780.0: 75, 960.0: 72, 630.0: 72, 720.0: 67, 840.0: 64, 1020.0: 61, 1110.0: 59, 1170.0: 58, 1050.0: 56, 690.0: 54, 930.0: 53, 1140.0: 53, 870.0: 51, 1080.0: 51, 1260.0: 46, 1350.0: 45, 90.0: 45, 990.0: 44, 30.0: 44, 1470.0: 39, 1230.0: 39, 1380.0: 34, 1650.0: 33, 1620.0: 33, 1560.0: 33, 1440.0: 33, 1320.0: 33, 1950.0: 32, 1290.0: 31, 1410.0: 30, 1830.0: 30, 1590.0: 30, 1680.0: 28, 1860.0: 28, 1710.0: 28, 1530.0: 26, 3600.0: 25, 2100.0: 25, 2400.0: 24, 1980.0: 23, 2010.0: 23, 2130.0: 21, 2070.0: 21, 1770.0: 20, 1740.0: 20, 2040.0: 20, 2700.0: 20, 15.0: 18, 1890.0: 17, 2550.0: 17, 2460.0: 17, 3150.0: 17, 3000.0: 17, 2340.0: 16, 2670.0: 15, 2250.0: 15, 2490.0: 15, 2160.0: 15, 2190.0: 14, 3300.0: 14, 2790.0: 14, 3120.0: 14, 75.0: 14, 2760.0: 12, 1920.0: 12, 2640.0: 12, 2220.0: 11, 2820.0: 11, 45.0: 11, 4050.0: 11, 2370.0: 11, 3090.0: 10, 2850.0: 10, 2940.0: 10, ...}</td>\n",
       "      <td>{0.0: 64388, 60.0: 557, 120.0: 202, 30.0: 101, 300.0: 87, 180.0: 81, 150.0: 79, 240.0: 67, 90.0: 60, 420.0: 55, 600.0: 55, 210.0: 55, 360.0: 53, 15.0: 49, 900.0: 46, 330.0: 42, 270.0: 38, 450.0: 38, 1800.0: 35, 480.0: 32, 540.0: 32, 1500.0: 31, 45.0: 31, 750.0: 28, 4.5: 28, 720.0: 23, 2.67: 22, 1200.0: 22, 390.0: 20, 660.0: 19, 1050.0: 18, 3.0: 18, 630.0: 18, 510.0: 16, 1020.0: 16, 2.97: 16, 1260.0: 15, 2400.0: 15, 75.0: 14, 59.97: 13, 105.0: 13, 135.0: 12, 36.0: 12, 870.0: 12, 960.0: 12, 570.0: 12, 9.0: 12, 1350.0: 12, 165.0: 11, 42.0: 11, 78.0: 11, 29.97: 11, 1140.0: 11, 1110.0: 11, 3600.0: 11, 27.0: 10, 89.97: 10, 780.0: 10, 84.0: 10, 930.0: 10, 1650.0: 10, 89.85: 9, 840.0: 9, 1290.0: 9, 810.0: 9, 14.97: 9, 29.85: 8, 2100.0: 8, 6.0: 8, 1770.0: 8, 17.97: 8, 1950.0: 8, 24.0: 7, 63.0: 7, 18.0: 7, 690.0: 7, 59.85: 7, 44.97: 7, 990.0: 7, 3000.0: 7, 1410.0: 6, 54.0: 6, 1170.0: 6, 1080.0: 6, 57.0: 6, 11.97: 6, 119.97: 6, 195.0: 6, 74.97: 6, 2700.0: 6, 1620.0: 6, 33.0: 6, 21.0: 6, 114.0: 6, 1860.0: 6, 48.0: 5, 43.2: 5, 23.85: 5, 8.97: 5, 119.85: 5, ...}</td>\n",
       "      <td>{0.0: 69325, 60.0: 1125, 120.0: 643, 180.0: 294, 240.0: 259, 300.0: 247, 420.0: 177, 360.0: 177, 210.0: 168, 600.0: 166, 150.0: 165, 330.0: 159, 900.0: 124, 540.0: 121, 450.0: 117, 480.0: 111, 270.0: 108, 750.0: 93, 660.0: 91, 1800.0: 82, 1200.0: 82, 510.0: 79, 720.0: 70, 630.0: 68, 390.0: 68, 1500.0: 65, 780.0: 64, 960.0: 55, 570.0: 53, 690.0: 52, 840.0: 50, 1050.0: 49, 1020.0: 49, 810.0: 45, 870.0: 43, 990.0: 42, 930.0: 38, 1350.0: 36, 1140.0: 36, 1260.0: 36, 1110.0: 35, 1650.0: 32, 1230.0: 29, 1320.0: 28, 90.0: 27, 1080.0: 26, 30.0: 26, 2400.0: 25, 1170.0: 25, 1290.0: 24, 1620.0: 23, 1860.0: 23, 1410.0: 21, 1380.0: 21, 2100.0: 20, 1920.0: 18, 1470.0: 18, 2040.0: 18, 1950.0: 18, 1770.0: 17, 3600.0: 17, 2700.0: 17, 1440.0: 16, 1590.0: 16, 1530.0: 15, 2130.0: 15, 1680.0: 15, 1740.0: 14, 3000.0: 13, 1830.0: 13, 1560.0: 13, 1710.0: 12, 2010.0: 12, 15.0: 10, 2370.0: 10, 2190.0: 9, 2670.0: 9, 1890.0: 9, 2220.0: 9, 2460.0: 8, 45.0: 8, 2160.0: 8, 3150.0: 7, 3060.0: 7, 2310.0: 7, 3300.0: 7, 2250.0: 6, 2490.0: 6, 2070.0: 6, 2850.0: 6, 3450.0: 6, 2640.0: 6, 2580.0: 5, 4200.0: 5, 2820.0: 5, 3420.0: 5, 5400.0: 5, 4650.0: 5, 1980.0: 5, 2430.0: 5, ...}</td>\n",
       "      <td>{0.0: 67360, 60.0: 1569, 120.0: 694, 180.0: 352, 240.0: 279, 300.0: 274, 150.0: 203, 360.0: 194, 420.0: 189, 210.0: 184, 600.0: 173, 330.0: 170, 450.0: 145, 480.0: 139, 900.0: 133, 540.0: 127, 660.0: 120, 270.0: 114, 1200.0: 104, 750.0: 101, 390.0: 91, 1500.0: 84, 1800.0: 83, 510.0: 78, 780.0: 77, 570.0: 76, 810.0: 74, 960.0: 73, 630.0: 71, 720.0: 68, 840.0: 64, 1020.0: 61, 1110.0: 59, 1170.0: 58, 1050.0: 56, 690.0: 54, 930.0: 53, 1140.0: 53, 870.0: 52, 1080.0: 51, 1260.0: 46, 1350.0: 45, 90.0: 45, 990.0: 44, 30.0: 44, 1470.0: 39, 1230.0: 38, 1380.0: 34, 1560.0: 33, 1650.0: 33, 1620.0: 33, 1440.0: 33, 1320.0: 32, 1950.0: 32, 1590.0: 31, 1410.0: 30, 1290.0: 30, 1830.0: 30, 1680.0: 28, 1710.0: 28, 1860.0: 28, 1530.0: 26, 3600.0: 25, 2100.0: 25, 2400.0: 24, 2010.0: 23, 1980.0: 23, 2130.0: 21, 2070.0: 21, 2700.0: 20, 2040.0: 20, 1740.0: 20, 1770.0: 20, 15.0: 18, 3150.0: 17, 2550.0: 17, 2460.0: 17, 3000.0: 17, 2250.0: 16, 2160.0: 16, 1890.0: 16, 2340.0: 16, 2670.0: 15, 2490.0: 15, 2190.0: 14, 3120.0: 14, 75.0: 14, 2790.0: 14, 3300.0: 13, 1920.0: 12, 2640.0: 12, 2760.0: 12, 45.0: 11, 2370.0: 11, 2820.0: 11, 2850.0: 10, 2310.0: 10, 2220.0: 10, 2940.0: 10, 2520.0: 10, ...}</td>\n",
       "      <td>{0.0: 64271, 60.0: 556, 120.0: 201, 30.0: 101, 300.0: 87, 180.0: 81, 150.0: 79, 240.0: 66, 90.0: 60, 420.0: 55, 210.0: 55, 600.0: 54, 360.0: 53, 15.0: 49, 900.0: 46, 330.0: 40, 450.0: 38, 270.0: 38, 1800.0: 36, 540.0: 32, 480.0: 32, 45.0: 32, 1500.0: 31, 4.5: 28, 750.0: 28, 720.0: 23, 1200.0: 22, 2.67: 22, 390.0: 20, 660.0: 19, 630.0: 18, 1050.0: 18, 3.0: 18, 510.0: 17, 1020.0: 16, 2.97: 16, 1260.0: 15, 75.0: 14, 105.0: 13, 2400.0: 13, 59.97: 13, 135.0: 12, 1350.0: 12, 36.0: 12, 9.0: 12, 870.0: 12, 570.0: 11, 165.0: 11, 1140.0: 11, 780.0: 11, 1110.0: 11, 78.0: 11, 29.97: 11, 960.0: 11, 42.0: 11, 89.97: 10, 89.85: 10, 84.0: 10, 27.0: 10, 1650.0: 10, 3600.0: 10, 1290.0: 9, 14.97: 9, 840.0: 9, 930.0: 9, 810.0: 9, 6.0: 8, 1950.0: 8, 3000.0: 8, 17.97: 8, 29.85: 8, 1770.0: 8, 195.0: 7, 59.85: 7, 63.0: 7, 18.0: 7, 24.0: 7, 990.0: 7, 690.0: 7, 44.97: 7, 74.97: 6, 2700.0: 6, 1080.0: 6, 1860.0: 6, 33.0: 6, 119.97: 6, 11.97: 6, 54.0: 6, 2100.0: 6, 57.0: 6, 1620.0: 6, 435.0: 6, 21.0: 6, 179.97: 5, 1830.0: 5, 53.97: 5, 0.03: 5, 3300.0: 5, 114.0: 5, 96.0: 5, ...}</td>\n",
       "      <td>{0.0: 75924, 3000.0: 9, 1500.0: 5, 600.0: 4, 450.0: 3, 750.0: 3, 150.0: 3, 3600.0: 2, 3300.0: 2, 1620.0: 2, 45.0: 2, 300.0: 2, 12000.0: 2, 210.0: 2, 30.0: 2, 2100.0: 2, 6000.0: 2, 165.0: 1, 900.0: 1, 2244.0: 1, 15.0: 1, 360.0: 1, 1809.0: 1, 8850.0: 1, 390.0: 1, 120.0: 1, 99.0: 1, 6270.0: 1, 10500.0: 1, 1350.0: 1, 8700.0: 1, 1080.0: 1, 105000.0: 1, 510.0: 1, 4299.0: 1, 1855.26: 1, 29250.0: 1, 1800.0: 1, 2550.0: 1, 4200.0: 1, 1650.0: 1, 3570.0: 1, 1020.0: 1, 907.14: 1, 60.0: 1, 630.0: 1, 6060.0: 1, 1770.0: 1, 1509.75: 1, 7050.0: 1, 105.0: 1, 2010.0: 1, 2460.0: 1, 4608.0: 1, 1227.0: 1, 1.5: 1, 1470.0: 1, 6900.0: 1, 86.01: 1, 5850.0: 1, 58048.05: 1, 2872.5: 1, 5570.13: 1, 8187.0: 1, 574.56: 1, 540.0: 1}</td>\n",
       "      <td>{0: 75149, 1: 871}</td>\n",
       "      <td>{0: 75734, 1: 286}</td>\n",
       "      <td>{1: 72829, 0: 3191}</td>\n",
       "      <td>{1: 50459, 0: 25561}</td>\n",
       "      <td>{0: 76012, 1: 8}</td>\n",
       "      <td>{0: 76018, 1: 2}</td>\n",
       "      <td>{0: 73524, 1: 2496}</td>\n",
       "      <td>{0: 73846, 1: 2174}</td>\n",
       "      <td>{0: 70887, 1: 5133}</td>\n",
       "      <td>{0: 72564, 1: 3456}</td>\n",
       "      <td>{0: 72048, 1: 3972}</td>\n",
       "      <td>{0: 72756, 1: 3264}</td>\n",
       "      <td>{0: 72867, 1: 3153}</td>\n",
       "      <td>{0: 75247, 1: 773}</td>\n",
       "      <td>{0: 75260, 1: 760}</td>\n",
       "      <td>{0: 76018, 1: 2}</td>\n",
       "      <td>{0: 72154, 1: 3866}</td>\n",
       "      <td>{0: 74222, 1: 1798}</td>\n",
       "      <td>{0: 75617, 1: 403}</td>\n",
       "      <td>{0: 75883, 1: 137}</td>\n",
       "      <td>{0: 75910, 1: 110}</td>\n",
       "      <td>...</td>\n",
       "      <td>{0: 38356, 3: 8201, 6: 4851, 9: 3438, 12: 2600, 15: 2220, 18: 1853, 21: 1481, 24: 1316, 27: 1104, 30: 1007, 33: 840, 36: 780, 39: 699, 42: 645, 45: 528, 48: 509, 51: 436, 54: 370, 57: 336, 60: 307, 63: 280, 66: 267, 69: 237, 72: 218, 75: 196, 78: 183, 81: 175, 84: 157, 87: 143, 93: 139, 90: 134, 96: 128, 99: 96, 102: 92, 108: 87, 117: 78, 105: 78, 111: 72, 120: 70, 114: 60, 126: 59, 123: 57, 132: 53, 138: 52, 129: 52, 135: 47, 147: 44, 144: 37, 141: 34, 150: 33, 153: 32, 162: 27, 168: 26, 156: 26, 174: 25, 171: 25, 189: 24, 159: 24, 165: 22, 195: 22, 180: 20, 183: 20, 177: 17, 186: 17, 192: 14, 201: 14, 204: 14, 231: 13, 216: 13, 198: 11, 207: 11, 255: 11, 240: 11, 237: 11, 246: 11, 252: 11, 270: 10, 249: 10, 213: 10, 210: 10, 225: 9, 228: 9, 222: 9, 234: 9, 306: 8, 258: 8, 279: 8, 261: 8, 219: 7, 315: 7, 273: 7, 300: 7, 297: 7, 339: 6, 285: 6, 321: 6, 264: 6, 303: 6, 291: 6, ...}</td>\n",
       "      <td>{0.0: 23241, 3.0: 18220, 90.0: 5697, 15.0: 1513, 30.0: 1377, 6.0: 851, 150.0: 839, 60.0: 650, 300.0: 373, 120.0: 278, 2.76: 159, 9.0: 128, 2.88: 121, 600.0: 114, 450.0: 113, 93.0: 89, 2.67: 79, 900.0: 75, 12.0: 75, 1.5: 69, 1500.0: 66, 0.3: 63, 45.0: 60, 3000.0: 59, 180.0: 56, 0.21: 50, 2.85: 45, 2.55: 43, 80.7: 43, 29.04: 42, 0.6: 41, 87.09: 41, 2.61: 39, 18.0: 39, 0.42: 39, 75.45: 38, 75.0: 37, 2.43: 36, 2.82: 36, 153.0: 31, 750.0: 30, 1800.0: 30, 6000.0: 29, 2.79: 28, 0.99: 28, 1200.0: 26, 6.21: 26, 24.0: 26, 2.7: 26, 210.0: 26, 14.55: 25, 240.0: 23, 87.0: 22, 14.04: 22, 12.39: 22, 21.0: 22, 2.13: 22, 303.0: 22, 63.0: 21, 1.95: 21, 9000.0: 20, 0.03: 19, 33.0: 19, 0.45: 19, 105.0: 18, 48.39: 18, 2.34: 18, 5.61: 18, 2.16: 18, 0.87: 18, 25.17: 18, 360.0: 17, 14.52: 17, 5.04: 17, 2.31: 17, 1.59: 16, 4.86: 16, 0.18: 16, 4.5: 16, 0.39: 15, 58.05: 15, 0.15: 15, 36.0: 15, 83.61: 15, 3.21: 15, 3.87: 15, 330.0: 15, 2.91: 15, 66.0: 14, 3.39: 14, 19.35: 14, 4500.0: 14, 1.83: 14, 8.7: 14, 7.74: 14, 116.13: 14, 270.0: 14, 0.78: 13, 13.56: 13, 1.05: 13, ...}</td>\n",
       "      <td>{0.0: 29637, 0.09: 992, 0.18: 875, 0.99: 741, 2.61: 703, 0.27: 629, 2.55: 600, 2.4: 583, 0.51: 576, 1.05: 564, 8.7: 525, 0.87: 519, 1.59: 515, 1.74: 462, 1.83: 458, 2.31: 457, 2.91: 448, 0.39: 421, 0.42: 420, 2.13: 405, 1.95: 398, 0.48: 387, 0.72: 387, 2.52: 382, 0.21: 373, 1.44: 358, 2.67: 355, 2.22: 352, 2.43: 343, 29.04: 341, 1.86: 339, 2.34: 337, 0.78: 332, 0.63: 325, 77.58: 309, 0.96: 303, 5.82: 295, 2.88: 290, 1.17: 277, 1.32: 276, 11.61: 275, 1.2: 273, 71.4: 265, 1.65: 258, 1.08: 253, 1.68: 237, 1.38: 229, 0.69: 225, 3.0: 225, 2.79: 221, 0.84: 220, 0.81: 217, 0.3: 213, 20.34: 202, 1.23: 190, 1.14: 188, 74.46: 178, 23.22: 177, 14.52: 170, 2.7: 168, 9.69: 166, 6.0: 166, 68.28: 163, 1.62: 160, 2.49: 159, 1.35: 159, 2.16: 157, 75.45: 150, 0.33: 141, 1.29: 141, 26.13: 140, 0.54: 135, 4.83: 134, 31.95: 132, 0.93: 131, 1.89: 130, 3.87: 129, 2.04: 122, 39.0: 115, 1.77: 114, 14.97: 110, 1.5: 109, 43.56: 107, 18.0: 105, 19.35: 104, 2.82: 102, 5.01: 101, 1.92: 100, 21.0: 97, 0.6: 97, 48.0: 96, 2.1: 95, 36.03: 92, 2.07: 92, 57.0: 91, 40.68: 91, 45.03: 88, 7.74: 88, 0.12: 87, 46.44: 86, ...}</td>\n",
       "      <td>{0.0: 24664, 3.0: 18596, 90.0: 5187, 30.0: 1563, 15.0: 1542, 6.0: 1021, 150.0: 799, 60.0: 693, 300.0: 375, 120.0: 278, 93.0: 153, 9.0: 149, 600.0: 119, 450.0: 99, 900.0: 92, 12.0: 89, 45.0: 80, 153.0: 76, 3000.0: 71, 1.5: 70, 0.3: 69, 1500.0: 67, 180.0: 61, 18.0: 44, 0.6: 43, 33.0: 40, 75.0: 38, 210.0: 36, 1200.0: 35, 303.0: 35, 105.0: 34, 0.03: 34, 63.0: 33, 240.0: 32, 6000.0: 32, 1800.0: 30, 4.5: 26, 750.0: 25, 9000.0: 24, 21.0: 24, 123.0: 21, 270.0: 20, 330.0: 20, 0.45: 19, 36.0: 18, 165.0: 17, 360.0: 17, 24.0: 17, 3.6: 16, 603.0: 16, 0.18: 15, 2.88: 15, 0.15: 15, 690.0: 14, 390.0: 14, 1.8: 14, 540.0: 13, 183.0: 13, 2400.0: 13, 27.0: 13, 1650.0: 13, 0.99: 13, 1.2: 12, 78.0: 12, 510.0: 12, 990.0: 12, 0.75: 12, 51.0: 12, 8.01: 12, 135.0: 11, 87.0: 11, 3.51: 11, 1050.0: 11, 30000.0: 11, 48.0: 11, 96.0: 11, 1.11: 10, 29.04: 10, 3003.0: 10, 480.0: 10, 0.57: 10, 9.99: 10, 84.0: 10, 54.0: 10, 3.3: 10, 630.0: 10, 0.78: 10, 0.12: 9, 3.9: 9, 49.35: 9, 0.63: 9, 57.0: 9, 3300.0: 9, 4500.0: 9, 0.9: 9, 0.21: 9, 66.0: 9, 0.87: 9, 0.51: 9, 15000.0: 9, ...}</td>\n",
       "      <td>{0.0: 24664, 2.88: 1104, 2.34: 1002, 2.85: 985, 2.07: 949, 2.79: 866, 2.04: 864, 2.1: 811, 2.28: 791, 2.61: 749, 2.16: 676, 2.25: 640, 2.13: 627, 2.4: 620, 2.55: 563, 2.58: 517, 3.0: 501, 2.52: 497, 2.22: 488, 2.73: 477, 2.7: 442, 2.49: 427, 2.76: 420, 2.94: 420, 2.64: 412, 2.82: 403, 2.43: 386, 62.91: 368, 2.37: 346, 60.96: 322, 2.31: 312, 2.46: 308, 85.86: 225, 90.0: 220, 69.69: 209, 2.91: 207, 61.95: 206, 83.79: 190, 2.97: 179, 63.87: 166, 66.78: 158, 2.19: 151, 2.67: 143, 67.74: 133, 82.77: 127, 84.81: 125, 85.14: 112, 68.7: 101, 60.99: 101, 70.65: 88, 10.17: 82, 73.56: 81, 72.0: 81, 72.99: 76, 74.52: 72, 78.99: 65, 75.99: 64, 86.91: 63, 76.44: 63, 66.0: 62, 10.32: 62, 75.48: 62, 75.0: 61, 64.98: 60, 81.99: 56, 83.01: 56, 68.01: 56, 10.47: 52, 4.14: 50, 78.63: 48, 84.21: 48, 66.99: 47, 20.97: 47, 62.01: 46, 77.43: 46, 15.0: 46, 1.62: 46, 20.31: 46, 83.22: 45, 4.2: 45, 11.61: 44, 23.22: 44, 74.01: 43, 14.31: 40, 85.35: 40, 62.07: 39, 20.64: 39, 104.85: 39, 78.39: 37, 68.28: 37, 30.0: 37, 12.0: 36, 0.27: 35, 71.61: 35, 77.58: 35, 64.83: 35, 14.16: 34, 88.56: 34, 13.98: 34, 88.02: 33, ...}</td>\n",
       "      <td>{0.0: 74628, 3.0: 16, 30.0: 13, 15.0: 12, 60.0: 9, 6.0: 4, 150.0: 4, 11.37: 2, 51.96: 2, 2.49: 2, 826.71: 2, 35.37: 2, 750.0: 2, 2.67: 2, 43.14: 2, 753.0: 2, 120.0: 2, 300.0: 2, 155.79: 2, 46.44: 2, 90.0: 2, 36.0: 2, 51.54: 2, 1.17: 1, 1236.12: 1, 1107.0: 1, 94.77: 1, 3083.34: 1, 587.28: 1, 10253.1: 1, 15015.0: 1, 2759.58: 1, 1688.19: 1, 101.25: 1, 675.99: 1, 2988.45: 1, 4099.05: 1, 2.76: 1, 1226.13: 1, 195.99: 1, 2449.74: 1, 123.42: 1, 404.25: 1, 1263.93: 1, 311.16: 1, 765.3: 1, 4900.02: 1, 27.33: 1, 613.44: 1, 1125.54: 1, 1167.09: 1, 580.08: 1, 1023.3: 1, 13.95: 1, 574.98: 1, 2976.24: 1, 1746.87: 1, 9.81: 1, 275.37: 1, 64.8: 1, 2585.85: 1, 823.02: 1, 8138.4: 1, 1113.75: 1, 6503.25: 1, 4710.24: 1, 2690.04: 1, 1432.56: 1, 441.42: 1, 5639.64: 1, 225.15: 1, 5159.55: 1, 1803.42: 1, 923.04: 1, 141.48: 1, 277.5: 1, 1472.13: 1, 871.44: 1, 379.83: 1, 201.69: 1, 182.91: 1, 16425.3: 1, 437.97: 1, 3594.15: 1, 1882.26: 1, 6709.89: 1, 6053.22: 1, 32719.35: 1, 1037.55: 1, 91.92: 1, 288.54: 1, 353.46: 1, 828.27: 1, 17630.25: 1, 757.2: 1, 6030.6: 1, 16081.29: 1, 165.51: 1, 474.99: 1, 251.61: 1, ...}</td>\n",
       "      <td>{0.0: 75536, 0.99: 6, 0.18: 4, 0.3: 4, 1.05: 3, 0.54: 3, 1.59: 3, 0.51: 3, 49.98: 2, 4.14: 2, 106.44: 2, 12.0: 2, 0.78: 2, 8.28: 2, 17.43: 2, 2.88: 2, 218.13: 2, 5.79: 2, 32.13: 2, 4.05: 2, 43.53: 2, 10.35: 2, 0.96: 2, 19.98: 2, 128.4: 2, 116.13: 2, 14.01: 2, 50.31: 2, 2.13: 2, 5.22: 2, 240.0: 2, 3.87: 2, 0.39: 2, 2.22: 2, 2.1: 2, 5611.17: 1, 687.99: 1, 97.95: 1, 38.7: 1, 154.86: 1, 24.99: 1, 13.92: 1, 146.52: 1, 1062.39: 1, 292.71: 1, 24.45: 1, 182.16: 1, 94.98: 1, 956.73: 1, 140.31: 1, 203.97: 1, 764.55: 1, 80.04: 1, 1827.36: 1, 78.9: 1, 1999.62: 1, 59.97: 1, 21.84: 1, 13.56: 1, 4.29: 1, 34.86: 1, 206.88: 1, 208.32: 1, 39.99: 1, 342.63: 1, 40.65: 1, 2844.63: 1, 39.3: 1, 4.08: 1, 533.04: 1, 600.0: 1, 417.39: 1, 62.01: 1, 130.65: 1, 192.84: 1, 1400.25: 1, 85.89: 1, 1.17: 1, 365.82: 1, 132.33: 1, 20.55: 1, 2.67: 1, 19.38: 1, 54.99: 1, 7.98: 1, 4.02: 1, 134.49: 1, 596.22: 1, 2603.22: 1, 113.46: 1, 8.91: 1, 245.43: 1, 92.52: 1, 51.18: 1, 297.36: 1, 687.27: 1, 33.9: 1, 107.16: 1, 885.81: 1, 44.04: 1, ...}</td>\n",
       "      <td>{0.0: 73821, 3.0: 22, 15.0: 13, 60.0: 10, 30.0: 10, 150.0: 7, 300.0: 4, 900.0: 3, 750.0: 3, 1652.07: 2, 2124.81: 2, 431.91: 2, 801.57: 2, 2200.74: 2, 0.96: 2, 9.0: 2, 1305.0: 2, 6051.99: 2, 1384.5: 2, 1302.81: 2, 419.49: 2, 102.54: 2, 753.0: 2, 120.0: 2, 401.79: 2, 1500.0: 2, 180.0: 2, 775.38: 2, 6.0: 2, 482.61: 1, 7.05: 1, 25330.74: 1, 823.02: 1, 66300.3: 1, 8908.5: 1, 717.03: 1, 225.24: 1, 16155.81: 1, 6304.44: 1, 1691.31: 1, 1297.8: 1, 5105.85: 1, 11.49: 1, 6045.72: 1, 1174.44: 1, 58.11: 1, 2735.52: 1, 165.42: 1, 4981.98: 1, 7211.43: 1, 17673.84: 1, 2776.92: 1, 12063.06: 1, 750.81: 1, 825.48: 1, 111.9: 1, 10785.0: 1, 1323.33: 1, 3155.22: 1, 1154.91: 1, 861.39: 1, 133.17: 1, 758.91: 1, 35.04: 1, 2237.73: 1, 2503.2: 1, 964.17: 1, 1285.92: 1, 896.4: 1, 3942.69: 1, 17794.41: 1, 4479.21: 1, 1063.11: 1, 1090.23: 1, 139.53: 1, 2533.05: 1, 806.76: 1, 10271.4: 1, 5055.03: 1, 668.79: 1, 1080.33: 1, 802.8: 1, 6493.5: 1, 11345.22: 1, 102.81: 1, 15.39: 1, 894.3: 1, 34.68: 1, 170.28: 1, 22889.04: 1, 21748.68: 1, 844.47: 1, 79.68: 1, 468.69: 1, 71.64: 1, 1838.61: 1, 7228.68: 1, 1621.74: 1, 446.85: 1, 92.88: 1, ...}</td>\n",
       "      <td>{0.0: 73821, 3.0: 6, 13.2: 3, 2.34: 2, 6497.64: 2, 2.7: 2, 2.85: 2, 1051.56: 2, 1416.36: 2, 139.53: 2, 99.15: 2, 837.78: 2, 1.92: 2, 0.96: 2, 764.55: 2, 15.0: 2, 304.23: 2, 47.16: 2, 537.9: 2, 1080.63: 2, 145.2: 2, 2.52: 2, 38.43: 2, 1659.21: 1, 1881.99: 1, 1542.3: 1, 3947.19: 1, 3784.08: 1, 200.94: 1, 186.39: 1, 1798.8: 1, 273.87: 1, 8104.53: 1, 4519.41: 1, 482.04: 1, 90.0: 1, 171.78: 1, 9628.74: 1, 2352.63: 1, 228.33: 1, 80922.6: 1, 1248.93: 1, 1202.97: 1, 10275.36: 1, 2503.2: 1, 6166.68: 1, 964.17: 1, 998.94: 1, 3732.96: 1, 940.38: 1, 1637.79: 1, 168.81: 1, 224.1: 1, 1777.68: 1, 699.48: 1, 76527.33: 1, 426.93: 1, 1048.05: 1, 201.75: 1, 527.46: 1, 454.95: 1, 1564.2: 1, 4798.62: 1, 1102.5: 1, 491.82: 1, 2627.16: 1, 1055.67: 1, 1127.46: 1, 1059.36: 1, 656.04: 1, 5922.48: 1, 58.5: 1, 472.41: 1, 2746.77: 1, 41.94: 1, 2512.14: 1, 964.08: 1, 1163.16: 1, 1372.26: 1, 1968.03: 1, 342.06: 1, 4266.24: 1, 1285.92: 1, 3942.69: 1, 451.23: 1, 94.23: 1, 5111.85: 1, 56.4: 1, 11294.28: 1, 14.52: 1, 302.07: 1, 416.79: 1, 1007.31: 1, 1148.28: 1, 823.02: 1, 2142.03: 1, 20240.85: 1, 606.39: 1, 165.42: 1, 519.9: 1, ...}</td>\n",
       "      <td>{0.0: 73024, 150000.0: 6, 180000.0: 6, 60.0: 5, 36000.0: 5, 45000.0: 5, 30000.0: 5, 90000.0: 4, 15.0: 4, 580.65: 4, 30.0: 4, 90.0: 4, 3.0: 4, 12000.0: 4, 0.09: 4, 20.01: 3, 14000.01: 3, 2000.01: 3, 3000.21: 3, 1200.0: 3, 0.51: 3, 81290.31: 3, 76499.97: 3, 600.12: 3, 26129.04: 3, 180.0: 3, 1500.0: 3, 15483.87: 3, 30967.74: 3, 300.0: 3, 387.12: 3, 12413.82: 2, 10714.29: 2, 30000.24: 2, 1161.3: 2, 11000.01: 2, 14249.97: 2, 1800.0: 2, 193548.36: 2, 300049.74: 2, 32000.01: 2, 53999.97: 2, 63000.0: 2, 21600.03: 2, 69999.99: 2, 1500.09: 2, 101999.97: 2, 28064.55: 2, 150006.63: 2, 1354.83: 2, 27000.0: 2, 21000.0: 2, 0.39: 2, 2503.5: 2, 175862.04: 2, 390000.0: 2, 0.21: 2, 6000.0: 2, 28000.41: 2, 3300.3: 2, 125000.04: 2, 5.43: 2, 2100.0: 2, 1800.18: 2, 120000.0: 2, 95699.97: 2, 8000.01: 2, 140328.18: 2, 62903.22: 2, 0.54: 2, 47586.21: 2, 3870.99: 2, 6002.73: 2, 39999.99: 2, 18000.03: 2, 67499.97: 2, 207000.0: 2, 480.0: 2, 17371.26: 2, 1935.48: 2, 450.0: 2, 186206.91: 2, 60000.0: 2, 2200.02: 2, 4.29: 2, 214.29: 2, 677.43: 2, 12857.16: 2, 750.09: 2, 7548.39: 2, 3000.6: 2, 4400.01: 2, 16500.0: 2, 1285.71: 2, 7200.0: 2, 26129.07: 2, 75999.99: 2, 600.06: 2, 220002.18: 2, 570.0: 2, ...}</td>\n",
       "      <td>{0.0: 74734, 11612.91: 7, 580.65: 5, 1935.48: 5, 7741.92: 5, 38709.69: 4, 5000.01: 4, 29032.26: 4, 10714.29: 4, 8709.69: 4, 0.09: 4, 17419.38: 3, 348.39: 3, 45.03: 3, 15000.03: 3, 20000.01: 3, 2903.22: 3, 0.51: 3, 3483.87: 3, 774.21: 3, 4354.83: 3, 60000.0: 3, 51724.14: 3, 9677.43: 3, 3000.0: 3, 72580.65: 3, 999.99: 3, 6967.74: 3, 309.66: 2, 5806.44: 2, 2600.01: 2, 6000.0: 2, 1451.61: 2, 13000.02: 2, 14516.13: 2, 29.04: 2, 44000.01: 2, 3214.32: 2, 3.87: 2, 1158.0: 2, 2903.25: 2, 9300.0: 2, 114999.99: 2, 26129.04: 2, 2.49: 2, 2000.01: 2, 120000.0: 2, 600.0: 2, 99.99: 2, 0.48: 2, 16824.21: 2, 19.35: 2, 125806.44: 2, 8400.0: 2, 4.29: 2, 2322.6: 2, 1741.95: 2, 464.52: 2, 5032.26: 2, 4285.71: 2, 273103.44: 2, 5172.42: 2, 19741.95: 2, 12999.99: 2, 4799.97: 2, 1151.61: 2, 262.62: 2, 2400.0: 2, 3600.0: 2, 10000.02: 2, 39.99: 2, 341.37: 2, 150.0: 2, 3999.99: 2, 5225.82: 2, 20.7: 2, 15517.26: 2, 24000.0: 2, 24999.99: 2, 105000.0: 2, 23225.79: 2, 18000.0: 2, 599.97: 2, 3.99: 2, 7560.0: 2, 2322.57: 2, 444.42: 2, 43548.39: 2, 10451.61: 2, 2419.35: 2, 5.22: 2, 2.07: 2, 5000.04: 2, 44345.34: 1, 43500.0: 1, 14793.12: 1, 21000.03: 1, 164560.65: 1, 10200.3: 1, 25.89: 1, ...}</td>\n",
       "      <td>{0.0: 72544, 3.0: 8, 90.03: 4, 300.0: 4, 30.0: 4, 75.0: 3, 60.03: 3, 30.03: 3, 30017.4: 2, 75000.0: 2, 0.18: 2, 99.99: 2, 30800.01: 2, 1999.98: 2, 6004.5: 2, 3900.87: 2, 3332.97: 2, 15.03: 2, 15.0: 2, 17375.04: 2, 10200.51: 2, 240000.0: 2, 52505.07: 2, 150.06: 2, 30039.87: 2, 18000.0: 2, 3260.22: 2, 150211.74: 2, 60061.14: 2, 3000.81: 2, 1800.54: 2, 450.09: 2, 600.18: 2, 0.03: 2, 87.09: 2, 3.09: 2, 2.13: 2, 60000.0: 2, 600.0: 2, 1080.0: 2, 15000.0: 2, 43548.39: 2, 120.03: 2, 30042.27: 2, 30035.82: 2, 2.55: 2, 35426.7: 2, 580.02: 2, 69.99: 2, 90000.0: 2, 120114.45: 2, 2.91: 2, 8709.69: 2, 96.0: 2, 150224.19: 2, 36049.41: 2, 450.06: 2, 30047.85: 2, 1514.07: 1, 42063.48: 1, 24642.72: 1, 44154.78: 1, 3712.71: 1, 301086.39: 1, 209403.87: 1, 37343.37: 1, 297315.54: 1, 7137.9: 1, 245142.63: 1, 2760.33: 1, 207288.0: 1, 129699.48: 1, 15014.25: 1, 30012.0: 1, 32826.9: 1, 2681.91: 1, 87642.36: 1, 299039.61: 1, 2322.57: 1, 561.27: 1, 240261.75: 1, 63098.79: 1, 25208.76: 1, 300.18: 1, 27041.79: 1, 2973.51: 1, 104550.81: 1, 25495.53: 1, 438310.32: 1, 77.07: 1, 18776.46: 1, 15023.25: 1, 97044.48: 1, 135790.83: 1, 30043.5: 1, 117030.54: 1, 119727.03: 1, 478854.87: 1, 1686.81: 1, 78701.07: 1, ...}</td>\n",
       "      <td>{0.0: 72544, 75.03: 3, 2.04: 2, 8709.69: 2, 1999.98: 2, 29.04: 2, 53823.69: 2, 17600.01: 2, 1968.84: 2, 3900.87: 2, 18733.47: 2, 69.99: 2, 25177.77: 2, 40252.74: 2, 2918.25: 2, 1.95: 2, 5264.79: 2, 43548.39: 2, 11968.11: 2, 1584.12: 2, 23475.66: 2, 1080.0: 2, 51319.05: 2, 42.6: 2, 20658.45: 2, 87.09: 2, 1.77: 2, 3.09: 2, 13.98: 2, 200.01: 2, 7137.9: 1, 380826.03: 1, 80825.73: 1, 324418.65: 1, 241.98: 1, 20427.6: 1, 233259.99: 1, 97896.15: 1, 52250.28: 1, 172469.19: 1, 2814.42: 1, 11903.04: 1, 8887.5: 1, 86447.97: 1, 15572.52: 1, 16456.95: 1, 227605.95: 1, 138434.49: 1, 175724.97: 1, 70468.53: 1, 91875.09: 1, 114067.35: 1, 1489.62: 1, 27069.96: 1, 93759.42: 1, 889.05: 1, 3011.64: 1, 182151.27: 1, 198278.4: 1, 18864.21: 1, 174795.78: 1, 101284.71: 1, 10523.88: 1, 1947.81: 1, 1612.23: 1, 148103.52: 1, 75504.09: 1, 72708.69: 1, 42.57: 1, 272701.41: 1, 57623.94: 1, 17912.91: 1, 110197.17: 1, 187.89: 1, 207.87: 1, 138957.99: 1, 6090.6: 1, 1514.07: 1, 2237.73: 1, 484101.99: 1, 40948.95: 1, 21437.28: 1, 7547.04: 1, 86034.72: 1, 161132.79: 1, 53725.62: 1, 240790.47: 1, 148652.52: 1, 271079.34: 1, 360.0: 1, 477219.87: 1, 2322.57: 1, 107544.84: 1, 286421.31: 1, 182098.02: 1, 61759.62: 1, 52027.68: 1, 21630.93: 1, 255394.14: 1, 24231.87: 1, ...}</td>\n",
       "      <td>{0.0: 73047, 30000.0: 67, 90000.0: 64, 60000.0: 64, 150000.0: 57, 45000.0: 51, 300000.0: 47, 450000.0: 44, 120000.0: 42, 180000.0: 36, 9000.0: 35, 75000.0: 34, 105000.0: 31, 18000.0: 31, 210000.0: 27, 135000.0: 25, 270000.0: 22, 24000.0: 22, 300.0: 22, 15000.0: 20, 21000.0: 20, 3000.0: 20, 240000.0: 19, 36000.0: 17, 6000.0: 13, 12000.0: 13, 66000.0: 13, 54000.0: 11, 225000.0: 11, 27000.0: 10, 165000.0: 10, 78000.0: 10, 48000.0: 10, 84000.0: 10, 360000.0: 10, 63000.0: 9, 51000.0: 9, 108000.0: 8, 10500.0: 8, 81000.0: 8, 1500.0: 8, 195000.0: 7, 72000.0: 7, 111000.0: 7, 67741.95: 7, 69000.0: 7, 57000.0: 7, 14516.13: 6, 42000.0: 6, 96000.0: 6, 99000.0: 6, 39000.0: 6, 8709.69: 6, 63870.96: 5, 189000.0: 5, 420000.0: 5, 168000.0: 5, 114000.0: 5, 144000.0: 5, 2000.01: 5, 102000.0: 5, 222580.65: 4, 37500.0: 4, 40645.17: 4, 39999.99: 4, 198000.0: 4, 72580.65: 4, 285000.0: 4, 8129.04: 4, 21290.31: 4, 123000.0: 4, 280000.02: 4, 117000.0: 4, 69677.43: 4, 126000.0: 4, 43548.39: 4, 234000.0: 4, 3600.0: 4, 58500.0: 3, 156774.15: 3, 26000.04: 3, 36000.03: 3, 31451.61: 3, 87096.78: 3, 8100.0: 3, 297003.0: 3, 84193.56: 3, 7500.0: 3, 1935.48: 3, 290.31: 3, 52258.11: 3, 900.0: 3, 58064.49: 3, 330000.0: 3, 70161.3: 3, 145161.3: 3, 16500.0: 3, 27096.78: 3, 28064.52: 3, 375000.0: 3, ...}</td>\n",
       "      <td>{0.0: 74657, 5000.01: 11, 6000.0: 11, 4000.02: 10, 967.74: 9, 9677.43: 9, 30000.0: 9, 11612.91: 9, 3999.99: 8, 122.22: 7, 39999.99: 7, 12000.0: 7, 18000.0: 7, 8000.01: 6, 5806.44: 6, 7741.92: 6, 2903.22: 6, 99.99: 6, 9999.99: 6, 60000.0: 5, 111.12: 5, 7258.08: 5, 3387.09: 5, 19354.83: 5, 3000.0: 5, 1500.0: 5, 26129.04: 4, 3870.99: 4, 2000.01: 4, 15000.0: 4, 23225.82: 4, 55.56: 4, 14516.13: 4, 27000.0: 4, 150000.0: 4, 21774.21: 4, 87096.78: 4, 1551.72: 4, 9000.0: 4, 500.01: 4, 17419.38: 4, 49999.98: 4, 1935.48: 4, 8709.69: 4, 20000.01: 4, 34500.0: 3, 2100.0: 3, 4137.93: 3, 22222.23: 3, 333.33: 3, 31034.46: 3, 14516.16: 3, 116129.04: 3, 225000.03: 3, 6999.99: 3, 580.65: 3, 124137.93: 3, 3103.44: 3, 34838.7: 3, 11111.13: 3, 12413.79: 3, 4838.7: 3, 1222.26: 3, 2419.35: 3, 2222.22: 3, 58064.52: 3, 53225.79: 3, 666.66: 3, 1741.95: 3, 24193.56: 3, 3483.9: 3, 24999.99: 3, 1777.77: 3, 999.99: 3, 36000.0: 3, 1800.0: 3, 16071.45: 3, 7500.0: 3, 3870.96: 3, 20322.57: 3, 33000.0: 3, 17419.35: 3, 6666.69: 3, 3600.0: 3, 1200.0: 2, 120000.0: 2, 44709.69: 2, 37241.37: 2, 15517.23: 2, 4064.52: 2, 5032.26: 2, 72580.65: 2, 29032.26: 2, 16888.89: 2, 6774.21: 2, 24827.58: 2, 13000.02: 2, 15483.87: 2, 69677.43: 2, 21999.99: 2, ...}</td>\n",
       "      <td>{0.0: 72836, 90000.0: 134, 30000.0: 130, 60000.0: 121, 150000.0: 117, 300000.0: 107, 45000.0: 93, 120000.0: 86, 75000.0: 74, 450000.0: 73, 180000.0: 72, 9000.0: 60, 18000.0: 56, 105000.0: 47, 270000.0: 46, 15000.0: 44, 210000.0: 42, 135000.0: 42, 240000.0: 38, 24000.0: 38, 3000.0: 37, 21000.0: 37, 36000.0: 33, 300.0: 31, 54000.0: 28, 12000.0: 25, 27000.0: 24, 6000.0: 23, 66000.0: 23, 225000.0: 22, 84000.0: 20, 195000.0: 19, 165000.0: 18, 42000.0: 16, 360000.0: 16, 1500.0: 16, 108000.0: 15, 39000.0: 15, 10500.0: 14, 51000.0: 14, 63000.0: 14, 57000.0: 13, 48000.0: 12, 102000.0: 12, 78000.0: 11, 96000.0: 11, 69000.0: 10, 81000.0: 10, 72000.0: 10, 99000.0: 9, 111000.0: 9, 126000.0: 8, 123000.0: 8, 255000.0: 8, 33000.0: 7, 37500.0: 7, 114000.0: 7, 168000.0: 7, 13500.0: 7, 4500.0: 7, 285000.0: 7, 189000.0: 6, 22500.0: 6, 900.0: 6, 144000.0: 6, 30003.0: 5, 294000.0: 5, 375000.0: 5, 46500.0: 5, 16500.0: 5, 3600.0: 5, 132000.0: 5, 7500.0: 5, 234000.0: 5, 390000.0: 5, 87000.0: 5, 192000.0: 4, 174000.0: 4, 159000.0: 4, 58500.0: 4, 297003.0: 4, 198000.0: 4, 600.0: 4, 90003.0: 4, 258000.0: 4, 117000.0: 4, 207000.0: 4, 204000.0: 4, 141000.0: 4, 276000.0: 4, 222000.0: 4, 153000.0: 4, 330000.0: 4, 48003.0: 3, 147000.0: 3, 25500.0: 3, 60003.0: 3, 150003.0: 3, 28800.0: 3, 17400.0: 3, ...}</td>\n",
       "      <td>{0.0: 72836, 20322.57: 9, 240.75: 7, 41333.34: 7, 261290.34: 6, 233.34: 6, 40645.17: 6, 85500.0: 5, 135000.0: 5, 53225.82: 5, 72580.65: 5, 375000.0: 5, 81333.33: 5, 69000.0: 5, 81000.0: 5, 216666.66: 5, 90000.0: 5, 42000.0: 5, 82580.64: 5, 101666.67: 5, 213333.33: 5, 219999.99: 5, 105000.0: 4, 37741.95: 4, 36000.0: 4, 270000.0: 4, 35000.01: 4, 109677.42: 4, 20000.01: 4, 31935.48: 4, 290000.01: 4, 34838.7: 4, 103225.8: 4, 63999.99: 4, 50000.01: 4, 222580.65: 4, 240000.0: 4, 43333.32: 4, 230000.01: 4, 145161.3: 4, 94500.0: 4, 51000.0: 4, 76935.48: 4, 223448.28: 4, 66000.0: 4, 129999.99: 4, 300000.0: 4, 60967.74: 4, 42822.6: 3, 52419.36: 3, 65000.01: 3, 70000.02: 3, 16258.08: 3, 108387.09: 3, 29032.26: 3, 43548.39: 3, 30555.57: 3, 16258.05: 3, 58500.0: 3, 341379.3: 3, 66774.21: 3, 43225.8: 3, 82666.68: 3, 30517.23: 3, 46000.02: 3, 99999.99: 3, 168387.09: 3, 78000.0: 3, 252580.65: 3, 25645.17: 3, 121935.48: 3, 61034.49: 3, 215000.01: 3, 42750.0: 3, 24838.71: 3, 89032.26: 3, 56129.07: 3, 56903.22: 3, 2407.41: 3, 580.65: 3, 96000.0: 3, 81290.34: 3, 21666.66: 3, 75870.99: 3, 252000.0: 3, 87096.78: 3, 108870.99: 3, 142741.95: 3, 15096.78: 3, 93000.0: 3, 57258.06: 3, 191612.91: 3, 21290.31: 3, 108000.0: 3, 232258.08: 3, 43548.42: 3, 127741.95: 3, 182903.22: 3, 64285.71: 3, 62222.22: 3, ...}</td>\n",
       "      <td>{0.0: 75532, 75000.0: 27, 90000.0: 23, 150000.0: 20, 300000.0: 18, 180000.0: 12, 120000.0: 12, 15000.0: 6, 36000.0: 6, 60000.0: 5, 84000.0: 5, 225000.0: 5, 30000.0: 5, 450000.0: 5, 105000.0: 5, 18000.0: 5, 27000.0: 4, 240000.0: 4, 126000.0: 4, 210000.0: 4, 33000.0: 3, 54000.0: 3, 6000.0: 3, 360000.0: 3, 129000.0: 3, 201000.0: 3, 195000.0: 3, 102000.0: 3, 39000.0: 3, 93000.0: 2, 24000.0: 2, 31935.51: 2, 108000.0: 2, 55161.3: 2, 135000.0: 2, 81000.0: 2, 99000.0: 2, 52500.0: 2, 123000.0: 2, 186000.0: 2, 294000.0: 2, 19200.0: 2, 73928.61: 2, 78000.0: 2, 15200.01: 2, 405000.0: 2, 165000.0: 2, 390000.0: 2, 75600.0: 2, 441964.32: 1, 285000.0: 1, 65032.26: 1, 37741.92: 1, 348387.12: 1, 120300.0: 1, 40714.2: 1, 3500.01: 1, 16899.99: 1, 103448.28: 1, 21428.64: 1, 124137.84: 1, 98571.45: 1, 141000.0: 1, 86709.69: 1, 285003.0: 1, 29032.26: 1, 7758.63: 1, 216000.0: 1, 47499.99: 1, 105000.03: 1, 105630.0: 1, 145500.0: 1, 40064.52: 1, 67098.21: 1, 145200.0: 1, 49999.98: 1, 121500.0: 1, 2946.45: 1, 13800.03: 1, 87290.31: 1, 17032.26: 1, 115899.96: 1, 137408.85: 1, 2419.32: 1, 110335.74: 1, 568965.48: 1, 42000.0: 1, 8854.83: 1, 144642.87: 1, 20699.97: 1, 45000.0: 1, 104130.0: 1, 33103.44: 1, 112838.73: 1, 5357.19: 1, 51000.0: 1, 24483.87: 1, 52499.97: 1, 71048.46: 1, 42003.0: 1, ...}</td>\n",
       "      <td>{0.0: 75722, 6000.0: 5, 9677.43: 4, 20322.57: 3, 5000.01: 3, 2419.35: 3, 4838.7: 3, 3000.0: 3, 15517.23: 2, 27931.05: 2, 29032.32: 2, 27999.99: 2, 15999.99: 2, 15677.43: 2, 6428.58: 2, 47499.99: 2, 48387.09: 2, 41379.3: 2, 18000.0: 2, 14516.13: 2, 6206.91: 2, 12413.82: 2, 147000.0: 2, 152000.01: 2, 19354.83: 2, 2586.21: 2, 3600.0: 1, 69365.04: 1, 45000.03: 1, 7999.98: 1, 161379.3: 1, 2400.0: 1, 8844.84: 1, 15000.0: 1, 4034.49: 1, 7258.05: 1, 56000.01: 1, 6724.14: 1, 10344.84: 1, 345000.0: 1, 4161.3: 1, 1100.01: 1, 52499.97: 1, 13551.72: 1, 80199.99: 1, 51724.11: 1, 36000.03: 1, 119087.61: 1, 11250.0: 1, 12000.06: 1, 8275.89: 1, 2499.99: 1, 1555.86: 1, 257142.96: 1, 42580.65: 1, 6310.56: 1, 2482.74: 1, 6931.02: 1, 273103.59: 1, 42400.02: 1, 8275.86: 1, 131689.65: 1, 3002.49: 1, 12364.11: 1, 39999.99: 1, 90999.99: 1, 10241.4: 1, 77586.18: 1, 5357.16: 1, 23225.79: 1, 30000.0: 1, 5999.97: 1, 6290.31: 1, 84000.03: 1, 2079.33: 1, 45620.7: 1, 51000.03: 1, 3497.13: 1, 387.12: 1, 29032.26: 1, 11758.05: 1, 9931.02: 1, 47419.38: 1, 154537.2: 1, 534000.0: 1, 22876.17: 1, 12432.0: 1, 517.26: 1, 1285.74: 1, 46551.72: 1, 13935.48: 1, 16000.02: 1, 7258.08: 1, 21428.64: 1, 79200.0: 1, 353571.48: 1, 16935.48: 1, 65000.04: 1, 3870.99: 1, 7200.0: 1, ...}</td>\n",
       "      <td>{0.0: 75483, 75000.0: 37, 90000.0: 34, 150000.0: 31, 300000.0: 24, 120000.0: 18, 180000.0: 16, 60000.0: 11, 36000.0: 10, 450000.0: 9, 105000.0: 8, 30000.0: 8, 225000.0: 7, 18000.0: 7, 24000.0: 7, 135000.0: 6, 240000.0: 6, 15000.0: 6, 360000.0: 5, 27000.0: 5, 84000.0: 5, 210000.0: 5, 39000.0: 5, 33000.0: 5, 54000.0: 4, 126000.0: 4, 201000.0: 4, 165000.0: 4, 270000.0: 4, 48000.0: 3, 390000.0: 3, 45000.0: 3, 108000.0: 3, 195000.0: 3, 78000.0: 3, 93000.0: 3, 129000.0: 3, 42000.0: 3, 405000.0: 3, 81000.0: 3, 114000.0: 2, 141000.0: 2, 2499.99: 2, 51000.0: 2, 123000.0: 2, 52500.0: 2, 102000.0: 2, 294000.0: 2, 22500.0: 2, 75003.0: 2, 34500.0: 2, 6000.0: 2, 99000.0: 2, 198000.0: 2, 186000.0: 2, 96000.0: 2, 195326.52: 1, 120300.0: 1, 285000.0: 1, 175200.0: 1, 26709.69: 1, 73899.99: 1, 95000.01: 1, 15030.0: 1, 102096.81: 1, 91633.59: 1, 89997.12: 1, 162326.91: 1, 128349.93: 1, 207000.0: 1, 19500.0: 1, 174000.0: 1, 285003.0: 1, 115500.0: 1, 104130.0: 1, 98225.82: 1, 92509.41: 1, 525000.0: 1, 39227.58: 1, 147000.0: 1, 535690.32: 1, 7200.0: 1, 66120.0: 1, 534000.0: 1, 104703.0: 1, 137408.85: 1, 288000.0: 1, 77499.99: 1, 20322.6: 1, 774.21: 1, 59537.43: 1, 24900.0: 1, 14400.0: 1, 42003.0: 1, 85500.0: 1, 49500.0: 1, 22329.45: 1, 117000.0: 1, 129999.99: 1, 45622.8: 1, ...}</td>\n",
       "      <td>{0.0: 75483, 203225.82: 3, 50806.44: 3, 94193.55: 2, 124137.93: 2, 101666.67: 2, 19600.02: 2, 66774.18: 2, 2499.99: 2, 125806.47: 2, 81964.32: 2, 122000.01: 2, 209677.44: 2, 60999.99: 2, 32516.13: 2, 245000.01: 2, 65833.32: 2, 75000.0: 2, 72500.01: 2, 27600.0: 2, 24000.0: 2, 51612.9: 2, 50862.06: 2, 142258.05: 2, 72580.65: 2, 78000.0: 2, 34064.52: 1, 107000.01: 1, 229161.3: 1, 28741.95: 1, 87142.86: 1, 27344.82: 1, 294999.96: 1, 175500.03: 1, 103306.47: 1, 169548.42: 1, 50850.06: 1, 60155.82: 1, 468482.16: 1, 104275.86: 1, 54844.29: 1, 26709.69: 1, 4129.05: 1, 148000.02: 1, 114919.38: 1, 149449.98: 1, 87000.03: 1, 275806.44: 1, 7838.52: 1, 125376.57: 1, 108620.67: 1, 58900.02: 1, 139650.0: 1, 170666.67: 1, 29527.26: 1, 45333.33: 1, 240000.0: 1, 11785.71: 1, 20357.13: 1, 71709.69: 1, 13060.68: 1, 19161.27: 1, 51724.14: 1, 36750.03: 1, 12193.56: 1, 2174.97: 1, 38370.96: 1, 62142.87: 1, 141435.0: 1, 128349.93: 1, 30000.0: 1, 579435.48: 1, 97096.77: 1, 197419.35: 1, 180000.0: 1, 82856.13: 1, 28241.37: 1, 146774.19: 1, 48387.09: 1, 149333.34: 1, 81379.32: 1, 50357.1: 1, 19780.65: 1, 109285.74: 1, 191172.45: 1, 113225.82: 1, 26400.0: 1, 52419.36: 1, 28749.99: 1, 53225.82: 1, 46612.92: 1, 105000.03: 1, 152801.73: 1, 278799.99: 1, 45806.46: 1, 117241.38: 1, 31000.02: 1, 18300.0: 1, 15300.0: 1, 84780.45: 1, ...}</td>\n",
       "      <td>{0.0: 76018, 7741.95: 1, 5586.21: 1}</td>\n",
       "      <td>{0.0: 76018, 7293.12: 1, 18870.99: 1}</td>\n",
       "      <td>{0.0: 75930, 67321.32: 3, 37020.03: 2, 1215.93: 1, 147969.84: 1, 492.18: 1, 16176.69: 1, 23446.23: 1, 17423.82: 1, 12213.3: 1, 14897.16: 1, 2198.67: 1, 66989.04: 1, 19691.79: 1, 30117.39: 1, 32821.56: 1, 3537.99: 1, 32163.6: 1, 239.97: 1, 5831.01: 1, 2477.7: 1, 18841.02: 1, 2120.97: 1, 26853.06: 1, 2248.56: 1, 2472.24: 1, 10473.84: 1, 2884.2: 1, 71371.8: 1, 9777.27: 1, 253.41: 1, 33081.39: 1, 8335.83: 1, 2409.51: 1, 11892.99: 1, 266345.76: 1, 40090.62: 1, 52606.47: 1, 3637.65: 1, 20238.12: 1, 83959.2: 1, 8902.59: 1, 3032.61: 1, 2679.66: 1, 12846.06: 1, 120681.6: 1, 966.21: 1, 3999.75: 1, 1079.97: 1, 39376.89: 1, 37036.44: 1, 66905.91: 1, 399.93: 1, 4108.14: 1, 1498.5: 1, 4336.86: 1, 2136.69: 1, 5712.69: 1, 601.65: 1, 173570.55: 1, 67994.16: 1, 17758.38: 1, 75936.63: 1, 4080.48: 1, 1366.65: 1, 1296.09: 1, -0.03: 1, 4227.15: 1, 84876.93: 1, 18115.23: 1, 90180.72: 1, 4854.84: 1, 1199.79: 1, 4210084.23: 1, 238379.16: 1, 16817.88: 1, 10738.29: 1, 1655.34: 1, 5996.58: 1, 514.8: 1, 19073.82: 1, 3848.58: 1, 11808.63: 1, 26288.19: 1, 43767.21: 1, 4134.72: 1, 97037.7: 1, 3174.39: 1}</td>\n",
       "      <td>{0.0: 76003, 2934.84: 1, 119.04: 1, 9024.39: 1, 2368558.95: 1, 50905.89: 1, 8573.16: 1, 44402.97: 1, 1982.28: 1, 23741.64: 1, 721.23: 1, 7396.35: 1, 4773.66: 1, 76698.39: 1, 126162.78: 1, 36871.53: 1, 0.03: 1, 9064.08: 1}</td>\n",
       "      <td>{0.0: 75902, 20855.61: 1, 3026.82: 1, 81455.16: 1, 69875.46: 1, 27349.83: 1, 32845.53: 1, 32805.03: 1, 262209.99: 1, 24817.89: 1, 9276.69: 1, 58402.14: 1, 6589.95: 1, 24094.56: 1, 1529.82: 1, 30243.72: 1, 66831.3: 1, 6431.25: 1, 12604.89: 1, 13267.68: 1, 90317.49: 1, 4393.17: 1, 21661.86: 1, 36366.36: 1, 62753.58: 1, 85240.2: 1, 38637.12: 1, 27595.29: 1, 18817.35: 1, 498248.85: 1, 31641.96: 1, 2804.91: 1, 12507.66: 1, 14455.83: 1, 20063.73: 1, 33043.32: 1, 5906.01: 1, 64771.71: 1, 53026.23: 1, 31666.35: 1, 5268.66: 1, 1721.85: 1, 23395.65: 1, 2993.13: 1, 6400.2: 1, 44191.35: 1, 69622.44: 1, 18941.67: 1, 94331.76: 1, 60743.73: 1, 39994.92: 1, 12945.87: 1, 18280.2: 1, 113321.91: 1, 125052.93: 1, 8309.43: 1, 19195.17: 1, 17831.49: 1, 2803.02: 1, 148650.42: 1, 3930.15: 1, 27426.03: 1, 22455.87: 1, 603.93: 1, 30614.88: 1, 29355.27: 1, 8087.91: 1, 44824.95: 1, 98048.19: 1, 115637.49: 1, 3400.47: 1, 263489.79: 1, 21970.92: 1, 2521.08: 1, 51422.91: 1, 1715.01: 1, 4079.67: 1, 4507.53: 1, 19306.95: 1, 46633.35: 1, 6026.79: 1, 2315.28: 1, 49101.57: 1, 151970.01: 1, 80760.72: 1, 69918.27: 1, 6420.03: 1, 2126.07: 1, 31941.66: 1, 17858.73: 1, 108288.42: 1, 93629.19: 1, 4134.06: 1, 35075.58: 1, 4157.73: 1, 10939.47: 1, 2263.44: 1, 48115.65: 1, 4245.15: 1, 386077.59: 1, ...}</td>\n",
       "      <td>{0.0: 75902, 18911.85: 1, 4076.43: 1, 285821.91: 1, 64619.58: 1, 14104.77: 1, 30243.72: 1, 6705.72: 1, 21100.68: 1, 3698.73: 1, 2187.03: 1, 3026.82: 1, 10056.72: 1, 81455.16: 1, 262209.99: 1, 113321.91: 1, 140927.67: 1, 96030.33: 1, 6589.95: 1, 25097.82: 1, 17606.01: 1, 1529.82: 1, 11522.49: 1, 36478.53: 1, 3808.83: 1, 8641.38: 1, 10470.36: 1, 29919.93: 1, 6708.6: 1, 45529.95: 1, 2768.58: 1, 3783.78: 1, 32769.75: 1, 38258.7: 1, 12936.36: 1, 20063.73: 1, 14118.99: 1, 12985.35: 1, 61240.98: 1, 53026.23: 1, 1721.85: 1, 23395.65: 1, 50123.43: 1, 4178.25: 1, 2804.91: 1, 18280.2: 1, 82851.78: 1, 6400.2: 1, 1457.4: 1, 35031.69: 1, 7583.94: 1, 18941.67: 1, 88794.21: 1, 14494.08: 1, 2165.04: 1, 114485.01: 1, 3012.87: 1, 4176.66: 1, 21875.16: 1, 6420.03: 1, 8072.67: 1, 36649.26: 1, 188980.83: 1, 5951.31: 1, 11637.84: 1, 241026.84: 1, 30116.52: 1, 28358.97: 1, 84410.07: 1, 95295.12: 1, 22455.87: 1, 451.86: 1, 27475.74: 1, 45707.94: 1, 47464.5: 1, 7011.06: 1, 30366.15: 1, 128702.97: 1, 8087.91: 1, 6913.17: 1, 115637.49: 1, 602.79: 1, 27426.03: 1, 7757.94: 1, 46633.35: 1, 5158.62: 1, 16364.34: 1, 68412.09: 1, 40146.6: 1, 9577.5: 1, 165741.99: 1, 40888.59: 1, 21661.86: 1, 34343.19: 1, 1765.62: 1, 62753.58: 1, 38637.12: 1, 85732.2: 1, 27595.29: 1, 3378.06: 1, ...}</td>\n",
       "      <td>{0.0: 76016, 10430.01: 1, 4838.7: 1, 868.98: 1, 59.97: 1}</td>\n",
       "      <td>{0.0: 76019, 145.2: 1}</td>\n",
       "      <td>{0.0: 76017, 2142.87: 1, 13793.67: 1, 3365.46: 1}</td>\n",
       "      <td>{0.0: 76017, 3365.46: 1, 3490.8: 1, 7331.34: 1}</td>\n",
       "      <td>{0.0: 75977, 15265.95: 2, 7319.07: 1, 9112.83: 1, 9825.81: 1, 385.41: 1, 1121.76: 1, 22750.77: 1, 13775.97: 1, 43406.22: 1, 9564.51: 1, 3009.3: 1, 7547.64: 1, 29591.25: 1, 20060.19: 1, 18193.53: 1, 155.82: 1, 4729.98: 1, 2699.4: 1, 32.07: 1, 24745.41: 1, 18985.44: 1, 11060.04: 1, 35261.76: 1, 7527.99: 1, 19348.8: 1, 545.7: 1, 26179.62: 1, 1160.55: 1, 15435.9: 1, 1663.65: 1, 1735.23: 1, 22217.13: 1, 50003.88: 1, 16090.41: 1, 11254.44: 1, 3700.74: 1, 1639.59: 1, 3255.81: 1, 44725.83: 1, 6587.49: 1, 38838.39: 1, 7504.11: 1}</td>\n",
       "      <td>{0.0: 75996, 2000.16: 2, 6028.08: 1, 4810.77: 1, 11473.05: 1, 11013.6: 1, 2687.73: 1, 134.28: 1, 1200.03: 1, 555.75: 1, 3013.89: 1, 6643.29: 1, 4060.71: 1, 1999.95: 1, 100.08: 1, 11047.77: 1, 20385.72: 1, 1498.11: 1, 54.69: 1, 3765.06: 1, 4606.65: 1, 1506.24: 1, 2497.77: 1, 694.86: 1}</td>\n",
       "      <td>{0.0: 75972, 15050.52: 2, 21955.59: 1, 15458.22: 1, 51979.11: 1, 59690.43: 1, 1478.37: 1, 26243.61: 1, 35284.77: 1, 46190.91: 1, 20067.69: 1, 2002.53: 1, 17810.76: 1, 7823.73: 1, 645.48: 1, 180.21: 1, 25400.61: 1, 2290.41: 1, 138831.63: 1, 72.57: 1, 4663.23: 1, 44705.73: 1, 1765.47: 1, 7509.0: 1, 272.67: 1, 7826.55: 1, 12136.86: 1, 63317.19: 1, 8791.29: 1, 32849.58: 1, 604.68: 1, 15806.13: 1, 6104.91: 1, 1968.36: 1, 136.89: 1, 50232.96: 1, 19242.09: 1, 3013.74: 1, 43614.33: 1, 12042.87: 1, 9134.76: 1, 30487.23: 1, 595.23: 1, 10263.12: 1, 22743.27: 1, 2175.6: 1, 5559.96: 1, 7557.0: 1}</td>\n",
       "      <td>{0.0: 75972, 10772.22: 2, 28625.49: 1, 8231.85: 1, 4680.36: 1, 8091.9: 1, 27339.27: 1, 168.03: 1, 490.32: 1, 28248.06: 1, 5536.95: 1, 18903.15: 1, 14742.42: 1, 32689.44: 1, 1098.33: 1, 91778.73: 1, 4630.35: 1, 595.59: 1, 2290.41: 1, 5671.02: 1, 8238.42: 1, 72.57: 1, 12132.99: 1, 25073.01: 1, 152.37: 1, 16149.75: 1, 136.89: 1, 40207.53: 1, 16419.69: 1, 11959.17: 1, 5616.6: 1, 26211.63: 1, 1868.88: 1, 4975.92: 1, 604.68: 1, 1968.36: 1, 4484.64: 1, 20470.53: 1, 11648.67: 1, 1464.99: 1, 39875.31: 1, 20858.37: 1, 14238.36: 1, 42767.16: 1, 2903.58: 1, 23548.86: 1, 7207.02: 1, 1153.26: 1}</td>\n",
       "      <td>{0.0: 75921, 27781.5: 2, 6229.2: 1, 4191.45: 1, 2712.48: 1, 6494.58: 1, 10711.14: 1, 4460.25: 1, 2.67: 1, 19626.6: 1, 11106.33: 1, 4173.69: 1, 3684.84: 1, 438329.22: 1, 7930.14: 1, 1409.22: 1, 60832.68: 1, 697.26: 1, 2919.57: 1, 20.49: 1, 35015.28: 1, 42316.44: 1, 11184.33: 1, 16057.8: 1, 126006.18: 1, 16940.43: 1, 18026.82: 1, 5310.33: 1, 1.26: 1, 2.04: 1, 14666.43: 1, 12491.91: 1, 9529.2: 1, 12646.68: 1, 77528.52: 1, 6780.27: 1, 17835.72: 1, 99047.25: 1, 21.99: 1, 17855.55: 1, 20.25: 1, 2458.32: 1, 23341.35: 1, 148.71: 1, 2068.71: 1, 123683.1: 1, 5946.63: 1, 5065.89: 1, 3200.16: 1, 152.46: 1, 4565.73: 1, 1439.58: 1, 3772.32: 1, 10969.26: 1, 6945.06: 1, 19489.5: 1, 3473.73: 1, 11679.63: 1, 351.42: 1, 63148.98: 1, 44990.49: 1, 915.39: 1, 18198.87: 1, 9122.19: 1, 6224.64: 1, 94549.11: 1, 777.42: 1, 78826.53: 1, 16462.56: 1, 558.66: 1, 12613.02: 1, 19534.11: 1, 93939.45: 1, 2168.88: 1, 21466.92: 1, 18447.39: 1, 28281.72: 1, 24579.15: 1, 25505.88: 1, 9858.15: 1, 51764.13: 1, 11322.42: 1, 15.09: 1, 5495.01: 1, 37638.93: 1, 37167.39: 1, 73934.97: 1, 6978.06: 1, 5153.22: 1, 934.86: 1, 921.69: 1, 1295.4: 1, 1702.74: 1, 13159.23: 1, 24078.72: 1, 3459.72: 1, 99130.23: 1, 10026.36: 1, 11556.03: 1}</td>\n",
       "      <td>{0.0: 75988, 2870.31: 1, 1874.7: 1, 3624.48: 1, 866.58: 1, 3562.68: 1, 231.78: 1, 345.48: 1, 6018.6: 1, 1169.91: 1, 6946.98: 1, 3991.2: 1, 6886.11: 1, 4789.74: 1, 7306.05: 1, 24650.01: 1, 0.57: 1, 2035.5: 1, 826.89: 1, 18928.59: 1, 5499.24: 1, 5050.44: 1, 1698.0: 1, 1395.09: 1, 1403.94: 1, 373.77: 1, 997.62: 1, 17646.42: 1, 1216.74: 1, 565.41: 1, 582.96: 1, 6892.95: 1, 1040.13: 1}</td>\n",
       "      <td>{0.0: 75879, 61887.72: 2, 59241.9: 1, 3791.25: 1, 50850.9: 1, 1760.37: 1, 3295.02: 1, 78561.15: 1, 681462.9: 1, 29476.2: 1, 9785.79: 1, 126722.67: 1, 21881.16: 1, 2070.15: 1, 11348.97: 1, 6384.57: 1, 612.69: 1, 53532.96: 1, 19755.87: 1, 3638.1: 1, 117.69: 1, 23709.9: 1, 75882.66: 1, 41021.31: 1, 113275.68: 1, 37452.21: 1, 21069.45: 1, 3.81: 1, 19057.44: 1, 7797.12: 1, 66.87: 1, 11456.01: 1, 8306.13: 1, 82312.68: 1, 309.78: 1, 8388.9: 1, 70.83: 1, 65210.46: 1, 110487.57: 1, 361472.28: 1, 47617.08: 1, 7629.57: 1, 47045.55: 1, 8473.32: 1, 256690.23: 1, 7736.1: 1, 398.01: 1, 3424.11: 1, 824.82: 1, 11993.22: 1, 43568.4: 1, 27669.21: 1, 18291.72: 1, 11211.6: 1, 17518.41: 1, 17061.93: 1, 59977.14: 1, 397884.3: 1, 1176.84: 1, 8778.33: 1, 3915.81: 1, 51666.27: 1, 68187.72: 1, 50415.36: 1, 180942.96: 1, 4083.12: 1, 11106.15: 1, 9037.11: 1, 37058.76: 1, 29672.91: 1, 8975.76: 1, 2516.46: 1, 91310.37: 1, 14511.27: 1, 1976.67: 1, 76948.2: 1, 4005.33: 1, 19830.39: 1, 27823.68: 1, 6071.16: 1, 746.88: 1, 1441.83: 1, 569.7: 1, 25356.27: 1, 1696.89: 1, 36182.49: 1, 19746.75: 1, 10935.96: 1, 3246.36: 1, 19984.59: 1, 13849.68: 1, 51900.51: 1, 28859.52: 1, 5914.59: 1, 25956.15: 1, 25765.62: 1, 8125.08: 1, 141024.21: 1, 239644.2: 1, 5436.78: 1, ...}</td>\n",
       "      <td>{0.0: 75879, 44834.61: 2, 25582.53: 1, 8851.17: 1, 10039.44: 1, 16436.55: 1, 10810.59: 1, 212310.63: 1, 63823.41: 1, 309.78: 1, 165312.6: 1, 3638.1: 1, 2390.19: 1, 8388.9: 1, 17518.41: 1, 397884.3: 1, 187.86: 1, 2070.15: 1, 68385.21: 1, 25726.14: 1, 14321.7: 1, 7518.21: 1, 9785.79: 1, 59975.82: 1, 15211.08: 1, 78561.15: 1, 19548.15: 1, 2756.25: 1, 2823.06: 1, 7904.61: 1, 94286.85: 1, 1760.37: 1, 4515.75: 1, 53532.96: 1, 8778.33: 1, 3915.81: 1, 33477.6: 1, 398.01: 1, 3939.45: 1, 23345.85: 1, 1449.18: 1, 13706.7: 1, 38256.24: 1, 19667.19: 1, 35600.19: 1, 25635.75: 1, 9574.8: 1, 7518.18: 1, 11816.73: 1, 11993.22: 1, 18227.76: 1, 2.94: 1, 549.15: 1, 374947.53: 1, 4872.87: 1, 59796.06: 1, 10601.67: 1, 36988.2: 1, 66.39: 1, 2324.55: 1, 30883.65: 1, 6381.96: 1, 12837.87: 1, 50415.36: 1, 9037.11: 1, 68187.72: 1, 17061.93: 1, 17694.78: 1, 74145.48: 1, 26755.02: 1, 25929.6: 1, 2516.46: 1, 36182.49: 1, 31.14: 1, 5592.15: 1, 5973.54: 1, 15440.1: 1, 66255.51: 1, 1696.89: 1, 13913.91: 1, 4005.33: 1, 1441.83: 1, 117481.83: 1, 26338.65: 1, 9436.35: 1, 867.75: 1, 2445.0: 1, 14393.01: 1, 2563.44: 1, 34013.19: 1, 239644.2: 1, 8618.52: 1, 8963.04: 1, 657.33: 1, 80661.03: 1, 2014.71: 1, 3405.09: 1, 8044.59: 1, 3838.26: 1, 25956.15: 1, ...}</td>\n",
       "      <td>{117310.979016494: 14868, 451931.22: 16, 463625.16: 12, 288997.44: 11, 104563.8: 11, 236690.34: 8, 329603.97: 7, 104644.41: 7, 67088.31: 7, 125722.44: 7, 128318.52: 7, 97639.56: 6, 100466.73: 6, 70813.8: 6, 163432.47: 6, 168733.62: 6, 105260.88: 6, 185385.69: 6, 85814.04: 5, 235476.72: 5, 121603.02: 5, 93037.68: 5, 63820.89: 5, 33184.02: 5, 126065.04: 5, 71302.53: 5, 208961.79: 5, 171932.7: 5, 131353.47: 5, 127141.5: 5, 192920.76: 5, 227397.72: 5, 229351.65: 5, 185784.72: 5, 83174.28: 5, 148781.16: 5, 276030.57: 5, 53324.46: 5, 91781.55: 4, 96288.21: 4, 69166.65: 4, 345158.7: 4, 32848.95: 4, 106483.29: 4, 146730.27: 4, 172000.77: 4, 67095.0: 4, 147908.46: 4, 152784.21: 4, 94678.92: 4, 42308.94: 4, 220937.73: 4, 106113.39: 4, 43943.4: 4, 107266.65: 4, 83469.66: 4, 2620265.01: 4, 498304.14: 4, 88911.33: 4, 135522.15: 4, 54880.11: 4, 112419.51: 4, 128930.1: 4, 362732.49: 4, 146764.41: 4, 100545.96: 4, 175055.16: 4, 42932.61: 4, 97193.55: 4, 122009.85: 4, 44823.39: 4, 99251.79: 4, 167709.72: 4, 94077.6: 4, 60126.63: 4, 115960.29: 4, 146474.52: 4, 44854.65: 4, 274146.36: 4, 174524.97: 4, 117375.96: 4, 153814.59: 4, 53405.4: 4, 123085.05: 4, 59501.67: 4, 100227.21: 4, 65270.37: 4, 34272.21: 4, 73780.95: 4, 122989.32: 4, 288562.23: 4, 291102.54: 3, 82377.75: 3, 103173.09: 3, 280755.99: 3, 112083.33: 3, 104163.87: 3, 210628.92: 3, 114344.55: 3, 99128.37: 3, ...}</td>\n",
       "    </tr>\n",
       "  </tbody>\n",
       "</table>\n",
       "<p>2 rows × 306 columns</p>\n",
       "</div>\n",
       "      <button class=\"colab-df-convert\" onclick=\"convertToInteractive('df-0339ab91-0c04-4681-b733-f963cada1ce1')\"\n",
       "              title=\"Convert this dataframe to an interactive table.\"\n",
       "              style=\"display:none;\">\n",
       "        \n",
       "  <svg xmlns=\"http://www.w3.org/2000/svg\" height=\"24px\"viewBox=\"0 0 24 24\"\n",
       "       width=\"24px\">\n",
       "    <path d=\"M0 0h24v24H0V0z\" fill=\"none\"/>\n",
       "    <path d=\"M18.56 5.44l.94 2.06.94-2.06 2.06-.94-2.06-.94-.94-2.06-.94 2.06-2.06.94zm-11 1L8.5 8.5l.94-2.06 2.06-.94-2.06-.94L8.5 2.5l-.94 2.06-2.06.94zm10 10l.94 2.06.94-2.06 2.06-.94-2.06-.94-.94-2.06-.94 2.06-2.06.94z\"/><path d=\"M17.41 7.96l-1.37-1.37c-.4-.4-.92-.59-1.43-.59-.52 0-1.04.2-1.43.59L10.3 9.45l-7.72 7.72c-.78.78-.78 2.05 0 2.83L4 21.41c.39.39.9.59 1.41.59.51 0 1.02-.2 1.41-.59l7.78-7.78 2.81-2.81c.8-.78.8-2.07 0-2.86zM5.41 20L4 18.59l7.72-7.72 1.47 1.35L5.41 20z\"/>\n",
       "  </svg>\n",
       "      </button>\n",
       "      \n",
       "  <style>\n",
       "    .colab-df-container {\n",
       "      display:flex;\n",
       "      flex-wrap:wrap;\n",
       "      gap: 12px;\n",
       "    }\n",
       "\n",
       "    .colab-df-convert {\n",
       "      background-color: #E8F0FE;\n",
       "      border: none;\n",
       "      border-radius: 50%;\n",
       "      cursor: pointer;\n",
       "      display: none;\n",
       "      fill: #1967D2;\n",
       "      height: 32px;\n",
       "      padding: 0 0 0 0;\n",
       "      width: 32px;\n",
       "    }\n",
       "\n",
       "    .colab-df-convert:hover {\n",
       "      background-color: #E2EBFA;\n",
       "      box-shadow: 0px 1px 2px rgba(60, 64, 67, 0.3), 0px 1px 3px 1px rgba(60, 64, 67, 0.15);\n",
       "      fill: #174EA6;\n",
       "    }\n",
       "\n",
       "    [theme=dark] .colab-df-convert {\n",
       "      background-color: #3B4455;\n",
       "      fill: #D2E3FC;\n",
       "    }\n",
       "\n",
       "    [theme=dark] .colab-df-convert:hover {\n",
       "      background-color: #434B5C;\n",
       "      box-shadow: 0px 1px 3px 1px rgba(0, 0, 0, 0.15);\n",
       "      filter: drop-shadow(0px 1px 2px rgba(0, 0, 0, 0.3));\n",
       "      fill: #FFFFFF;\n",
       "    }\n",
       "  </style>\n",
       "\n",
       "      <script>\n",
       "        const buttonEl =\n",
       "          document.querySelector('#df-0339ab91-0c04-4681-b733-f963cada1ce1 button.colab-df-convert');\n",
       "        buttonEl.style.display =\n",
       "          google.colab.kernel.accessAllowed ? 'block' : 'none';\n",
       "\n",
       "        async function convertToInteractive(key) {\n",
       "          const element = document.querySelector('#df-0339ab91-0c04-4681-b733-f963cada1ce1');\n",
       "          const dataTable =\n",
       "            await google.colab.kernel.invokeFunction('convertToInteractive',\n",
       "                                                     [key], {});\n",
       "          if (!dataTable) return;\n",
       "\n",
       "          const docLinkHtml = 'Like what you see? Visit the ' +\n",
       "            '<a target=\"_blank\" href=https://colab.research.google.com/notebooks/data_table.ipynb>data table notebook</a>'\n",
       "            + ' to learn more about interactive tables.';\n",
       "          element.innerHTML = '';\n",
       "          dataTable['output_type'] = 'display_data';\n",
       "          await google.colab.output.renderOutput(dataTable, element);\n",
       "          const docLink = document.createElement('div');\n",
       "          docLink.innerHTML = docLinkHtml;\n",
       "          element.appendChild(docLink);\n",
       "        }\n",
       "      </script>\n",
       "    </div>\n",
       "  </div>\n",
       "  "
      ],
      "text/plain": [
       "                                                                                                                                                                                                                                                                                                                                                                                                                                                                                                                                                                                                                                                                                                                                                                                                              var3  ...                                                                                                                                                                                                                                                                                                                                                                                                                                                                                                                                                                                                                                                                                                                                                                                                                                                                                                                                                                                                                                                                                                                                                                                                                                                                                                                                                                                                                             var38\n",
       "nunique                                                                                                                                                                                                                                                                                                                                                                                                                                                                                                                                                                                                                                                                                                                                                                                                        208  ...                                                                                                                                                                                                                                                                                                                                                                                                                                                                                                                                                                                                                                                                                                                                                                                                                                                                                                                                                                                                                                                                                                                                                                                                                                                                                                                                                                                                                             57736\n",
       "value_counts  {2: 74165, 8: 138, -999999: 116, 9: 110, 3: 108, 1: 105, 13: 98, 7: 97, 4: 86, 12: 85, 6: 82, 0: 75, 10: 72, 11: 66, 5: 63, 14: 61, 15: 34, 18: 10, 16: 9, 17: 7, 23: 7, 25: 6, 142: 6, 154: 6, 20: 6, 31: 6, 38: 6, 153: 5, 24: 5, 91: 5, 30: 5, 114: 5, 22: 5, 149: 5, 192: 5, 138: 5, 21: 4, 174: 4, 102: 4, 36: 4, 162: 4, 129: 4, 158: 4, 28: 4, 133: 4, 172: 4, 46: 4, 110: 4, 27: 4, 103: 4, 147: 4, 183: 4, 48: 4, 86: 4, 209: 4, 161: 3, 64: 3, 100: 3, 19: 3, 163: 3, 26: 3, 33: 3, 217: 3, 88: 3, 195: 3, 156: 3, 216: 3, 167: 3, 137: 3, 143: 3, 29: 3, 53: 3, 189: 3, 58: 3, 56: 3, 118: 3, 117: 3, 49: 3, 43: 3, 125: 3, 175: 3, 121: 3, 104: 3, 176: 2, 105: 2, 187: 2, 198: 2, 150: 2, 50: 2, 59: 2, 145: 2, 51: 2, 85: 2, 115: 2, 148: 2, 52: 2, 116: 2, 146: 2, 82: 2, 81: 2, ...}  ...  {117310.979016494: 14868, 451931.22: 16, 463625.16: 12, 288997.44: 11, 104563.8: 11, 236690.34: 8, 329603.97: 7, 104644.41: 7, 67088.31: 7, 125722.44: 7, 128318.52: 7, 97639.56: 6, 100466.73: 6, 70813.8: 6, 163432.47: 6, 168733.62: 6, 105260.88: 6, 185385.69: 6, 85814.04: 5, 235476.72: 5, 121603.02: 5, 93037.68: 5, 63820.89: 5, 33184.02: 5, 126065.04: 5, 71302.53: 5, 208961.79: 5, 171932.7: 5, 131353.47: 5, 127141.5: 5, 192920.76: 5, 227397.72: 5, 229351.65: 5, 185784.72: 5, 83174.28: 5, 148781.16: 5, 276030.57: 5, 53324.46: 5, 91781.55: 4, 96288.21: 4, 69166.65: 4, 345158.7: 4, 32848.95: 4, 106483.29: 4, 146730.27: 4, 172000.77: 4, 67095.0: 4, 147908.46: 4, 152784.21: 4, 94678.92: 4, 42308.94: 4, 220937.73: 4, 106113.39: 4, 43943.4: 4, 107266.65: 4, 83469.66: 4, 2620265.01: 4, 498304.14: 4, 88911.33: 4, 135522.15: 4, 54880.11: 4, 112419.51: 4, 128930.1: 4, 362732.49: 4, 146764.41: 4, 100545.96: 4, 175055.16: 4, 42932.61: 4, 97193.55: 4, 122009.85: 4, 44823.39: 4, 99251.79: 4, 167709.72: 4, 94077.6: 4, 60126.63: 4, 115960.29: 4, 146474.52: 4, 44854.65: 4, 274146.36: 4, 174524.97: 4, 117375.96: 4, 153814.59: 4, 53405.4: 4, 123085.05: 4, 59501.67: 4, 100227.21: 4, 65270.37: 4, 34272.21: 4, 73780.95: 4, 122989.32: 4, 288562.23: 4, 291102.54: 3, 82377.75: 3, 103173.09: 3, 280755.99: 3, 112083.33: 3, 104163.87: 3, 210628.92: 3, 114344.55: 3, 99128.37: 3, ...}\n",
       "\n",
       "[2 rows x 306 columns]"
      ]
     },
     "execution_count": 21,
     "metadata": {},
     "output_type": "execute_result"
    }
   ],
   "source": [
    "def value_counts(col):\n",
    "  return dict(col.value_counts())\n",
    "\n",
    "# số lượng giá trị, thống kê giá trị từng cột\n",
    "cols_stat = X_train.agg([pd.Series.nunique, value_counts])\n",
    "pd.set_option('display.max_colwidth', 10000)\n",
    "cols_stat"
   ]
  },
  {
   "cell_type": "markdown",
   "metadata": {
    "id": "tE0JMaTTzX-1"
   },
   "source": [
    "## Tìm và xóa các cột có tỉ lệ số 0 chiếm chủ yếu (>= threshold)"
   ]
  },
  {
   "cell_type": "code",
   "execution_count": null,
   "metadata": {
    "id": "pVN9Le2LEkZs"
   },
   "outputs": [],
   "source": [
    "def CalcSparse(col):\n",
    "  num_zeros = (X_train[col] == 0).sum()\n",
    "  return num_zeros / X_train.shape[0]"
   ]
  },
  {
   "cell_type": "code",
   "execution_count": null,
   "metadata": {
    "id": "eVqSzMjT18qf"
   },
   "outputs": [],
   "source": [
    "def PercentageZeros(data):\n",
    "  perc = []\n",
    "  for col in data.columns:\n",
    "    percentage_zeros = CalcSparse(col)\n",
    "    perc.append(percentage_zeros)\n",
    "  return perc"
   ]
  },
  {
   "cell_type": "code",
   "execution_count": null,
   "metadata": {
    "colab": {
     "base_uri": "https://localhost:8080/"
    },
    "executionInfo": {
     "elapsed": 12,
     "status": "ok",
     "timestamp": 1641452690456,
     "user": {
      "displayName": "Gia Bảo Hoàng",
      "photoUrl": "https://lh3.googleusercontent.com/a/default-user=s64",
      "userId": "15531827273777406165"
     },
     "user_tz": -420
    },
    "id": "U5S0YQWHgcWZ",
    "outputId": "542cfece-b844-4863-be19-a625bd80e6d3"
   },
   "outputs": [
    {
     "name": "stdout",
     "output_type": "stream",
     "text": [
      "306\n"
     ]
    }
   ],
   "source": [
    "zeros_perc = PercentageZeros(X_train)\n",
    "print(len(zeros_perc))"
   ]
  },
  {
   "cell_type": "code",
   "execution_count": null,
   "metadata": {
    "id": "uQC6jZNogirZ"
   },
   "outputs": [],
   "source": [
    "# plot histogram of arr_data in range: [start, end), with step = stepp\n",
    "def plot_hist(arr_data, start, end, stepp):\n",
    "  bin_edges = np.arange(start, end, step = stepp)\n",
    "  plt.hist(arr_data, bins = bin_edges)\n",
    "  plt.xticks(bin_edges, rotation = 90)\n",
    "  plt.tight_layout()\n",
    "  plt.show()"
   ]
  },
  {
   "cell_type": "code",
   "execution_count": null,
   "metadata": {
    "colab": {
     "base_uri": "https://localhost:8080/",
     "height": 297
    },
    "executionInfo": {
     "elapsed": 11,
     "status": "ok",
     "timestamp": 1641452690457,
     "user": {
      "displayName": "Gia Bảo Hoàng",
      "photoUrl": "https://lh3.googleusercontent.com/a/default-user=s64",
      "userId": "15531827273777406165"
     },
     "user_tz": -420
    },
    "id": "f7wAWZDq2L6i",
    "outputId": "a908f735-a183-4286-9919-95c6228ca25d"
   },
   "outputs": [
    {
     "data": {
      "image/png": "[encoded data removed]",
      "text/plain": [
       "<Figure size 432x288 with 1 Axes>"
      ]
     },
     "metadata": {
      "needs_background": "light"
     },
     "output_type": "display_data"
    }
   ],
   "source": [
    "plot_hist(zeros_perc, 0, 1.1, 0.1)"
   ]
  },
  {
   "cell_type": "code",
   "execution_count": null,
   "metadata": {
    "colab": {
     "base_uri": "https://localhost:8080/",
     "height": 297
    },
    "executionInfo": {
     "elapsed": 587,
     "status": "ok",
     "timestamp": 1641452691034,
     "user": {
      "displayName": "Gia Bảo Hoàng",
      "photoUrl": "https://lh3.googleusercontent.com/a/default-user=s64",
      "userId": "15531827273777406165"
     },
     "user_tz": -420
    },
    "id": "NCEL6J_S65nF",
    "outputId": "a429ead7-c6a9-49d8-dbd5-04016610ec85"
   },
   "outputs": [
    {
     "data": {
      "image/png": "[encoded data removed]",
      "text/plain": [
       "<Figure size 432x288 with 1 Axes>"
      ]
     },
     "metadata": {
      "needs_background": "light"
     },
     "output_type": "display_data"
    }
   ],
   "source": [
    "plot_hist(zeros_perc, 0.9, 1.01, 0.01)"
   ]
  },
  {
   "cell_type": "code",
   "execution_count": null,
   "metadata": {
    "colab": {
     "base_uri": "https://localhost:8080/",
     "height": 297
    },
    "executionInfo": {
     "elapsed": 6,
     "status": "ok",
     "timestamp": 1641452691035,
     "user": {
      "displayName": "Gia Bảo Hoàng",
      "photoUrl": "https://lh3.googleusercontent.com/a/default-user=s64",
      "userId": "15531827273777406165"
     },
     "user_tz": -420
    },
    "id": "Lmej5pxH93tp",
    "outputId": "a4c6e12c-f3b5-4d31-e5a8-0bdcd8bef660"
   },
   "outputs": [
    {
     "data": {
      "image/png": "[encoded data removed]",
      "text/plain": [
       "<Figure size 432x288 with 1 Axes>"
      ]
     },
     "metadata": {
      "needs_background": "light"
     },
     "output_type": "display_data"
    }
   ],
   "source": [
    "plot_hist(zeros_perc, 0.99, 1.001, 0.001)"
   ]
  },
  {
   "cell_type": "code",
   "execution_count": null,
   "metadata": {
    "colab": {
     "base_uri": "https://localhost:8080/",
     "height": 297
    },
    "executionInfo": {
     "elapsed": 522,
     "status": "ok",
     "timestamp": 1641452691552,
     "user": {
      "displayName": "Gia Bảo Hoàng",
      "photoUrl": "https://lh3.googleusercontent.com/a/default-user=s64",
      "userId": "15531827273777406165"
     },
     "user_tz": -420
    },
    "id": "JWMJId5xFSZE",
    "outputId": "401b999f-fcb7-4e1d-f2be-4560924143e6"
   },
   "outputs": [
    {
     "data": {
      "image/png": "[encoded data removed]",
      "text/plain": [
       "<Figure size 432x288 with 1 Axes>"
      ]
     },
     "metadata": {
      "needs_background": "light"
     },
     "output_type": "display_data"
    }
   ],
   "source": [
    "plot_hist(zeros_perc, 0.999, 1.0001, 0.0001)"
   ]
  },
  {
   "cell_type": "code",
   "execution_count": null,
   "metadata": {
    "id": "tsYJCyyPzTl5"
   },
   "outputs": [],
   "source": [
    "def SparseCols(data, threshold):\n",
    "  sparse_cols = []\n",
    "  for col in data.columns:\n",
    "    percentage_zero = CalcSparse(col)\n",
    "    if (percentage_zero >= threshold):\n",
    "      sparse_cols.append(col)\n",
    "  return sparse_cols"
   ]
  },
  {
   "cell_type": "code",
   "execution_count": null,
   "metadata": {
    "colab": {
     "base_uri": "https://localhost:8080/"
    },
    "executionInfo": {
     "elapsed": 13,
     "status": "ok",
     "timestamp": 1641452691554,
     "user": {
      "displayName": "Gia Bảo Hoàng",
      "photoUrl": "https://lh3.googleusercontent.com/a/default-user=s64",
      "userId": "15531827273777406165"
     },
     "user_tz": -420
    },
    "id": "-vX-zZ0z1TUn",
    "outputId": "e62be062-f9d4-4219-af72-04b7a2f4b631"
   },
   "outputs": [
    {
     "name": "stdout",
     "output_type": "stream",
     "text": [
      "52\n"
     ]
    }
   ],
   "source": [
    "threshold = 0.9999\n",
    "sparse_cols = SparseCols(X_train, threshold)\n",
    "print(len(sparse_cols))\n",
    "# sparse_cols"
   ]
  },
  {
   "cell_type": "code",
   "execution_count": null,
   "metadata": {
    "colab": {
     "base_uri": "https://localhost:8080/"
    },
    "executionInfo": {
     "elapsed": 490,
     "status": "ok",
     "timestamp": 1641452692038,
     "user": {
      "displayName": "Gia Bảo Hoàng",
      "photoUrl": "https://lh3.googleusercontent.com/a/default-user=s64",
      "userId": "15531827273777406165"
     },
     "user_tz": -420
    },
    "id": "XA4K35EH0LBn",
    "outputId": "a8188449-827d-4b92-ffca-38d1a8125e98"
   },
   "outputs": [
    {
     "data": {
      "text/plain": [
       "(76020, 254)"
      ]
     },
     "execution_count": 32,
     "metadata": {},
     "output_type": "execute_result"
    }
   ],
   "source": [
    "X_train.drop(sparse_cols, axis = 1, inplace = True)\n",
    "X_train.shape"
   ]
  },
  {
   "cell_type": "code",
   "execution_count": null,
   "metadata": {
    "colab": {
     "base_uri": "https://localhost:8080/"
    },
    "executionInfo": {
     "elapsed": 11,
     "status": "ok",
     "timestamp": 1641452692039,
     "user": {
      "displayName": "Gia Bảo Hoàng",
      "photoUrl": "https://lh3.googleusercontent.com/a/default-user=s64",
      "userId": "15531827273777406165"
     },
     "user_tz": -420
    },
    "id": "b2ZM2o0wGEfh",
    "outputId": "bda154f6-b16c-4c93-c4f8-076cfa6f8a3f"
   },
   "outputs": [
    {
     "data": {
      "text/plain": [
       "(75818, 254)"
      ]
     },
     "execution_count": 33,
     "metadata": {},
     "output_type": "execute_result"
    }
   ],
   "source": [
    "X_test.drop(sparse_cols, axis = 1, inplace = True)\n",
    "X_test.shape"
   ]
  },
  {
   "cell_type": "markdown",
   "metadata": {
    "id": "L7NKp2juTLlC"
   },
   "source": [
    "## Dùng hàm features_importance để tìm ra độ quan trọng của các features"
   ]
  },
  {
   "cell_type": "markdown",
   "metadata": {
    "id": "i0KLT_EMTT7G"
   },
   "source": [
    "https://machinelearningmastery.com/calculate-feature-importance-with-python/\n",
    "\n",
    "Lấy 5 features quan trọng nhất ra để tìm mối liên hệ giữa chúng sẽ ảnh hưởng thế nào đến TARGET. Từ các mối quan hệ đó ta sẽ có thể có xây dựng được những features mới"
   ]
  },
  {
   "cell_type": "code",
   "execution_count": null,
   "metadata": {
    "id": "rRqm9vN7QsMp"
   },
   "outputs": [],
   "source": [
    "from sklearn.ensemble import RandomForestClassifier"
   ]
  },
  {
   "cell_type": "code",
   "execution_count": null,
   "metadata": {
    "id": "7D5gC85wZr-N"
   },
   "outputs": [],
   "source": [
    "num_feats = 5"
   ]
  },
  {
   "cell_type": "code",
   "execution_count": null,
   "metadata": {
    "id": "z9TpCVEQP_JF"
   },
   "outputs": [],
   "source": [
    "model = RandomForestClassifier()\n",
    "model.fit(X_train, y_train)\n",
    "importance = model.feature_importances_"
   ]
  },
  {
   "cell_type": "code",
   "execution_count": null,
   "metadata": {
    "colab": {
     "base_uri": "https://localhost:8080/",
     "height": 282
    },
    "executionInfo": {
     "elapsed": 21,
     "status": "ok",
     "timestamp": 1641452711956,
     "user": {
      "displayName": "Gia Bảo Hoàng",
      "photoUrl": "https://lh3.googleusercontent.com/a/default-user=s64",
      "userId": "15531827273777406165"
     },
     "user_tz": -420
    },
    "id": "KKudos10W2fp",
    "outputId": "e70995fb-42f0-4e64-d061-46fc01841b62"
   },
   "outputs": [
    {
     "data": {
      "text/plain": [
       "<matplotlib.axes._subplots.AxesSubplot at 0x7f825d231e10>"
      ]
     },
     "execution_count": 37,
     "metadata": {},
     "output_type": "execute_result"
    },
    {
     "data": {
      "image/png": "[encoded data removed]",
      "text/plain": [
       "<Figure size 432x288 with 1 Axes>"
      ]
     },
     "metadata": {
      "needs_background": "light"
     },
     "output_type": "display_data"
    }
   ],
   "source": [
    "feat_importances = pd.Series(importance, index = X_train.columns)\n",
    "feat_importances.nlargest(num_feats).plot(kind='barh')"
   ]
  },
  {
   "cell_type": "code",
   "execution_count": null,
   "metadata": {
    "id": "3wszKtmiONAN"
   },
   "outputs": [],
   "source": [
    "imp_feats = list(feat_importances.nlargest(num_feats).to_dict().keys())\n",
    "# imp_feats"
   ]
  },
  {
   "cell_type": "code",
   "execution_count": null,
   "metadata": {
    "id": "NsPq6kj-pkmw"
   },
   "outputs": [],
   "source": [
    "X_train['TARGET'] = y_train"
   ]
  },
  {
   "cell_type": "markdown",
   "metadata": {
    "id": "mF7WcxEGahZk"
   },
   "source": [
    "### Tìm hiểu cột var38"
   ]
  },
  {
   "cell_type": "code",
   "execution_count": null,
   "metadata": {
    "colab": {
     "base_uri": "https://localhost:8080/"
    },
    "executionInfo": {
     "elapsed": 19,
     "status": "ok",
     "timestamp": 1641452711958,
     "user": {
      "displayName": "Gia Bảo Hoàng",
      "photoUrl": "https://lh3.googleusercontent.com/a/default-user=s64",
      "userId": "15531827273777406165"
     },
     "user_tz": -420
    },
    "id": "nJJWdj6nat5s",
    "outputId": "02548730-1128-4031-9b92-1689c879f4f1"
   },
   "outputs": [
    {
     "data": {
      "text/plain": [
       "117310.979016    14868\n",
       "451931.220000       16\n",
       "463625.160000       12\n",
       "288997.440000       11\n",
       "104563.800000       11\n",
       "                 ...  \n",
       "318211.440000        1\n",
       "73069.260000         1\n",
       "36425.370000         1\n",
       "163515.900000        1\n",
       "159395.520000        1\n",
       "Name: var38, Length: 57736, dtype: int64"
      ]
     },
     "execution_count": 40,
     "metadata": {},
     "output_type": "execute_result"
    }
   ],
   "source": [
    "X_train['var38'].value_counts()"
   ]
  },
  {
   "cell_type": "markdown",
   "metadata": {
    "id": "18PfgKypETIl"
   },
   "source": [
    "Đây có thể là 1 biến thể hiện tài sản ngân hàng đang cầm cố của khách hàng, mà giá trị tài sản cầm cố thì khó có thể trùng được\n",
    "\n",
    "Ở đây ta thấy 1 giá trị xuất hiện rất nhiều đó là con số 117310.979016494, đây có thể là 1 con số thể hiện khách hàng đang không bị ngân hàng cầm cố tài sản nào --> ta sẽ chuyển nó thành con số -1"
   ]
  },
  {
   "cell_type": "markdown",
   "metadata": {
    "id": "LFVloyvrbEoq"
   },
   "source": [
    "### Tìm hiểu cột var 15"
   ]
  },
  {
   "cell_type": "code",
   "execution_count": null,
   "metadata": {
    "colab": {
     "base_uri": "https://localhost:8080/"
    },
    "executionInfo": {
     "elapsed": 17,
     "status": "ok",
     "timestamp": 1641452711958,
     "user": {
      "displayName": "Gia Bảo Hoàng",
      "photoUrl": "https://lh3.googleusercontent.com/a/default-user=s64",
      "userId": "15531827273777406165"
     },
     "user_tz": -420
    },
    "id": "YYHeDlPCbIIJ",
    "outputId": "8ba16fd5-8eb1-42d0-9285-bd831123fa99"
   },
   "outputs": [
    {
     "data": {
      "text/plain": [
       "23     20170\n",
       "24      6232\n",
       "25      4217\n",
       "26      3270\n",
       "27      2861\n",
       "       ...  \n",
       "97         3\n",
       "104        2\n",
       "98         1\n",
       "105        1\n",
       "101        1\n",
       "Name: var15, Length: 100, dtype: int64"
      ]
     },
     "execution_count": 41,
     "metadata": {},
     "output_type": "execute_result"
    }
   ],
   "source": [
    "X_train['var15'].value_counts()"
   ]
  },
  {
   "cell_type": "code",
   "execution_count": null,
   "metadata": {
    "id": "8hj4sCWWGWgu"
   },
   "outputs": [],
   "source": [
    "def plot(col, name = 'unknown'):\n",
    "  g = sns.FacetGrid(X_train, hue = \"TARGET\", height = 9, aspect = 2.5).map(plt.hist, col).add_legend()\n",
    "  tmp = X_train[col].unique()\n",
    "\n",
    "  if (len(tmp) < 150):\n",
    "    g.set(xticks = tmp)\n",
    "\n",
    "  plt.title(name)\n",
    "  plt.show()"
   ]
  },
  {
   "cell_type": "code",
   "execution_count": null,
   "metadata": {
    "colab": {
     "base_uri": "https://localhost:8080/",
     "height": 496
    },
    "executionInfo": {
     "elapsed": 1717,
     "status": "ok",
     "timestamp": 1641452713659,
     "user": {
      "displayName": "Gia Bảo Hoàng",
      "photoUrl": "https://lh3.googleusercontent.com/a/default-user=s64",
      "userId": "15531827273777406165"
     },
     "user_tz": -420
    },
    "id": "dwOKQBojbTtd",
    "outputId": "2546a7ce-bffd-4957-db71-a46feb214f8b"
   },
   "outputs": [
    {
     "data": {
      "image/png": "[encoded data removed]",
      "text/plain": [
       "<Figure size 1667x648 with 1 Axes>"
      ]
     },
     "metadata": {
      "needs_background": "light"
     },
     "output_type": "display_data"
    }
   ],
   "source": [
    "plot('var15', \"Age of customers\")"
   ]
  },
  {
   "cell_type": "code",
   "execution_count": null,
   "metadata": {
    "colab": {
     "base_uri": "https://localhost:8080/"
    },
    "executionInfo": {
     "elapsed": 10,
     "status": "ok",
     "timestamp": 1641452713660,
     "user": {
      "displayName": "Gia Bảo Hoàng",
      "photoUrl": "https://lh3.googleusercontent.com/a/default-user=s64",
      "userId": "15531827273777406165"
     },
     "user_tz": -420
    },
    "id": "PtLhjj3fiz0J",
    "outputId": "c06bed13-2cb5-4d84-9c71-32d30c6dc52c"
   },
   "outputs": [
    {
     "data": {
      "text/plain": [
       "0"
      ]
     },
     "execution_count": 44,
     "metadata": {},
     "output_type": "execute_result"
    }
   ],
   "source": [
    "check_age = 23\n",
    "age_row = X_train.loc[X_train['var15'] < check_age]\n",
    "(age_row['TARGET'] == 1).sum()"
   ]
  },
  {
   "cell_type": "markdown",
   "metadata": {
    "id": "15Ch0JDQrAhW"
   },
   "source": [
    "Từ hình minh họa, ta thấy được:\n",
    "- Nếu tuổi của khách hàng < 23 thì khách hàng đó luôn hài lòng (TARGET = 0)"
   ]
  },
  {
   "cell_type": "code",
   "execution_count": null,
   "metadata": {
    "colab": {
     "base_uri": "https://localhost:8080/"
    },
    "executionInfo": {
     "elapsed": 685,
     "status": "ok",
     "timestamp": 1641452714338,
     "user": {
      "displayName": "Gia Bảo Hoàng",
      "photoUrl": "https://lh3.googleusercontent.com/a/default-user=s64",
      "userId": "15531827273777406165"
     },
     "user_tz": -420
    },
    "id": "-CaZtI-hnkbP",
    "outputId": "ae192cf7-32b8-4ae6-cc88-05318b9b44c3"
   },
   "outputs": [
    {
     "name": "stdout",
     "output_type": "stream",
     "text": [
      "[-999999, 0, 1, 2, 3, 4, 5, 6, 7, 8, 9, 10, 11, 12, 13, 14, 15, 16, 17, 18, 19, 20, 21, 22, 23, 24, 25, 26, 27, 28, 29, 30, 31, 32, 33, 34, 35, 36, 38, 40, 41, 42, 43, 44, 45, 46, 47, 48, 49, 50, 51, 52, 53, 54, 55, 56, 57, 58, 59, 60, 61, 62, 63, 64, 65, 66, 68, 69, 71, 72, 73, 74, 76, 77, 78, 79, 81, 82, 84, 85, 86, 87, 88, 89, 90, 91, 93, 94, 95, 96, 97, 98, 99, 100, 101, 102, 103, 104, 105, 106, 107, 108, 110, 111, 112, 114, 115, 116, 117, 118, 119, 120, 121, 122, 124, 125, 126, 127, 128, 129, 130, 131, 132, 133, 134, 135, 136, 137, 138, 139, 141, 142, 143, 144, 145, 146, 147, 148, 149, 150, 151, 152, 153, 154, 156, 157, 158, 159, 161, 162, 163, 164, 165, 166, 167, 168, 169, 170, 171, 172, 173, 174, 175, 176, 177, 178, 181, 182, 183, 184, 185, 186, 187, 188, 189, 190, 191, 192, 193, 194, 195, 196, 197, 198, 199, 200, 201, 204, 205, 207, 208, 209, 210, 211, 213, 215, 216, 217, 218, 219, 220, 223, 225, 228, 229, 231, 235, 238]\n",
      "[-1.0, -0.903846154, -0.833333333, -0.8, -0.760287655, -0.666666667, -0.5, -0.4995, -0.349489796, -0.333333333, -0.29108256899999996, -0.19736842100000002, -0.1, -0.090909091, 0.0, 0.1538461538, 0.1605039216, 0.4, 1.0, 1.1818181818, 1.2222222222, 1.4457142856999998, 1.7777777778, 2.3330918049, 4.0, 5.5, 9999999999.0]\n",
      "[-1.0, -0.75, 0.0, 0.6853333333, 1.0000545455, 1.5, 9999999999.0]\n",
      "[-1.0, -0.95, -0.94047619, -0.9159999999999999, -0.7, -0.666666667, -0.5, 0.0, 9999999999.0]\n",
      "[-1.0, -0.97879234, -0.96848059, -0.964235374, -0.950397506, -0.934030473, -0.6307265160000001, -0.475738877, 0.0, 0.025623228300000002, 0.1517506713, 0.33360686170000003, 1.8862041341999998, 2.6505494505000002, 3.654278296, 6.2676078430999995, 9999999999.0]\n",
      "[0, 9999999999]\n",
      "[-1, 0, 9999999999]\n",
      "[-1, 0, 9999999999]\n",
      "[-1.0, -0.505773267, 0.0, 5.4170984456, 9999999999.0]\n",
      "[-1.0, -0.5, -0.333333333, 0.0, 1.0, 9999999999.0]\n",
      "[-1.0, -0.333333333, 0.0, 1.0, 2.0, 9999999999.0]\n",
      "[-1.0, -0.5, 0.0, 9999999999.0]\n",
      "[-1.0, -0.666666667, -0.333333333, 0.0, 0.5, 1.0, 2.5, 4.0, 9999999999.0]\n",
      "[-1.0, -0.5, 0.0, 8.0, 9999999999.0]\n"
     ]
    },
    {
     "data": {
      "text/plain": [
       "['var3',\n",
       " 'delta_imp_aport_var13_1y3',\n",
       " 'delta_imp_aport_var17_1y3',\n",
       " 'delta_imp_aport_var33_1y3',\n",
       " 'delta_imp_compra_var44_1y3',\n",
       " 'delta_imp_reemb_var13_1y3',\n",
       " 'delta_imp_reemb_var17_1y3',\n",
       " 'delta_imp_trasp_var33_in_1y3',\n",
       " 'delta_imp_venta_var44_1y3',\n",
       " 'delta_num_aport_var13_1y3',\n",
       " 'delta_num_aport_var17_1y3',\n",
       " 'delta_num_aport_var33_1y3',\n",
       " 'delta_num_compra_var44_1y3',\n",
       " 'delta_num_venta_var44_1y3']"
      ]
     },
     "execution_count": 45,
     "metadata": {},
     "output_type": "execute_result"
    }
   ],
   "source": [
    "outlier_cols = []\n",
    "for col in X_train.columns:\n",
    "  tmp = np.unique(X_train[col])\n",
    "  listtmp = tmp.tolist()\n",
    "  if (9999999999 in listtmp or -999999 in listtmp):\n",
    "    print(listtmp)\n",
    "    outlier_cols.append(col)\n",
    "\n",
    "outlier_cols"
   ]
  },
  {
   "cell_type": "markdown",
   "metadata": {
    "id": "FtowPiWMPOnK"
   },
   "source": [
    "Có các biến mang giá trị outliers: \n",
    "- Ở các cột có số 9999999999 ta thấy số không quá 10, ta có thể  chuẩn hóa nó về giá trị 999 (999 là đủ xa so với các số kia, đủ thể hiện điều gì đó rồi)\n",
    "- -999999 ta có thể chuẩn hóa nó về giá trị -1 (do trong cột có -999999 thì các giá trị khác đều không âm, ta chuyển nó về -1 là hợp lí phân bổ)\n",
    "\n"
   ]
  },
  {
   "cell_type": "markdown",
   "metadata": {
    "id": "M4TOZ1e1KimT"
   },
   "source": [
    "### Mối quan hệ giữa 2 cột trong các cột \"quan trọng\""
   ]
  },
  {
   "cell_type": "code",
   "execution_count": null,
   "metadata": {
    "id": "LC6vzIDyL-oB"
   },
   "outputs": [],
   "source": [
    "# sns.pairplot(X_train, x_vars = imp_feats, y_vars = imp_feats, hue = 'TARGET')"
   ]
  },
  {
   "cell_type": "markdown",
   "metadata": {
    "id": "ME8VFViv7QpJ"
   },
   "source": [
    "## Kiểm tra xem tập huấn luyện có bị mất cân bằng không"
   ]
  },
  {
   "cell_type": "code",
   "execution_count": null,
   "metadata": {
    "colab": {
     "base_uri": "https://localhost:8080/"
    },
    "executionInfo": {
     "elapsed": 6,
     "status": "ok",
     "timestamp": 1641452714339,
     "user": {
      "displayName": "Gia Bảo Hoàng",
      "photoUrl": "https://lh3.googleusercontent.com/a/default-user=s64",
      "userId": "15531827273777406165"
     },
     "user_tz": -420
    },
    "id": "-LD5xXcQ5B7t",
    "outputId": "49680d6c-e57b-4538-876e-e34ea3350509"
   },
   "outputs": [
    {
     "data": {
      "text/plain": [
       "0    73012\n",
       "1     3008\n",
       "Name: TARGET, dtype: int64"
      ]
     },
     "execution_count": 47,
     "metadata": {},
     "output_type": "execute_result"
    }
   ],
   "source": [
    "y_train.value_counts()"
   ]
  },
  {
   "cell_type": "markdown",
   "metadata": {
    "id": "26nQ8P3S7dI5"
   },
   "source": [
    "--> Có bị mất cân bằng"
   ]
  },
  {
   "cell_type": "markdown",
   "metadata": {
    "id": "tczxcTKKeCVr"
   },
   "source": [
    "# Tiền xử lý dữ liệu & Features Engineering"
   ]
  },
  {
   "cell_type": "code",
   "execution_count": null,
   "metadata": {
    "id": "4eUcxAhMTpYa"
   },
   "outputs": [],
   "source": [
    "X_train.drop('TARGET', axis = 1, inplace = True)"
   ]
  },
  {
   "cell_type": "markdown",
   "metadata": {
    "id": "hLPnD1bdO-jY"
   },
   "source": [
    "1. Xử lí nhiễu và outliers:\n",
    "  * Ở cột var38: chuyển giá trị 117310.979016494 thành -1\n",
    "  * Ở các cột trong list 'outlier_cols': \n",
    "    * 9999999999 chuyển thành giá trị 999\n",
    "    * -999999 chuyển thành -1\n",
    "\n",
    "2. Do rất nhiều cột mang giá trị 0 trong dữ liệu, nên có thể số lượng số 0 trong 1 dòng cũng là một thông tin hữu ích để dự đoán --> ta có thể thêm 1 cột: \"zerocount\" vào dữ liệu\n",
    "\n",
    "3. Ở bước khám phá, ta đã biết thông tin: nếu cột 'var15' có giá trị < 23 thì TARGET luôn = 0(luôn hài lòng) --> ta có thể thêm cột: \"LessThan23\" vào dữ liệu: nếu giá trị cột 'var15' < 23 thì giá trị cột 'LessThan23' sẽ mang giá trị 1\n",
    "\n",
    "4. Thêm thuộc tính tSNE vào dữ liệu"
   ]
  },
  {
   "cell_type": "code",
   "execution_count": null,
   "metadata": {
    "id": "zth4ZP-bOce2"
   },
   "outputs": [],
   "source": [
    "def preprocessing(data):\n",
    "  data['var38'].replace(117310.979016494, -1.0, inplace = True)\n",
    "\n",
    "  for col in outlier_cols:\n",
    "    if (col == 'var3'):\n",
    "      data[col].replace(-999999, -1, inplace = True)\n",
    "    else:\n",
    "      data[col].replace(9999999999, 999, inplace = True)\n",
    "  \n",
    "  data['zerocount'] = data.apply(lambda x: np.sum(x == 0), axis = 1)\n",
    "\n",
    "  listzeros = [0] * data.shape[0]\n",
    "  data['LessThan23'] = pd.Series(listzeros)\n",
    "  data.loc[data['var15'] < 23, 'LessThan23'] = 1"
   ]
  },
  {
   "cell_type": "code",
   "execution_count": null,
   "metadata": {
    "id": "29B0QrE2UJTF"
   },
   "outputs": [],
   "source": [
    "preprocessing(X_train)\n",
    "preprocessing(X_test)"
   ]
  },
  {
   "cell_type": "code",
   "execution_count": null,
   "metadata": {
    "id": "Q2Le9cnU40qA"
   },
   "outputs": [],
   "source": [
    "tsne_features = pd.read_csv(feature_folder + \"tsne_feats.csv\")\n",
    "tsne_features.drop(['ID'], axis = 1, inplace = True)\n",
    "tsne_features_train = tsne_features[:X_train.shape[0]]\n",
    "\n",
    "index = pd.Series(range(0, X_test.shape[0]))\n",
    "tsne_features_test = tsne_features[X_train.shape[0]:tsne_features.shape[0]].set_index([index])"
   ]
  },
  {
   "cell_type": "code",
   "execution_count": null,
   "metadata": {
    "colab": {
     "base_uri": "https://localhost:8080/"
    },
    "executionInfo": {
     "elapsed": 23,
     "status": "ok",
     "timestamp": 1641452767050,
     "user": {
      "displayName": "Gia Bảo Hoàng",
      "photoUrl": "https://lh3.googleusercontent.com/a/default-user=s64",
      "userId": "15531827273777406165"
     },
     "user_tz": -420
    },
    "id": "44l62cYJ-Kjv",
    "outputId": "cfa0567a-b0ab-4eda-c668-80e599b00132"
   },
   "outputs": [
    {
     "data": {
      "text/plain": [
       "(76020, 2)"
      ]
     },
     "execution_count": 52,
     "metadata": {},
     "output_type": "execute_result"
    }
   ],
   "source": [
    "tsne_features_train.shape"
   ]
  },
  {
   "cell_type": "code",
   "execution_count": null,
   "metadata": {
    "colab": {
     "base_uri": "https://localhost:8080/"
    },
    "executionInfo": {
     "elapsed": 20,
     "status": "ok",
     "timestamp": 1641452767051,
     "user": {
      "displayName": "Gia Bảo Hoàng",
      "photoUrl": "https://lh3.googleusercontent.com/a/default-user=s64",
      "userId": "15531827273777406165"
     },
     "user_tz": -420
    },
    "id": "Fj4EJ-Bc_aaX",
    "outputId": "051ca71b-ea30-48c6-eadb-cd5aea0eb0a6"
   },
   "outputs": [
    {
     "data": {
      "text/plain": [
       "(76020, 258)"
      ]
     },
     "execution_count": 53,
     "metadata": {},
     "output_type": "execute_result"
    }
   ],
   "source": [
    "X_train['tsne1'] = tsne_features_train['tsne1']\n",
    "X_train['tsne2'] = tsne_features_train['tsne2']\n",
    "X_train.shape"
   ]
  },
  {
   "cell_type": "code",
   "execution_count": null,
   "metadata": {
    "colab": {
     "base_uri": "https://localhost:8080/"
    },
    "executionInfo": {
     "elapsed": 18,
     "status": "ok",
     "timestamp": 1641452767051,
     "user": {
      "displayName": "Gia Bảo Hoàng",
      "photoUrl": "https://lh3.googleusercontent.com/a/default-user=s64",
      "userId": "15531827273777406165"
     },
     "user_tz": -420
    },
    "id": "lVXjak31-MAN",
    "outputId": "54ec0dbc-a387-4d92-9aaf-2977a496f94f"
   },
   "outputs": [
    {
     "data": {
      "text/plain": [
       "(75818, 2)"
      ]
     },
     "execution_count": 54,
     "metadata": {},
     "output_type": "execute_result"
    }
   ],
   "source": [
    "tsne_features_test.shape"
   ]
  },
  {
   "cell_type": "code",
   "execution_count": null,
   "metadata": {
    "colab": {
     "base_uri": "https://localhost:8080/"
    },
    "executionInfo": {
     "elapsed": 17,
     "status": "ok",
     "timestamp": 1641452767052,
     "user": {
      "displayName": "Gia Bảo Hoàng",
      "photoUrl": "https://lh3.googleusercontent.com/a/default-user=s64",
      "userId": "15531827273777406165"
     },
     "user_tz": -420
    },
    "id": "-aS6H0mY_idB",
    "outputId": "862ee3ac-f748-413a-b4eb-29bc6e48663a"
   },
   "outputs": [
    {
     "data": {
      "text/plain": [
       "(75818, 258)"
      ]
     },
     "execution_count": 55,
     "metadata": {},
     "output_type": "execute_result"
    }
   ],
   "source": [
    "X_test['tsne1'] = tsne_features_test['tsne1']\n",
    "X_test['tsne2'] = tsne_features_test['tsne2']\n",
    "X_test.shape"
   ]
  },
  {
   "cell_type": "markdown",
   "metadata": {
    "id": "OTLLxIPpmyUG"
   },
   "source": [
    "# Mô hình hóa dữ liệu"
   ]
  },
  {
   "cell_type": "markdown",
   "metadata": {
    "id": "p64wZDmNPGXf"
   },
   "source": [
    "## LightGBM"
   ]
  },
  {
   "cell_type": "code",
   "execution_count": null,
   "metadata": {
    "id": "u2XhC0ntPDkI"
   },
   "outputs": [],
   "source": [
    "import lightgbm as lgbm\n",
    "from sklearn.model_selection import StratifiedKFold\n",
    "from sklearn.metrics import roc_auc_score"
   ]
  },
  {
   "cell_type": "code",
   "execution_count": null,
   "metadata": {
    "id": "bu8yKdNPj8W5"
   },
   "outputs": [],
   "source": [
    "lgbm_model = lgbm.LGBMClassifier(\n",
    "    n_estimators = 5000, num_leaves = 24, max_depth = 5, learning_rate = 0.0001,\n",
    "    objective = 'binary', min_split_gain = 0.01, min_child_weight = 1, min_child_samples = 50,\n",
    "    subsample = 0.9, colsample_bytree = 0.5, random_state = 42,\n",
    ")"
   ]
  },
  {
   "cell_type": "markdown",
   "metadata": {
    "id": "6dls8QWvq_7x"
   },
   "source": [
    "Khi dự đoán một bộ kết quả, ta sẽ không học 1 lần rồi dự đoán ra luôn, mà ta sẽ làm quá trình (học -> dự đoán) này estimators lần, sau đó sẽ lấy trung bình của tất cả dự đoán\n",
    "\n",
    "--> Sẽ có được các dự đoán khách quan hơn. Đây là ý tưởng của hàm bagged_set dưới đây"
   ]
  },
  {
   "cell_type": "code",
   "execution_count": null,
   "metadata": {
    "id": "RmishcHcToo8"
   },
   "outputs": [],
   "source": [
    "def bagged_set(X, y, model, seed, estimators, xt, update_seed = True):\n",
    "   baggedpred=[ 0.0  for d in range(0, (xt.shape[0]))]\n",
    "   \n",
    "   for n in range (0, estimators):\n",
    "        if update_seed:\n",
    "          model.set_params(random_state = seed + n)\n",
    "        model.fit(X, y)\n",
    "        preds = model.predict_proba(xt)[:,1]\n",
    "\n",
    "        for j in range (0, (xt.shape[0])):           \n",
    "            baggedpred[j] += preds[j]\n",
    "\n",
    "   for j in range (0, len(baggedpred)): \n",
    "      baggedpred[j] /= float(estimators)\n",
    "           \n",
    "   return np.array(baggedpred) "
   ]
  },
  {
   "cell_type": "markdown",
   "metadata": {
    "id": "OKY2F5fXrmSK"
   },
   "source": [
    "Ta chuyển dạng dataframe của tập train và test sang dạng ma trận các giá trị trong dataframe đó"
   ]
  },
  {
   "cell_type": "code",
   "execution_count": null,
   "metadata": {
    "id": "bIyOsV0BcUaj"
   },
   "outputs": [],
   "source": [
    "from sklearn.feature_extraction import DictVectorizer\n",
    "\n",
    "train_s = X_train\n",
    "test_s = X_test\n",
    "comb = pd.concat([test_s,train_s])\n",
    "    \n",
    "result = comb.T.to_dict().values()\n",
    "train = train_s.T.to_dict().values()\n",
    "test = test_s.T.to_dict().values()\n",
    "    \n",
    "vec = DictVectorizer()\n",
    "vec.fit(result)\n",
    "train = vec.transform(train)\n",
    "test = vec.transform(test)"
   ]
  },
  {
   "cell_type": "code",
   "execution_count": null,
   "metadata": {
    "id": "pUcZhZsVMI91"
   },
   "outputs": [],
   "source": [
    "n_folds = 5\n",
    "repeats = 20"
   ]
  },
  {
   "cell_type": "markdown",
   "metadata": {
    "id": "fHALQzdGr6uk"
   },
   "source": [
    "Thực hiện 20 lần, mỗi lần sẽ sử dụng Stratified5Fold để cross validation. Sử dụng StratifiedKFold là do dữ liệu mất cân bằng, khi k-fold nó sẽ lấy % dữ liệu có nhãn bằng với % nhãn trong tập gốc\n",
    "\n",
    "VD: TARGET = 1(4%), TARGET = 0(96%) trong tập train --> khi StratifiedKFold thì ở mỗi fold, cũng có TARGET = 1 chiếm 4% tổng số dữ liệu của fold\n",
    "\n",
    "--> Làm StratifiedKFold để tránh trường hợp 1 fold nào đó không có dữ liệu của TARGET = 1 để training"
   ]
  },
  {
   "cell_type": "markdown",
   "metadata": {
    "id": "Asi7F_aytzP-"
   },
   "source": [
    "Quá trình training này mất > 5h để hoàn thành"
   ]
  },
  {
   "cell_type": "code",
   "execution_count": null,
   "metadata": {
    "colab": {
     "base_uri": "https://localhost:8080/"
    },
    "executionInfo": {
     "elapsed": 339592,
     "status": "ok",
     "timestamp": 1641473190182,
     "user": {
      "displayName": "Gia Bảo Hoàng",
      "photoUrl": "https://lh3.googleusercontent.com/a/default-user=s64",
      "userId": "15531827273777406165"
     },
     "user_tz": -420
    },
    "id": "gBh5aSZEUTlL",
    "outputId": "cd1d8527-6911-45b6-9e05-327feb55ec51"
   },
   "outputs": [
    {
     "name": "stdout",
     "output_type": "stream",
     "text": [
      "folder 0  train size: 60816. test size: 15204, cols: 258 \n",
      "folder 0 size train: 60816 size cv: 15204, ROC_AUC (fold 1/5): 0.825068\n",
      "folder 0  train size: 60816. test size: 15204, cols: 258 \n",
      "folder 0 size train: 60816 size cv: 15204, ROC_AUC (fold 2/5): 0.815857\n",
      "folder 0  train size: 60816. test size: 15204, cols: 258 \n",
      "folder 0 size train: 60816 size cv: 15204, ROC_AUC (fold 3/5): 0.825981\n",
      "folder 0  train size: 60816. test size: 15204, cols: 258 \n",
      "folder 0 size train: 60816 size cv: 15204, ROC_AUC (fold 4/5): 0.829156\n",
      "folder 0  train size: 60816. test size: 15204, cols: 258 \n",
      "folder 0 size train: 60816 size cv: 15204, ROC_AUC (fold 5/5): 0.827375\n",
      "==============================================================================================\n",
      "folder 1  train size: 60816. test size: 15204, cols: 258 \n",
      "folder 1 size train: 60816 size cv: 15204, ROC_AUC (fold 1/5): 0.826420\n",
      "folder 1  train size: 60816. test size: 15204, cols: 258 \n",
      "folder 1 size train: 60816 size cv: 15204, ROC_AUC (fold 2/5): 0.827562\n",
      "folder 1  train size: 60816. test size: 15204, cols: 258 \n",
      "folder 1 size train: 60816 size cv: 15204, ROC_AUC (fold 3/5): 0.837313\n",
      "folder 1  train size: 60816. test size: 15204, cols: 258 \n",
      "folder 1 size train: 60816 size cv: 15204, ROC_AUC (fold 4/5): 0.817433\n",
      "folder 1  train size: 60816. test size: 15204, cols: 258 \n",
      "folder 1 size train: 60816 size cv: 15204, ROC_AUC (fold 5/5): 0.818770\n",
      "==============================================================================================\n",
      "folder 2  train size: 60816. test size: 15204, cols: 258 \n",
      "folder 2 size train: 60816 size cv: 15204, ROC_AUC (fold 1/5): 0.830427\n",
      "folder 2  train size: 60816. test size: 15204, cols: 258 \n",
      "folder 2 size train: 60816 size cv: 15204, ROC_AUC (fold 2/5): 0.822727\n",
      "folder 2  train size: 60816. test size: 15204, cols: 258 \n",
      "folder 2 size train: 60816 size cv: 15204, ROC_AUC (fold 3/5): 0.822137\n",
      "folder 2  train size: 60816. test size: 15204, cols: 258 \n",
      "folder 2 size train: 60816 size cv: 15204, ROC_AUC (fold 4/5): 0.826832\n",
      "folder 2  train size: 60816. test size: 15204, cols: 258 \n",
      "folder 2 size train: 60816 size cv: 15204, ROC_AUC (fold 5/5): 0.827285\n",
      "==============================================================================================\n",
      "folder 3  train size: 60816. test size: 15204, cols: 258 \n",
      "folder 3 size train: 60816 size cv: 15204, ROC_AUC (fold 1/5): 0.822426\n",
      "folder 3  train size: 60816. test size: 15204, cols: 258 \n",
      "folder 3 size train: 60816 size cv: 15204, ROC_AUC (fold 2/5): 0.818676\n",
      "folder 3  train size: 60816. test size: 15204, cols: 258 \n",
      "folder 3 size train: 60816 size cv: 15204, ROC_AUC (fold 3/5): 0.830325\n",
      "folder 3  train size: 60816. test size: 15204, cols: 258 \n",
      "folder 3 size train: 60816 size cv: 15204, ROC_AUC (fold 4/5): 0.825918\n",
      "folder 3  train size: 60816. test size: 15204, cols: 258 \n",
      "folder 3 size train: 60816 size cv: 15204, ROC_AUC (fold 5/5): 0.834871\n",
      "==============================================================================================\n",
      "folder 4  train size: 60816. test size: 15204, cols: 258 \n",
      "folder 4 size train: 60816 size cv: 15204, ROC_AUC (fold 1/5): 0.817354\n",
      "folder 4  train size: 60816. test size: 15204, cols: 258 \n",
      "folder 4 size train: 60816 size cv: 15204, ROC_AUC (fold 2/5): 0.827826\n",
      "folder 4  train size: 60816. test size: 15204, cols: 258 \n",
      "folder 4 size train: 60816 size cv: 15204, ROC_AUC (fold 3/5): 0.818490\n",
      "folder 4  train size: 60816. test size: 15204, cols: 258 \n",
      "folder 4 size train: 60816 size cv: 15204, ROC_AUC (fold 4/5): 0.841096\n",
      "folder 4  train size: 60816. test size: 15204, cols: 258 \n",
      "folder 4 size train: 60816 size cv: 15204, ROC_AUC (fold 5/5): 0.826016\n",
      "==============================================================================================\n",
      "folder 5  train size: 60816. test size: 15204, cols: 258 \n",
      "folder 5 size train: 60816 size cv: 15204, ROC_AUC (fold 1/5): 0.825701\n",
      "folder 5  train size: 60816. test size: 15204, cols: 258 \n",
      "folder 5 size train: 60816 size cv: 15204, ROC_AUC (fold 2/5): 0.823244\n",
      "folder 5  train size: 60816. test size: 15204, cols: 258 \n",
      "folder 5 size train: 60816 size cv: 15204, ROC_AUC (fold 3/5): 0.829570\n",
      "folder 5  train size: 60816. test size: 15204, cols: 258 \n",
      "folder 5 size train: 60816 size cv: 15204, ROC_AUC (fold 4/5): 0.822495\n",
      "folder 5  train size: 60816. test size: 15204, cols: 258 \n",
      "folder 5 size train: 60816 size cv: 15204, ROC_AUC (fold 5/5): 0.831741\n",
      "==============================================================================================\n",
      "folder 6  train size: 60816. test size: 15204, cols: 258 \n",
      "folder 6 size train: 60816 size cv: 15204, ROC_AUC (fold 1/5): 0.826493\n",
      "folder 6  train size: 60816. test size: 15204, cols: 258 \n",
      "folder 6 size train: 60816 size cv: 15204, ROC_AUC (fold 2/5): 0.833666\n",
      "folder 6  train size: 60816. test size: 15204, cols: 258 \n",
      "folder 6 size train: 60816 size cv: 15204, ROC_AUC (fold 3/5): 0.830316\n",
      "folder 6  train size: 60816. test size: 15204, cols: 258 \n",
      "folder 6 size train: 60816 size cv: 15204, ROC_AUC (fold 4/5): 0.812097\n",
      "folder 6  train size: 60816. test size: 15204, cols: 258 \n",
      "folder 6 size train: 60816 size cv: 15204, ROC_AUC (fold 5/5): 0.825378\n",
      "==============================================================================================\n",
      "folder 7  train size: 60816. test size: 15204, cols: 258 \n",
      "folder 7 size train: 60816 size cv: 15204, ROC_AUC (fold 1/5): 0.832421\n",
      "folder 7  train size: 60816. test size: 15204, cols: 258 \n",
      "folder 7 size train: 60816 size cv: 15204, ROC_AUC (fold 2/5): 0.830264\n",
      "folder 7  train size: 60816. test size: 15204, cols: 258 \n",
      "folder 7 size train: 60816 size cv: 15204, ROC_AUC (fold 3/5): 0.821615\n",
      "folder 7  train size: 60816. test size: 15204, cols: 258 \n",
      "folder 7 size train: 60816 size cv: 15204, ROC_AUC (fold 4/5): 0.826815\n",
      "folder 7  train size: 60816. test size: 15204, cols: 258 \n",
      "folder 7 size train: 60816 size cv: 15204, ROC_AUC (fold 5/5): 0.821659\n",
      "==============================================================================================\n",
      "folder 8  train size: 60816. test size: 15204, cols: 258 \n",
      "folder 8 size train: 60816 size cv: 15204, ROC_AUC (fold 1/5): 0.822888\n",
      "folder 8  train size: 60816. test size: 15204, cols: 258 \n",
      "folder 8 size train: 60816 size cv: 15204, ROC_AUC (fold 2/5): 0.825286\n",
      "folder 8  train size: 60816. test size: 15204, cols: 258 \n",
      "folder 8 size train: 60816 size cv: 15204, ROC_AUC (fold 3/5): 0.824618\n",
      "folder 8  train size: 60816. test size: 15204, cols: 258 \n",
      "folder 8 size train: 60816 size cv: 15204, ROC_AUC (fold 4/5): 0.839590\n",
      "folder 8  train size: 60816. test size: 15204, cols: 258 \n",
      "folder 8 size train: 60816 size cv: 15204, ROC_AUC (fold 5/5): 0.815610\n",
      "==============================================================================================\n",
      "folder 9  train size: 60816. test size: 15204, cols: 258 \n",
      "folder 9 size train: 60816 size cv: 15204, ROC_AUC (fold 1/5): 0.825160\n",
      "folder 9  train size: 60816. test size: 15204, cols: 258 \n",
      "folder 9 size train: 60816 size cv: 15204, ROC_AUC (fold 2/5): 0.818658\n",
      "folder 9  train size: 60816. test size: 15204, cols: 258 \n",
      "folder 9 size train: 60816 size cv: 15204, ROC_AUC (fold 3/5): 0.838008\n",
      "folder 9  train size: 60816. test size: 15204, cols: 258 \n",
      "folder 9 size train: 60816 size cv: 15204, ROC_AUC (fold 4/5): 0.814045\n",
      "folder 9  train size: 60816. test size: 15204, cols: 258 \n",
      "folder 9 size train: 60816 size cv: 15204, ROC_AUC (fold 5/5): 0.829373\n",
      "==============================================================================================\n",
      "folder 10  train size: 60816. test size: 15204, cols: 258 \n",
      "folder 10 size train: 60816 size cv: 15204, ROC_AUC (fold 1/5): 0.838839\n",
      "folder 10  train size: 60816. test size: 15204, cols: 258 \n",
      "folder 10 size train: 60816 size cv: 15204, ROC_AUC (fold 2/5): 0.811970\n",
      "folder 10  train size: 60816. test size: 15204, cols: 258 \n",
      "folder 10 size train: 60816 size cv: 15204, ROC_AUC (fold 3/5): 0.816679\n",
      "folder 10  train size: 60816. test size: 15204, cols: 258 \n",
      "folder 10 size train: 60816 size cv: 15204, ROC_AUC (fold 4/5): 0.826815\n",
      "folder 10  train size: 60816. test size: 15204, cols: 258 \n",
      "folder 10 size train: 60816 size cv: 15204, ROC_AUC (fold 5/5): 0.834190\n",
      "==============================================================================================\n",
      "folder 11  train size: 60816. test size: 15204, cols: 258 \n",
      "folder 11 size train: 60816 size cv: 15204, ROC_AUC (fold 1/5): 0.829094\n",
      "folder 11  train size: 60816. test size: 15204, cols: 258 \n",
      "folder 11 size train: 60816 size cv: 15204, ROC_AUC (fold 2/5): 0.825354\n",
      "folder 11  train size: 60816. test size: 15204, cols: 258 \n",
      "folder 11 size train: 60816 size cv: 15204, ROC_AUC (fold 3/5): 0.830126\n",
      "folder 11  train size: 60816. test size: 15204, cols: 258 \n",
      "folder 11 size train: 60816 size cv: 15204, ROC_AUC (fold 4/5): 0.813380\n",
      "folder 11  train size: 60816. test size: 15204, cols: 258 \n",
      "folder 11 size train: 60816 size cv: 15204, ROC_AUC (fold 5/5): 0.828827\n",
      "==============================================================================================\n",
      "folder 12  train size: 60816. test size: 15204, cols: 258 \n",
      "folder 12 size train: 60816 size cv: 15204, ROC_AUC (fold 1/5): 0.825042\n",
      "folder 12  train size: 60816. test size: 15204, cols: 258 \n",
      "folder 12 size train: 60816 size cv: 15204, ROC_AUC (fold 2/5): 0.821479\n",
      "folder 12  train size: 60816. test size: 15204, cols: 258 \n",
      "folder 12 size train: 60816 size cv: 15204, ROC_AUC (fold 3/5): 0.829517\n",
      "folder 12  train size: 60816. test size: 15204, cols: 258 \n",
      "folder 12 size train: 60816 size cv: 15204, ROC_AUC (fold 4/5): 0.821162\n",
      "folder 12  train size: 60816. test size: 15204, cols: 258 \n",
      "folder 12 size train: 60816 size cv: 15204, ROC_AUC (fold 5/5): 0.825827\n",
      "==============================================================================================\n",
      "folder 13  train size: 60816. test size: 15204, cols: 258 \n",
      "folder 13 size train: 60816 size cv: 15204, ROC_AUC (fold 1/5): 0.813550\n",
      "folder 13  train size: 60816. test size: 15204, cols: 258 \n",
      "folder 13 size train: 60816 size cv: 15204, ROC_AUC (fold 2/5): 0.845249\n",
      "folder 13  train size: 60816. test size: 15204, cols: 258 \n",
      "folder 13 size train: 60816 size cv: 15204, ROC_AUC (fold 3/5): 0.820319\n",
      "folder 13  train size: 60816. test size: 15204, cols: 258 \n",
      "folder 13 size train: 60816 size cv: 15204, ROC_AUC (fold 4/5): 0.828220\n",
      "folder 13  train size: 60816. test size: 15204, cols: 258 \n",
      "folder 13 size train: 60816 size cv: 15204, ROC_AUC (fold 5/5): 0.819827\n",
      "==============================================================================================\n",
      "folder 14  train size: 60816. test size: 15204, cols: 258 \n",
      "folder 14 size train: 60816 size cv: 15204, ROC_AUC (fold 1/5): 0.822460\n",
      "folder 14  train size: 60816. test size: 15204, cols: 258 \n",
      "folder 14 size train: 60816 size cv: 15204, ROC_AUC (fold 2/5): 0.836945\n",
      "folder 14  train size: 60816. test size: 15204, cols: 258 \n",
      "folder 14 size train: 60816 size cv: 15204, ROC_AUC (fold 3/5): 0.820821\n",
      "folder 14  train size: 60816. test size: 15204, cols: 258 \n",
      "folder 14 size train: 60816 size cv: 15204, ROC_AUC (fold 4/5): 0.827999\n",
      "folder 14  train size: 60816. test size: 15204, cols: 258 \n",
      "folder 14 size train: 60816 size cv: 15204, ROC_AUC (fold 5/5): 0.824935\n",
      "==============================================================================================\n",
      "folder 15  train size: 60816. test size: 15204, cols: 258 \n",
      "folder 15 size train: 60816 size cv: 15204, ROC_AUC (fold 1/5): 0.822856\n",
      "folder 15  train size: 60816. test size: 15204, cols: 258 \n",
      "folder 15 size train: 60816 size cv: 15204, ROC_AUC (fold 2/5): 0.819975\n",
      "folder 15  train size: 60816. test size: 15204, cols: 258 \n",
      "folder 15 size train: 60816 size cv: 15204, ROC_AUC (fold 3/5): 0.832645\n",
      "folder 15  train size: 60816. test size: 15204, cols: 258 \n",
      "folder 15 size train: 60816 size cv: 15204, ROC_AUC (fold 4/5): 0.821694\n",
      "folder 15  train size: 60816. test size: 15204, cols: 258 \n",
      "folder 15 size train: 60816 size cv: 15204, ROC_AUC (fold 5/5): 0.830855\n",
      "==============================================================================================\n",
      "folder 16  train size: 60816. test size: 15204, cols: 258 \n",
      "folder 16 size train: 60816 size cv: 15204, ROC_AUC (fold 1/5): 0.836407\n",
      "folder 16  train size: 60816. test size: 15204, cols: 258 \n",
      "folder 16 size train: 60816 size cv: 15204, ROC_AUC (fold 2/5): 0.834453\n",
      "folder 16  train size: 60816. test size: 15204, cols: 258 \n",
      "folder 16 size train: 60816 size cv: 15204, ROC_AUC (fold 3/5): 0.818810\n",
      "folder 16  train size: 60816. test size: 15204, cols: 258 \n",
      "folder 16 size train: 60816 size cv: 15204, ROC_AUC (fold 4/5): 0.823469\n",
      "folder 16  train size: 60816. test size: 15204, cols: 258 \n",
      "folder 16 size train: 60816 size cv: 15204, ROC_AUC (fold 5/5): 0.820000\n",
      "==============================================================================================\n",
      "folder 17  train size: 60816. test size: 15204, cols: 258 \n",
      "folder 17 size train: 60816 size cv: 15204, ROC_AUC (fold 1/5): 0.830515\n",
      "folder 17  train size: 60816. test size: 15204, cols: 258 \n",
      "folder 17 size train: 60816 size cv: 15204, ROC_AUC (fold 2/5): 0.824654\n",
      "folder 17  train size: 60816. test size: 15204, cols: 258 \n",
      "folder 17 size train: 60816 size cv: 15204, ROC_AUC (fold 3/5): 0.825128\n",
      "folder 17  train size: 60816. test size: 15204, cols: 258 \n",
      "folder 17 size train: 60816 size cv: 15204, ROC_AUC (fold 4/5): 0.819669\n",
      "folder 17  train size: 60816. test size: 15204, cols: 258 \n",
      "folder 17 size train: 60816 size cv: 15204, ROC_AUC (fold 5/5): 0.827770\n",
      "==============================================================================================\n",
      "folder 18  train size: 60816. test size: 15204, cols: 258 \n",
      "folder 18 size train: 60816 size cv: 15204, ROC_AUC (fold 1/5): 0.828046\n",
      "folder 18  train size: 60816. test size: 15204, cols: 258 \n",
      "folder 18 size train: 60816 size cv: 15204, ROC_AUC (fold 2/5): 0.812253\n",
      "folder 18  train size: 60816. test size: 15204, cols: 258 \n",
      "folder 18 size train: 60816 size cv: 15204, ROC_AUC (fold 3/5): 0.828852\n",
      "folder 18  train size: 60816. test size: 15204, cols: 258 \n",
      "folder 18 size train: 60816 size cv: 15204, ROC_AUC (fold 4/5): 0.835047\n",
      "folder 18  train size: 60816. test size: 15204, cols: 258 \n",
      "folder 18 size train: 60816 size cv: 15204, ROC_AUC (fold 5/5): 0.825660\n",
      "==============================================================================================\n",
      "folder 19  train size: 60816. test size: 15204, cols: 258 \n",
      "folder 19 size train: 60816 size cv: 15204, ROC_AUC (fold 1/5): 0.828347\n",
      "folder 19  train size: 60816. test size: 15204, cols: 258 \n",
      "folder 19 size train: 60816 size cv: 15204, ROC_AUC (fold 2/5): 0.819920\n",
      "folder 19  train size: 60816. test size: 15204, cols: 258 \n",
      "folder 19 size train: 60816 size cv: 15204, ROC_AUC (fold 3/5): 0.823009\n",
      "folder 19  train size: 60816. test size: 15204, cols: 258 \n",
      "folder 19 size train: 60816 size cv: 15204, ROC_AUC (fold 4/5): 0.814507\n",
      "folder 19  train size: 60816. test size: 15204, cols: 258 \n",
      "folder 19 size train: 60816 size cv: 15204, ROC_AUC (fold 5/5): 0.838027\n",
      "==============================================================================================\n"
     ]
    }
   ],
   "source": [
    "train_stacker=[0.0 for k in range (0,(train.shape[0]))]\n",
    "test_stacker=[0.0 for k in range (0,(test.shape[0]))]\n",
    "total_mean_score = 0\n",
    "for i in range(repeats):\n",
    "  skf = StratifiedKFold(n_splits = n_folds, shuffle = True, random_state = i)\n",
    "  seed = i\n",
    "  cnt = 0\n",
    "  mean_score = 0.0\n",
    "  for train_index, val_index in skf.split(X_train, y_train):\n",
    "    train_X, val_X = train[train_index], train[val_index]\n",
    "    train_y, val_y = np.array(y_train)[train_index], np.array(y_train)[val_index]\n",
    "\n",
    "    print(\"folder %d  train size: %d. test size: %d, cols: %d \" % (i, (train_X.shape[0]) ,(val_X.shape[0]) ,(train_X.shape[1])))\n",
    "    preds = bagged_set(train_X, train_y, lgbm_model, seed, 2, val_X, update_seed = True)\n",
    "    score = roc_auc_score(val_y, preds)\n",
    "\n",
    "    print(\"folder %d size train: %d size cv: %d, ROC_AUC (fold %d/%d): %f\" % (i, (train_X.shape[0]), (val_X.shape[0]), cnt + 1, n_folds, score))\n",
    "    mean_score += score\n",
    "\n",
    "    no = 0\n",
    "    for real_index in val_index:\n",
    "      train_stacker[real_index] += (preds[no])\n",
    "      no += 1\n",
    "\n",
    "    cnt += 1\n",
    "    seed += 1\n",
    "  \n",
    "  print(\"==============================================================================================\")"
   ]
  },
  {
   "cell_type": "code",
   "execution_count": null,
   "metadata": {
    "colab": {
     "base_uri": "https://localhost:8080/"
    },
    "executionInfo": {
     "elapsed": 477,
     "status": "ok",
     "timestamp": 1641473268151,
     "user": {
      "displayName": "Gia Bảo Hoàng",
      "photoUrl": "https://lh3.googleusercontent.com/a/default-user=s64",
      "userId": "15531827273777406165"
     },
     "user_tz": -420
    },
    "id": "5ecAsuhZObok",
    "outputId": "723653bc-8b5c-4ed1-d7dd-933d75612cce"
   },
   "outputs": [
    {
     "name": "stdout",
     "output_type": "stream",
     "text": [
      "Grand AUC: 0.826084\n"
     ]
    }
   ],
   "source": [
    "for u in range(0, len(train_stacker)):\n",
    "  train_stacker[u] /= repeats\n",
    "\n",
    "grand_auc = roc_auc_score(np.array(y_train), train_stacker)\n",
    "print(\"Grand AUC: %f\" % (grand_auc))"
   ]
  },
  {
   "cell_type": "code",
   "execution_count": null,
   "metadata": {
    "id": "W4psPv8FSbKa"
   },
   "outputs": [],
   "source": [
    "outset = \"myprep_lightgbm_1\""
   ]
  },
  {
   "cell_type": "code",
   "execution_count": null,
   "metadata": {
    "id": "LKizKnmHSALi"
   },
   "outputs": [],
   "source": [
    "def printfilcsve(X, filename, headers):\n",
    "  np.savetxt(filename, X ,header = headers) "
   ]
  },
  {
   "cell_type": "markdown",
   "metadata": {
    "id": "I--jKRJtubb8"
   },
   "source": [
    "Lưu xuống file giá trị dự đoán của model trên tập train và test\n",
    "\n",
    "Sẽ output ra được 2 file:\n",
    "* file \"myprep_lightgbm_1.train.csv\" sẽ là dự đoán của model trên tập train, file này nằm trong thư mục \"data/output/train\"\n",
    "* file \"myprep_lightgbm_1.test.csv\" sẽ là dự đoán của model trên tập test, file này nằm trong thư mục \"data/output/test\""
   ]
  },
  {
   "cell_type": "code",
   "execution_count": null,
   "metadata": {
    "colab": {
     "base_uri": "https://localhost:8080/"
    },
    "executionInfo": {
     "elapsed": 457,
     "status": "ok",
     "timestamp": 1641473295372,
     "user": {
      "displayName": "Gia Bảo Hoàng",
      "photoUrl": "https://lh3.googleusercontent.com/a/default-user=s64",
      "userId": "15531827273777406165"
     },
     "user_tz": -420
    },
    "id": "i4hyhqS2SC62",
    "outputId": "9a1edeb8-6e8e-48fb-b467-958afbf1f1c0"
   },
   "outputs": [
    {
     "name": "stdout",
     "output_type": "stream",
     "text": [
      " printing train datasets \n"
     ]
    }
   ],
   "source": [
    "print (\" printing train datasets \")\n",
    "printfilcsve(np.column_stack((np.array(data_train['ID']),np.array(train_stacker))), metafolder_train+ outset  + \".train.csv\",\"ID,TARGET\")"
   ]
  },
  {
   "cell_type": "code",
   "execution_count": null,
   "metadata": {
    "id": "28U9P_THLcPg"
   },
   "outputs": [],
   "source": [
    "SEED = 15"
   ]
  },
  {
   "cell_type": "code",
   "execution_count": null,
   "metadata": {
    "colab": {
     "base_uri": "https://localhost:8080/"
    },
    "executionInfo": {
     "elapsed": 410685,
     "status": "ok",
     "timestamp": 1641474081996,
     "user": {
      "displayName": "Gia Bảo Hoàng",
      "photoUrl": "https://lh3.googleusercontent.com/a/default-user=s64",
      "userId": "15531827273777406165"
     },
     "user_tz": -420
    },
    "id": "9oqUqycCabJA",
    "outputId": "8cd1c542-4e0d-4091-d8a6-a003d4289f1b"
   },
   "outputs": [
    {
     "metadata": {
      "tags": null
     },
     "name": "stdout",
     "output_type": "stream",
     "text": [
      " making test predictions \n"
     ]
    }
   ],
   "source": [
    "print(\" making test predictions \")        \n",
    "test_preds = bagged_set(train, np.array(y_train), lgbm_model, SEED, 5, test, update_seed = True) \n",
    "final_test_preds = np.array(test_preds)"
   ]
  },
  {
   "cell_type": "code",
   "execution_count": null,
   "metadata": {
    "id": "0YNej0qrOJyq"
   },
   "outputs": [],
   "source": [
    "printfilcsve(np.column_stack((np.array(data_test['ID']),final_test_preds)),  metafolder_test+ outset  + \".test.csv\",\"ID,TARGET\") "
   ]
  }
 ],
 "metadata": {
  "accelerator": "GPU",
  "colab": {
   "collapsed_sections": [
    "l3vB9LCJMvNh",
    "vcwjpwjoVpM6",
    "csZEqrzq6CK_",
    "RNzWdijHrDjU",
    "QTj2VuPuvHzV",
    "mF7WcxEGahZk"
   ],
   "name": "LightGBM.ipynb",
   "provenance": []
  },
  "kernelspec": {
   "display_name": "Python 3 (ipykernel)",
   "language": "python",
   "name": "python3"
  },
  "language_info": {
   "codemirror_mode": {
    "name": "ipython",
    "version": 3
   },
   "file_extension": ".py",
   "mimetype": "text/x-python",
   "name": "python",
   "nbconvert_exporter": "python",
   "pygments_lexer": "ipython3",
   "version": "3.8.8"
  },
  "toc": {
   "base_numbering": 1,
   "nav_menu": {},
   "number_sections": true,
   "sideBar": true,
   "skip_h1_title": false,
   "title_cell": "Table of Contents",
   "title_sidebar": "Contents",
   "toc_cell": false,
   "toc_position": {},
   "toc_section_display": true,
   "toc_window_display": false
  }
 },
 "nbformat": 4,
 "nbformat_minor": 1
}
