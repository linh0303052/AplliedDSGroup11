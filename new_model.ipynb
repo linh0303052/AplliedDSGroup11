{
 "cells": [
  {
   "cell_type": "code",
   "execution_count": 1,
   "id": "d27d4e7f",
   "metadata": {},
   "outputs": [
    {
     "name": "stdout",
     "output_type": "stream",
     "text": [
      "Collecting feature-engine\n",
      "  Downloading feature_engine-1.1.2-py2.py3-none-any.whl (180 kB)\n",
      "Requirement already satisfied: numpy>=1.18.2 in c:\\anaconda\\lib\\site-packages (from feature-engine) (1.20.1)\n",
      "Requirement already satisfied: statsmodels>=0.11.1 in c:\\anaconda\\lib\\site-packages (from feature-engine) (0.12.2)\n",
      "Requirement already satisfied: pandas>=1.0.3 in c:\\anaconda\\lib\\site-packages (from feature-engine) (1.2.4)\n",
      "Requirement already satisfied: scikit-learn>=0.22.2 in c:\\anaconda\\lib\\site-packages (from feature-engine) (0.24.1)\n",
      "Requirement already satisfied: scipy>=1.4.1 in c:\\anaconda\\lib\\site-packages (from feature-engine) (1.6.2)\n",
      "Requirement already satisfied: pytz>=2017.3 in c:\\anaconda\\lib\\site-packages (from pandas>=1.0.3->feature-engine) (2021.1)\n",
      "Requirement already satisfied: python-dateutil>=2.7.3 in c:\\anaconda\\lib\\site-packages (from pandas>=1.0.3->feature-engine) (2.8.1)\n",
      "Requirement already satisfied: six>=1.5 in c:\\anaconda\\lib\\site-packages (from python-dateutil>=2.7.3->pandas>=1.0.3->feature-engine) (1.15.0)\n",
      "Requirement already satisfied: threadpoolctl>=2.0.0 in c:\\anaconda\\lib\\site-packages (from scikit-learn>=0.22.2->feature-engine) (2.1.0)\n",
      "Requirement already satisfied: joblib>=0.11 in c:\\anaconda\\lib\\site-packages (from scikit-learn>=0.22.2->feature-engine) (1.0.1)\n",
      "Requirement already satisfied: patsy>=0.5 in c:\\anaconda\\lib\\site-packages (from statsmodels>=0.11.1->feature-engine) (0.5.1)\n",
      "Installing collected packages: feature-engine\n",
      "Successfully installed feature-engine-1.1.2\n"
     ]
    }
   ],
   "source": [
    "!pip install feature-engine"
   ]
  },
  {
   "cell_type": "code",
   "execution_count": 5,
   "id": "9659b4bd",
   "metadata": {},
   "outputs": [
    {
     "name": "stdout",
     "output_type": "stream",
     "text": [
      "Collecting imbalanced-learn\n",
      "  Downloading imbalanced_learn-0.8.1-py3-none-any.whl (189 kB)\n",
      "Requirement already satisfied: scikit-learn>=0.24 in c:\\anaconda\\lib\\site-packages (from imbalanced-learn) (0.24.1)\n",
      "Requirement already satisfied: joblib>=0.11 in c:\\anaconda\\lib\\site-packages (from imbalanced-learn) (1.0.1)\n",
      "Requirement already satisfied: numpy>=1.13.3 in c:\\anaconda\\lib\\site-packages (from imbalanced-learn) (1.20.1)\n",
      "Requirement already satisfied: scipy>=0.19.1 in c:\\anaconda\\lib\\site-packages (from imbalanced-learn) (1.6.2)\n",
      "Requirement already satisfied: threadpoolctl>=2.0.0 in c:\\anaconda\\lib\\site-packages (from scikit-learn>=0.24->imbalanced-learn) (2.1.0)\n",
      "Installing collected packages: imbalanced-learn\n",
      "Successfully installed imbalanced-learn-0.8.1\n"
     ]
    }
   ],
   "source": [
    "!pip install imbalanced-learn"
   ]
  },
  {
   "cell_type": "code",
   "execution_count": 6,
   "id": "83d8a63e",
   "metadata": {},
   "outputs": [],
   "source": [
    "import numpy as np\n",
    "import matplotlib.pyplot as plt\n",
    "import pandas as pd\n",
    "from scipy import stats\n",
    "from sklearn.ensemble import GradientBoostingClassifier\n",
    "from sklearn.feature_selection import chi2\n",
    "from sklearn.metrics import roc_auc_score\n",
    "from sklearn.model_selection import (\n",
    "    RandomizedSearchCV,\n",
    "    train_test_split,\n",
    ")\n",
    "from sklearn.pipeline import Pipeline\n",
    "from sklearn.preprocessing import (\n",
    "    MinMaxScaler,\n",
    "    Binarizer,\n",
    ")\n",
    "from feature_engine.selection import (\n",
    "    DropDuplicateFeatures,\n",
    "    DropConstantFeatures,\n",
    ")\n",
    "from feature_engine.wrappers import SklearnTransformerWrapper\n",
    "from imblearn.over_sampling import SMOTENC\n",
    "from imblearn.under_sampling import (\n",
    "    InstanceHardnessThreshold,\n",
    ")\n",
    "from imblearn.ensemble import (\n",
    "    RUSBoostClassifier,\n",
    "    EasyEnsembleClassifier,\n",
    ")\n",
    "from imblearn.pipeline import Pipeline as imb_Pipeline"
   ]
  },
  {
   "cell_type": "code",
   "execution_count": 8,
   "id": "ee9636bb",
   "metadata": {},
   "outputs": [
    {
     "data": {
      "text/html": [
       "<div>\n",
       "<style scoped>\n",
       "    .dataframe tbody tr th:only-of-type {\n",
       "        vertical-align: middle;\n",
       "    }\n",
       "\n",
       "    .dataframe tbody tr th {\n",
       "        vertical-align: top;\n",
       "    }\n",
       "\n",
       "    .dataframe thead th {\n",
       "        text-align: right;\n",
       "    }\n",
       "</style>\n",
       "<table border=\"1\" class=\"dataframe\">\n",
       "  <thead>\n",
       "    <tr style=\"text-align: right;\">\n",
       "      <th></th>\n",
       "      <th>ID</th>\n",
       "      <th>var3</th>\n",
       "      <th>var15</th>\n",
       "      <th>imp_ent_var16_ult1</th>\n",
       "      <th>imp_op_var39_comer_ult1</th>\n",
       "      <th>imp_op_var39_comer_ult3</th>\n",
       "      <th>imp_op_var40_comer_ult1</th>\n",
       "      <th>imp_op_var40_comer_ult3</th>\n",
       "      <th>imp_op_var40_efect_ult1</th>\n",
       "      <th>imp_op_var40_efect_ult3</th>\n",
       "      <th>...</th>\n",
       "      <th>saldo_medio_var33_hace2</th>\n",
       "      <th>saldo_medio_var33_hace3</th>\n",
       "      <th>saldo_medio_var33_ult1</th>\n",
       "      <th>saldo_medio_var33_ult3</th>\n",
       "      <th>saldo_medio_var44_hace2</th>\n",
       "      <th>saldo_medio_var44_hace3</th>\n",
       "      <th>saldo_medio_var44_ult1</th>\n",
       "      <th>saldo_medio_var44_ult3</th>\n",
       "      <th>var38</th>\n",
       "      <th>TARGET</th>\n",
       "    </tr>\n",
       "  </thead>\n",
       "  <tbody>\n",
       "    <tr>\n",
       "      <th>0</th>\n",
       "      <td>1</td>\n",
       "      <td>2</td>\n",
       "      <td>23</td>\n",
       "      <td>0.0</td>\n",
       "      <td>0.0</td>\n",
       "      <td>0.0</td>\n",
       "      <td>0.0</td>\n",
       "      <td>0.0</td>\n",
       "      <td>0.0</td>\n",
       "      <td>0.0</td>\n",
       "      <td>...</td>\n",
       "      <td>0.0</td>\n",
       "      <td>0.0</td>\n",
       "      <td>0.0</td>\n",
       "      <td>0.0</td>\n",
       "      <td>0.0</td>\n",
       "      <td>0.0</td>\n",
       "      <td>0.0</td>\n",
       "      <td>0.0</td>\n",
       "      <td>39205.170000</td>\n",
       "      <td>0</td>\n",
       "    </tr>\n",
       "    <tr>\n",
       "      <th>1</th>\n",
       "      <td>3</td>\n",
       "      <td>2</td>\n",
       "      <td>34</td>\n",
       "      <td>0.0</td>\n",
       "      <td>0.0</td>\n",
       "      <td>0.0</td>\n",
       "      <td>0.0</td>\n",
       "      <td>0.0</td>\n",
       "      <td>0.0</td>\n",
       "      <td>0.0</td>\n",
       "      <td>...</td>\n",
       "      <td>0.0</td>\n",
       "      <td>0.0</td>\n",
       "      <td>0.0</td>\n",
       "      <td>0.0</td>\n",
       "      <td>0.0</td>\n",
       "      <td>0.0</td>\n",
       "      <td>0.0</td>\n",
       "      <td>0.0</td>\n",
       "      <td>49278.030000</td>\n",
       "      <td>0</td>\n",
       "    </tr>\n",
       "    <tr>\n",
       "      <th>2</th>\n",
       "      <td>4</td>\n",
       "      <td>2</td>\n",
       "      <td>23</td>\n",
       "      <td>0.0</td>\n",
       "      <td>0.0</td>\n",
       "      <td>0.0</td>\n",
       "      <td>0.0</td>\n",
       "      <td>0.0</td>\n",
       "      <td>0.0</td>\n",
       "      <td>0.0</td>\n",
       "      <td>...</td>\n",
       "      <td>0.0</td>\n",
       "      <td>0.0</td>\n",
       "      <td>0.0</td>\n",
       "      <td>0.0</td>\n",
       "      <td>0.0</td>\n",
       "      <td>0.0</td>\n",
       "      <td>0.0</td>\n",
       "      <td>0.0</td>\n",
       "      <td>67333.770000</td>\n",
       "      <td>0</td>\n",
       "    </tr>\n",
       "    <tr>\n",
       "      <th>3</th>\n",
       "      <td>8</td>\n",
       "      <td>2</td>\n",
       "      <td>37</td>\n",
       "      <td>0.0</td>\n",
       "      <td>195.0</td>\n",
       "      <td>195.0</td>\n",
       "      <td>0.0</td>\n",
       "      <td>0.0</td>\n",
       "      <td>0.0</td>\n",
       "      <td>0.0</td>\n",
       "      <td>...</td>\n",
       "      <td>0.0</td>\n",
       "      <td>0.0</td>\n",
       "      <td>0.0</td>\n",
       "      <td>0.0</td>\n",
       "      <td>0.0</td>\n",
       "      <td>0.0</td>\n",
       "      <td>0.0</td>\n",
       "      <td>0.0</td>\n",
       "      <td>64007.970000</td>\n",
       "      <td>0</td>\n",
       "    </tr>\n",
       "    <tr>\n",
       "      <th>4</th>\n",
       "      <td>10</td>\n",
       "      <td>2</td>\n",
       "      <td>39</td>\n",
       "      <td>0.0</td>\n",
       "      <td>0.0</td>\n",
       "      <td>0.0</td>\n",
       "      <td>0.0</td>\n",
       "      <td>0.0</td>\n",
       "      <td>0.0</td>\n",
       "      <td>0.0</td>\n",
       "      <td>...</td>\n",
       "      <td>0.0</td>\n",
       "      <td>0.0</td>\n",
       "      <td>0.0</td>\n",
       "      <td>0.0</td>\n",
       "      <td>0.0</td>\n",
       "      <td>0.0</td>\n",
       "      <td>0.0</td>\n",
       "      <td>0.0</td>\n",
       "      <td>117310.979016</td>\n",
       "      <td>0</td>\n",
       "    </tr>\n",
       "  </tbody>\n",
       "</table>\n",
       "<p>5 rows × 371 columns</p>\n",
       "</div>"
      ],
      "text/plain": [
       "   ID  var3  var15  imp_ent_var16_ult1  imp_op_var39_comer_ult1  \\\n",
       "0   1     2     23                 0.0                      0.0   \n",
       "1   3     2     34                 0.0                      0.0   \n",
       "2   4     2     23                 0.0                      0.0   \n",
       "3   8     2     37                 0.0                    195.0   \n",
       "4  10     2     39                 0.0                      0.0   \n",
       "\n",
       "   imp_op_var39_comer_ult3  imp_op_var40_comer_ult1  imp_op_var40_comer_ult3  \\\n",
       "0                      0.0                      0.0                      0.0   \n",
       "1                      0.0                      0.0                      0.0   \n",
       "2                      0.0                      0.0                      0.0   \n",
       "3                    195.0                      0.0                      0.0   \n",
       "4                      0.0                      0.0                      0.0   \n",
       "\n",
       "   imp_op_var40_efect_ult1  imp_op_var40_efect_ult3  ...  \\\n",
       "0                      0.0                      0.0  ...   \n",
       "1                      0.0                      0.0  ...   \n",
       "2                      0.0                      0.0  ...   \n",
       "3                      0.0                      0.0  ...   \n",
       "4                      0.0                      0.0  ...   \n",
       "\n",
       "   saldo_medio_var33_hace2  saldo_medio_var33_hace3  saldo_medio_var33_ult1  \\\n",
       "0                      0.0                      0.0                     0.0   \n",
       "1                      0.0                      0.0                     0.0   \n",
       "2                      0.0                      0.0                     0.0   \n",
       "3                      0.0                      0.0                     0.0   \n",
       "4                      0.0                      0.0                     0.0   \n",
       "\n",
       "   saldo_medio_var33_ult3  saldo_medio_var44_hace2  saldo_medio_var44_hace3  \\\n",
       "0                     0.0                      0.0                      0.0   \n",
       "1                     0.0                      0.0                      0.0   \n",
       "2                     0.0                      0.0                      0.0   \n",
       "3                     0.0                      0.0                      0.0   \n",
       "4                     0.0                      0.0                      0.0   \n",
       "\n",
       "   saldo_medio_var44_ult1  saldo_medio_var44_ult3          var38  TARGET  \n",
       "0                     0.0                     0.0   39205.170000       0  \n",
       "1                     0.0                     0.0   49278.030000       0  \n",
       "2                     0.0                     0.0   67333.770000       0  \n",
       "3                     0.0                     0.0   64007.970000       0  \n",
       "4                     0.0                     0.0  117310.979016       0  \n",
       "\n",
       "[5 rows x 371 columns]"
      ]
     },
     "execution_count": 8,
     "metadata": {},
     "output_type": "execute_result"
    }
   ],
   "source": [
    "data = pd.read_csv('./data/input/train.csv')\n",
    "data.head()"
   ]
  },
  {
   "cell_type": "code",
   "execution_count": 14,
   "id": "5ee6e1de",
   "metadata": {},
   "outputs": [
    {
     "data": {
      "text/plain": [
       "<AxesSubplot:ylabel='TARGET'>"
      ]
     },
     "execution_count": 14,
     "metadata": {},
     "output_type": "execute_result"
    },
    {
     "data": {
      "image/png": "[encoded data removed]",
      "text/plain": [
       "<Figure size 432x288 with 1 Axes>"
      ]
     },
     "metadata": {},
     "output_type": "display_data"
    }
   ],
   "source": [
    "data['TARGET'].value_counts().plot.pie(autopct='%1.2f%%',shadow=True)"
   ]
  },
  {
   "cell_type": "code",
   "execution_count": 19,
   "id": "8d2d9838",
   "metadata": {},
   "outputs": [
    {
     "data": {
      "text/plain": [
       "((15204, 369), (60816, 369))"
      ]
     },
     "execution_count": 19,
     "metadata": {},
     "output_type": "execute_result"
    }
   ],
   "source": [
    "X_train, X_test, y_train, y_test = train_test_split(\n",
    "    data.drop(labels=['ID','TARGET'], axis=1),\n",
    "    data['TARGET'],\n",
    "    test_size=0.8,\n",
    "    random_state=0)\n",
    "\n",
    "X_train.shape, X_test.shape"
   ]
  },
  {
   "cell_type": "code",
   "execution_count": 22,
   "id": "874c1a6b",
   "metadata": {},
   "outputs": [
    {
     "data": {
      "text/plain": [
       "(0    0.960011\n",
       " 1    0.039989\n",
       " Name: TARGET, dtype: float64,\n",
       " 0    14596\n",
       " 1      608\n",
       " Name: TARGET, dtype: int64)"
      ]
     },
     "execution_count": 22,
     "metadata": {},
     "output_type": "execute_result"
    }
   ],
   "source": [
    "y_train.value_counts(normalize=True), y_train.value_counts()"
   ]
  },
  {
   "cell_type": "code",
   "execution_count": 23,
   "id": "f6e23b09",
   "metadata": {},
   "outputs": [
    {
     "data": {
      "text/plain": [
       "(0    0.960537\n",
       " 1    0.039463\n",
       " Name: TARGET, dtype: float64,\n",
       " 0    58416\n",
       " 1     2400\n",
       " Name: TARGET, dtype: int64)"
      ]
     },
     "execution_count": 23,
     "metadata": {},
     "output_type": "execute_result"
    }
   ],
   "source": [
    "y_test.value_counts(normalize=True), y_test.value_counts()"
   ]
  },
  {
   "cell_type": "code",
   "execution_count": 20,
   "id": "61da43f7",
   "metadata": {},
   "outputs": [
    {
     "data": {
      "text/plain": [
       "Pipeline(steps=[('constant', DropConstantFeatures()),\n",
       "                ('duplicated', DropDuplicateFeatures())])"
      ]
     },
     "execution_count": 20,
     "metadata": {},
     "output_type": "execute_result"
    }
   ],
   "source": [
    "pipe = Pipeline([\n",
    "    ('constant', DropConstantFeatures(tol=1)), # drops constant features\n",
    "    ('duplicated', DropDuplicateFeatures()), # drops duplicates\n",
    "])\n",
    "\n",
    "# find features to remove\n",
    "pipe.fit(X_train, y_train)"
   ]
  },
  {
   "cell_type": "code",
   "execution_count": 21,
   "id": "990f3619",
   "metadata": {},
   "outputs": [
    {
     "data": {
      "text/plain": [
       "57"
      ]
     },
     "execution_count": 21,
     "metadata": {},
     "output_type": "execute_result"
    }
   ],
   "source": [
    "len(pipe.named_steps['constant'].features_to_drop_)"
   ]
  },
  {
   "cell_type": "code",
   "execution_count": 24,
   "id": "4ea7c182",
   "metadata": {},
   "outputs": [
    {
     "data": {
      "text/plain": [
       "26"
      ]
     },
     "execution_count": 24,
     "metadata": {},
     "output_type": "execute_result"
    }
   ],
   "source": [
    "len(pipe.named_steps['duplicated'].features_to_drop_)"
   ]
  },
  {
   "cell_type": "code",
   "execution_count": 25,
   "id": "4dd86935",
   "metadata": {},
   "outputs": [
    {
     "name": "stdout",
     "output_type": "stream",
     "text": [
      "Number of original variables:  369\n",
      "Number of variables after selection:  286\n"
     ]
    }
   ],
   "source": [
    "print('Number of original variables: ', X_train.shape[1])\n",
    "\n",
    "# see how with the pipeline we can apply all transformers in sequence\n",
    "# with one line of code, for each data set\n",
    "X_train = pipe.transform(X_train)\n",
    "X_test = pipe.transform(X_test)\n",
    "\n",
    "print('Number of variables after selection: ', X_train.shape[1])"
   ]
  },
  {
   "cell_type": "code",
   "execution_count": 26,
   "id": "419b61e3",
   "metadata": {},
   "outputs": [
    {
     "data": {
      "text/plain": [
       "DropConstantFeatures(tol=0.98)"
      ]
     },
     "execution_count": 26,
     "metadata": {},
     "output_type": "execute_result"
    }
   ],
   "source": [
    "sel_ = DropConstantFeatures(tol=0.98)\n",
    "\n",
    "sel_.fit(X_train)"
   ]
  },
  {
   "cell_type": "code",
   "execution_count": 27,
   "id": "6d079a69",
   "metadata": {},
   "outputs": [
    {
     "data": {
      "text/plain": [
       "156"
      ]
     },
     "execution_count": 27,
     "metadata": {},
     "output_type": "execute_result"
    }
   ],
   "source": [
    "len(sel_.features_to_drop_)"
   ]
  },
  {
   "cell_type": "code",
   "execution_count": 29,
   "id": "980b1e3f",
   "metadata": {},
   "outputs": [],
   "source": [
    "# let's replace values greater than 0 by 1\n",
    "# for this we need the Binarizer from sklearn with threshold 0\n",
    "\n",
    "# capture quasi cosntant features in a list\n",
    "quasi_ = list(sel_.features_to_drop_)\n",
    "\n",
    "# in order to modify just the quasi-constant features\n",
    "# we use the sklearn wrapper from feature engine,\n",
    "# which by the way also returns a dataframe\n",
    "\n",
    "binarizer_ = SklearnTransformerWrapper(\n",
    "    transformer = Binarizer(threshold=0),\n",
    "    variables = quasi_,\n",
    ")\n",
    "\n",
    "binarizer_.fit(X_train)\n",
    "\n",
    "X_train = binarizer_.transform(X_train)\n",
    "X_test = binarizer_.transform(X_test)"
   ]
  },
  {
   "cell_type": "code",
   "execution_count": 30,
   "id": "ae113370",
   "metadata": {},
   "outputs": [
    {
     "data": {
      "text/plain": [
       "0.0    0.996383\n",
       "1.0    0.003617\n",
       "Name: imp_op_var40_comer_ult1, dtype: float64"
      ]
     },
     "execution_count": 30,
     "metadata": {},
     "output_type": "execute_result"
    }
   ],
   "source": [
    "X_train[quasi_[0]].value_counts(normalize=True)"
   ]
  },
  {
   "cell_type": "code",
   "execution_count": 31,
   "id": "ffbd0928",
   "metadata": {},
   "outputs": [],
   "source": [
    "chi_ = chi2(X_train[quasi_], y_train)"
   ]
  },
  {
   "cell_type": "code",
   "execution_count": 32,
   "id": "957ffdf0",
   "metadata": {},
   "outputs": [
    {
     "data": {
      "text/html": [
       "<div>\n",
       "<style scoped>\n",
       "    .dataframe tbody tr th:only-of-type {\n",
       "        vertical-align: middle;\n",
       "    }\n",
       "\n",
       "    .dataframe tbody tr th {\n",
       "        vertical-align: top;\n",
       "    }\n",
       "\n",
       "    .dataframe thead th {\n",
       "        text-align: right;\n",
       "    }\n",
       "</style>\n",
       "<table border=\"1\" class=\"dataframe\">\n",
       "  <thead>\n",
       "    <tr style=\"text-align: right;\">\n",
       "      <th></th>\n",
       "      <th>feature</th>\n",
       "      <th>p_value</th>\n",
       "    </tr>\n",
       "  </thead>\n",
       "  <tbody>\n",
       "    <tr>\n",
       "      <th>0</th>\n",
       "      <td>imp_op_var40_comer_ult1</td>\n",
       "      <td>2.152941e-01</td>\n",
       "    </tr>\n",
       "    <tr>\n",
       "      <th>1</th>\n",
       "      <td>imp_op_var40_comer_ult3</td>\n",
       "      <td>4.646291e-02</td>\n",
       "    </tr>\n",
       "    <tr>\n",
       "      <th>2</th>\n",
       "      <td>imp_op_var40_efect_ult1</td>\n",
       "      <td>2.262326e-12</td>\n",
       "    </tr>\n",
       "    <tr>\n",
       "      <th>3</th>\n",
       "      <td>imp_op_var40_efect_ult3</td>\n",
       "      <td>2.262326e-12</td>\n",
       "    </tr>\n",
       "    <tr>\n",
       "      <th>4</th>\n",
       "      <td>imp_op_var40_ult1</td>\n",
       "      <td>5.991313e-02</td>\n",
       "    </tr>\n",
       "  </tbody>\n",
       "</table>\n",
       "</div>"
      ],
      "text/plain": [
       "                   feature       p_value\n",
       "0  imp_op_var40_comer_ult1  2.152941e-01\n",
       "1  imp_op_var40_comer_ult3  4.646291e-02\n",
       "2  imp_op_var40_efect_ult1  2.262326e-12\n",
       "3  imp_op_var40_efect_ult3  2.262326e-12\n",
       "4        imp_op_var40_ult1  5.991313e-02"
      ]
     },
     "execution_count": 32,
     "metadata": {},
     "output_type": "execute_result"
    }
   ],
   "source": [
    "# join feature names and p-values in a dataframe\n",
    "\n",
    "feat = pd.concat([\n",
    "    pd.Series(quasi_),\n",
    "    pd.Series(chi_[1]),\n",
    "], axis=1,\n",
    ")\n",
    "\n",
    "feat.columns = ['feature', 'p_value']\n",
    "\n",
    "feat.head()"
   ]
  },
  {
   "cell_type": "code",
   "execution_count": 33,
   "id": "2fb38fe3",
   "metadata": {},
   "outputs": [
    {
     "data": {
      "text/plain": [
       "Text(0.5, 0, 'p value')"
      ]
     },
     "execution_count": 33,
     "metadata": {},
     "output_type": "execute_result"
    },
    {
     "data": {
      "image/png": "[encoded data removed]",
      "text/plain": [
       "<Figure size 432x288 with 1 Axes>"
      ]
     },
     "metadata": {
      "needs_background": "light"
     },
     "output_type": "display_data"
    }
   ],
   "source": [
    "feat['p_value'].hist(bins=30)\n",
    "plt.ylabel('Number of features')\n",
    "plt.xlabel('p value')"
   ]
  },
  {
   "cell_type": "code",
   "execution_count": 34,
   "id": "ea729477",
   "metadata": {},
   "outputs": [
    {
     "name": "stdout",
     "output_type": "stream",
     "text": [
      "Number of total quasi-constant features:  156\n",
      "Number of non predictive quasi-constant features:  55\n"
     ]
    }
   ],
   "source": [
    "print('Number of total quasi-constant features: ', len(feat))\n",
    "\n",
    "feat = feat[feat['p_value']<0.4]\n",
    "\n",
    "print('Number of non predictive quasi-constant features: ', len(feat))"
   ]
  },
  {
   "cell_type": "code",
   "execution_count": 35,
   "id": "93656d45",
   "metadata": {},
   "outputs": [
    {
     "data": {
      "text/plain": [
       "(15204, 231)"
      ]
     },
     "execution_count": 35,
     "metadata": {},
     "output_type": "execute_result"
    }
   ],
   "source": [
    "X_train.drop(labels=feat['feature'], axis=1, inplace=True)\n",
    "X_test.drop(labels=feat['feature'], axis=1, inplace=True)\n",
    "\n",
    "X_train.shape"
   ]
  },
  {
   "cell_type": "code",
   "execution_count": 36,
   "id": "7440bce2",
   "metadata": {},
   "outputs": [
    {
     "name": "stdout",
     "output_type": "stream",
     "text": [
      "132 variables with less than or equal to 2 values\n",
      "161 variables with less than or equal to 10 values\n",
      "170 variables with less than or equal to 20 values\n"
     ]
    }
   ],
   "source": [
    "# Let's find out how many variables we have with 2, or less than 10 or 20 distinct values\n",
    "\n",
    "for max_unique in [2, 10, 20]:\n",
    "    vars_ = [x for x in X_train.columns if X_train[x].nunique()<= max_unique]\n",
    "    vars_ = len(vars_)\n",
    "    print(f'{vars_} variables with less than or equal to {max_unique} values')"
   ]
  },
  {
   "cell_type": "code",
   "execution_count": 37,
   "id": "6f299fa6",
   "metadata": {},
   "outputs": [
    {
     "data": {
      "text/plain": [
       "RandomizedSearchCV(cv=2, estimator=GradientBoostingClassifier(random_state=0),\n",
       "                   n_iter=5,\n",
       "                   param_distributions={'loss': ('deviance', 'exponential'),\n",
       "                                        'max_depth': <scipy.stats._distn_infrastructure.rv_frozen object at 0x000002A1A6C45370>,\n",
       "                                        'min_samples_split': <scipy.stats._distn_infrastructure.rv_frozen object at 0x000002A1A6C45040>,\n",
       "                                        'n_estimators': <scipy.stats._distn_infrastructure.rv_frozen object at 0x000002A18DCB0070>},\n",
       "                   random_state=5, scoring='roc_auc')"
      ]
     },
     "execution_count": 37,
     "metadata": {},
     "output_type": "execute_result"
    }
   ],
   "source": [
    "# set up the gradient boosting classifier with default parameters\n",
    "gbm = GradientBoostingClassifier(random_state=0)\n",
    "\n",
    "# determine the hyperparameter space\n",
    "# we use stats to sample from distributions\n",
    "\n",
    "param_grid = dict(\n",
    "    n_estimators=stats.randint(10, 200),\n",
    "    min_samples_split=stats.uniform(0, 1),\n",
    "    max_depth=stats.randint(1, 5),\n",
    "    loss=('deviance', 'exponential'),\n",
    "    )\n",
    "\n",
    "# set up the search\n",
    "search = RandomizedSearchCV(\n",
    "    gbm, # the model\n",
    "    param_grid, # hyperparam space\n",
    "    scoring='roc_auc', # metric to optimize\n",
    "    cv=2, # I do 2 to speed things up, 5 would be better as the dataset is quite small\n",
    "    n_iter = 5, # I do 5 to speed things up, but for randomized search 60 has been shown to find the optimal hyperparameters\n",
    "    random_state=5, # reproducibility\n",
    "    refit=True, # this fits the model with the best hyperparams to the entire training set after the hyperparam search\n",
    ")\n",
    "\n",
    "# find best hyperparameters\n",
    "search.fit(X_train, y_train)"
   ]
  },
  {
   "cell_type": "code",
   "execution_count": 38,
   "id": "9bccb2ef",
   "metadata": {},
   "outputs": [
    {
     "data": {
      "text/plain": [
       "{'loss': 'deviance',\n",
       " 'max_depth': 2,\n",
       " 'min_samples_split': 0.48841118879482914,\n",
       " 'n_estimators': 165}"
      ]
     },
     "execution_count": 38,
     "metadata": {},
     "output_type": "execute_result"
    }
   ],
   "source": [
    "# the best hyperparameters are stored in an attribute:\n",
    "\n",
    "search.best_params_"
   ]
  },
  {
   "cell_type": "code",
   "execution_count": 39,
   "id": "41754b85",
   "metadata": {},
   "outputs": [
    {
     "name": "stdout",
     "output_type": "stream",
     "text": [
      "Train roc_auc:  0.8694858608522883\n",
      "Test roc_auc:  0.8263806327318999\n"
     ]
    }
   ],
   "source": [
    "# Now let's get the benchmark performance on train and test\n",
    "\n",
    "X_train_preds = search.predict_proba(X_train)[:,1]\n",
    "X_test_preds = search.predict_proba(X_test)[:,1]\n",
    "\n",
    "print('Train roc_auc: ', roc_auc_score(y_train, X_train_preds))\n",
    "print('Test roc_auc: ', roc_auc_score(y_test, X_test_preds))"
   ]
  },
  {
   "cell_type": "code",
   "execution_count": 40,
   "id": "f68bcd36",
   "metadata": {},
   "outputs": [
    {
     "data": {
      "text/plain": [
       "((15204, 231), (1233, 231))"
      ]
     },
     "execution_count": 40,
     "metadata": {},
     "output_type": "execute_result"
    }
   ],
   "source": [
    "# set up instance hardness threshold\n",
    "# the instance hardness is determined based on a gradient boosting machine\n",
    "# trained on the entire dataset\n",
    "\n",
    "iht = InstanceHardnessThreshold(\n",
    "    estimator=gbm, # we pass the model we set up earlier\n",
    "    sampling_strategy='auto',  # undersamples only the majority class\n",
    "    random_state=1,\n",
    "    cv=2,  # cross validation fold, 2 to speed things up.\n",
    ")\n",
    "\n",
    "# resample\n",
    "X_resampled, y_resampled = iht.fit_resample(X_train, y_train)\n",
    "\n",
    "# shape of original data and data after resampling\n",
    "X_train.shape, X_resampled.shape"
   ]
  },
  {
   "cell_type": "code",
   "execution_count": 41,
   "id": "76bea9e3",
   "metadata": {},
   "outputs": [
    {
     "data": {
      "text/plain": [
       "0    0.506894\n",
       "1    0.493106\n",
       "Name: TARGET, dtype: float64"
      ]
     },
     "execution_count": 41,
     "metadata": {},
     "output_type": "execute_result"
    }
   ],
   "source": [
    "# check the resampled target\n",
    "y_resampled.value_counts(normalize=True)"
   ]
  },
  {
   "cell_type": "code",
   "execution_count": 42,
   "id": "96e7eaf0",
   "metadata": {},
   "outputs": [
    {
     "data": {
      "text/plain": [
       "RandomizedSearchCV(cv=2, estimator=GradientBoostingClassifier(random_state=0),\n",
       "                   n_iter=5,\n",
       "                   param_distributions={'loss': ('deviance', 'exponential'),\n",
       "                                        'max_depth': <scipy.stats._distn_infrastructure.rv_frozen object at 0x000002A1A6C45370>,\n",
       "                                        'min_samples_split': <scipy.stats._distn_infrastructure.rv_frozen object at 0x000002A1A6C45040>,\n",
       "                                        'n_estimators': <scipy.stats._distn_infrastructure.rv_frozen object at 0x000002A18DCB0070>},\n",
       "                   random_state=5, scoring='roc_auc')"
      ]
     },
     "execution_count": 42,
     "metadata": {},
     "output_type": "execute_result"
    }
   ],
   "source": [
    "# train model while finding best hyperparameters\n",
    "\n",
    "search.fit(X_resampled, y_resampled)"
   ]
  },
  {
   "cell_type": "code",
   "execution_count": 43,
   "id": "51149378",
   "metadata": {},
   "outputs": [
    {
     "data": {
      "text/plain": [
       "{'loss': 'deviance',\n",
       " 'max_depth': 3,\n",
       " 'min_samples_split': 0.48663799685836207,\n",
       " 'n_estimators': 153}"
      ]
     },
     "execution_count": 43,
     "metadata": {},
     "output_type": "execute_result"
    }
   ],
   "source": [
    "# the best hyperparameters are stored in an attribute:\n",
    "\n",
    "search.best_params_"
   ]
  },
  {
   "cell_type": "code",
   "execution_count": 44,
   "id": "3c2ca032",
   "metadata": {},
   "outputs": [
    {
     "name": "stdout",
     "output_type": "stream",
     "text": [
      "Train roc_auc:  0.9999999999999999\n",
      "Test roc_auc:  0.7915799110403543\n"
     ]
    }
   ],
   "source": [
    "# Now let's get the performance on train and test\n",
    "\n",
    "X_train_preds = search.predict_proba(X_resampled)[:,1]\n",
    "X_test_preds = search.predict_proba(X_test)[:,1]\n",
    "\n",
    "print('Train roc_auc: ', roc_auc_score(y_resampled, X_train_preds))\n",
    "print('Test roc_auc: ', roc_auc_score(y_test, X_test_preds))"
   ]
  },
  {
   "cell_type": "code",
   "execution_count": 45,
   "id": "ffd74d19",
   "metadata": {},
   "outputs": [
    {
     "data": {
      "text/plain": [
       "[0, 1, 2, 3, 4, 5]"
      ]
     },
     "execution_count": 45,
     "metadata": {},
     "output_type": "execute_result"
    }
   ],
   "source": [
    "# we need to capture the index of the discrete variables\n",
    "\n",
    "# make list of discrete variables\n",
    "cat_vars = [var for var in X_train.columns if X_train[var].nunique() <= 10]\n",
    "\n",
    "# capture the index in the dataframe columns\n",
    "cat_vars_index = [cat_vars.index(x) for x in cat_vars]\n",
    "\n",
    "cat_vars_index[0:6]"
   ]
  },
  {
   "cell_type": "code",
   "execution_count": 46,
   "id": "ba633448",
   "metadata": {},
   "outputs": [
    {
     "data": {
      "text/plain": [
       "((15204, 231), (29192, 231))"
      ]
     },
     "execution_count": 46,
     "metadata": {},
     "output_type": "execute_result"
    }
   ],
   "source": [
    "smnc = SMOTENC(\n",
    "    sampling_strategy='auto', # samples only the minority class\n",
    "    random_state=0,  # for reproducibility\n",
    "    k_neighbors=3,\n",
    "    categorical_features=cat_vars_index # indeces of the columns of categorical variables\n",
    ")  \n",
    "\n",
    "# because SMOTE uses KNN, and KNN is sensible to variable magnitude, we re-scale the data\n",
    "X_resampled, y_resampled = smnc.fit_resample(MinMaxScaler().fit_transform(X_train), y_train)\n",
    "\n",
    "X_train.shape, X_resampled.shape"
   ]
  },
  {
   "cell_type": "code",
   "execution_count": 48,
   "id": "8c4bef7f",
   "metadata": {},
   "outputs": [
    {
     "data": {
      "text/plain": [
       "0    0.5\n",
       "1    0.5\n",
       "Name: TARGET, dtype: float64"
      ]
     },
     "execution_count": 48,
     "metadata": {},
     "output_type": "execute_result"
    }
   ],
   "source": [
    "y_resampled.value_counts(normalize=True)"
   ]
  },
  {
   "cell_type": "code",
   "execution_count": 49,
   "id": "8e557b34",
   "metadata": {},
   "outputs": [
    {
     "data": {
      "text/plain": [
       "RandomizedSearchCV(cv=2, estimator=GradientBoostingClassifier(random_state=0),\n",
       "                   n_iter=5,\n",
       "                   param_distributions={'loss': ('deviance', 'exponential'),\n",
       "                                        'max_depth': <scipy.stats._distn_infrastructure.rv_frozen object at 0x000002A1A6C45370>,\n",
       "                                        'min_samples_split': <scipy.stats._distn_infrastructure.rv_frozen object at 0x000002A1A6C45040>,\n",
       "                                        'n_estimators': <scipy.stats._distn_infrastructure.rv_frozen object at 0x000002A18DCB0070>},\n",
       "                   random_state=5, scoring='roc_auc')"
      ]
     },
     "execution_count": 49,
     "metadata": {},
     "output_type": "execute_result"
    }
   ],
   "source": [
    "# train the model while finding best hyperparameters\n",
    "\n",
    "search.fit(X_resampled, y_resampled)"
   ]
  },
  {
   "cell_type": "code",
   "execution_count": 50,
   "id": "b789af3a",
   "metadata": {},
   "outputs": [
    {
     "data": {
      "text/plain": [
       "{'loss': 'deviance',\n",
       " 'max_depth': 2,\n",
       " 'min_samples_split': 0.1583098677126512,\n",
       " 'n_estimators': 185}"
      ]
     },
     "execution_count": 50,
     "metadata": {},
     "output_type": "execute_result"
    }
   ],
   "source": [
    "# the best hyperparameters are stored in an attribute:\n",
    "\n",
    "search.best_params_"
   ]
  },
  {
   "cell_type": "code",
   "execution_count": 51,
   "id": "b0bb9eae",
   "metadata": {},
   "outputs": [
    {
     "name": "stdout",
     "output_type": "stream",
     "text": [
      "Train roc_auc:  0.9300278376383503\n",
      "Test roc_auc:  0.7021328381778965\n"
     ]
    }
   ],
   "source": [
    "# Now let's get the performance on train and test\n",
    "\n",
    "X_train_preds = search.predict_proba(X_resampled)[:,1]\n",
    "X_test_preds = search.predict_proba(X_test)[:,1]\n",
    "\n",
    "print('Train roc_auc: ', roc_auc_score(y_resampled, X_train_preds))\n",
    "print('Test roc_auc: ', roc_auc_score(y_test, X_test_preds))"
   ]
  },
  {
   "cell_type": "code",
   "execution_count": 52,
   "id": "8eef1b5a",
   "metadata": {},
   "outputs": [
    {
     "data": {
      "text/plain": [
       "RandomizedSearchCV(cv=2,\n",
       "                   estimator=RUSBoostClassifier(n_estimators=20,\n",
       "                                                random_state=2909),\n",
       "                   n_iter=5,\n",
       "                   param_distributions={'learning_rate': <scipy.stats._distn_infrastructure.rv_frozen object at 0x000002A18C9FB970>,\n",
       "                                        'n_estimators': <scipy.stats._distn_infrastructure.rv_frozen object at 0x000002A18C717FD0>},\n",
       "                   random_state=10, scoring='roc_auc')"
      ]
     },
     "execution_count": 52,
     "metadata": {},
     "output_type": "execute_result"
    }
   ],
   "source": [
    "# set up the RUSBoost ensemble model\n",
    "rusboost = RUSBoostClassifier(\n",
    "        base_estimator=None,\n",
    "        n_estimators=20,\n",
    "        learning_rate=1.0,\n",
    "        sampling_strategy='auto',\n",
    "        random_state=2909,\n",
    "    )\n",
    "\n",
    "# set up the hyperparameter space\n",
    "# the default implementation as 2 hyperparameters to optimize\n",
    "\n",
    "param_grid = dict(\n",
    "    n_estimators=stats.randint(10, 200),\n",
    "    learning_rate=stats.uniform(0.0001, 1),\n",
    "    )\n",
    "\n",
    "# set up the search\n",
    "search = RandomizedSearchCV(\n",
    "    rusboost, # the model\n",
    "    param_grid, # hyperparam space\n",
    "    scoring='roc_auc', # metric to optimize\n",
    "    cv=2, # I do 2 to speed things up, 5 would be better as the dataset is quite small\n",
    "    n_iter = 5, # I do 10 to speed things up, but for randomized search 60 has been shown to find the optimal hyperparameters\n",
    "    random_state=10, # reproducibility\n",
    "    refit=True, # this fits the model with the best hyperparams to the entire training set after the hyperparam search\n",
    ")\n",
    "\n",
    "# find best hyperparameters\n",
    "# using the original data (without resampling)\n",
    "search.fit(X_train, y_train)"
   ]
  },
  {
   "cell_type": "code",
   "execution_count": 53,
   "id": "4675e86c",
   "metadata": {},
   "outputs": [
    {
     "data": {
      "text/plain": [
       "{'learning_rate': 0.19816286475962397, 'n_estimators': 18}"
      ]
     },
     "execution_count": 53,
     "metadata": {},
     "output_type": "execute_result"
    }
   ],
   "source": [
    "# the best hyperparameters are stored in an attribute:\n",
    "\n",
    "search.best_params_"
   ]
  },
  {
   "cell_type": "code",
   "execution_count": 54,
   "id": "d670558f",
   "metadata": {},
   "outputs": [
    {
     "name": "stdout",
     "output_type": "stream",
     "text": [
      "Train roc_auc:  0.8302714627114854\n",
      "Test roc_auc:  0.8093590333413221\n"
     ]
    }
   ],
   "source": [
    "# Now let's get the performance on train and test\n",
    "\n",
    "X_train_preds = search.predict_proba(X_train)[:,1]\n",
    "X_test_preds = search.predict_proba(X_test)[:,1]\n",
    "\n",
    "print('Train roc_auc: ', roc_auc_score(y_train, X_train_preds))\n",
    "print('Test roc_auc: ', roc_auc_score(y_test, X_test_preds))"
   ]
  },
  {
   "cell_type": "code",
   "execution_count": 55,
   "id": "a58c46eb",
   "metadata": {},
   "outputs": [
    {
     "data": {
      "text/plain": [
       "RandomizedSearchCV(cv=2,\n",
       "                   estimator=EasyEnsembleClassifier(n_estimators=20,\n",
       "                                                    random_state=2909),\n",
       "                   n_iter=5,\n",
       "                   param_distributions={'n_estimators': <scipy.stats._distn_infrastructure.rv_frozen object at 0x000002A18CA34A60>},\n",
       "                   random_state=10, scoring='roc_auc')"
      ]
     },
     "execution_count": 55,
     "metadata": {},
     "output_type": "execute_result"
    }
   ],
   "source": [
    "easy = EasyEnsembleClassifier(\n",
    "        n_estimators=20,\n",
    "        sampling_strategy='auto',\n",
    "        random_state=2909,\n",
    "    )\n",
    "\n",
    "# set up the hyperparameter space\n",
    "# the default implementation as 1 hyperparameters to optimize\n",
    "\n",
    "param_grid = dict(\n",
    "    n_estimators=stats.randint(10, 200),\n",
    "    )\n",
    "\n",
    "# set up the search\n",
    "search = RandomizedSearchCV(\n",
    "    easy, # the model\n",
    "    param_grid, # hyperparam space\n",
    "    scoring='roc_auc', # metric to optimize\n",
    "    cv=2, # I do 2 to speed things up, 5 would be better as the dataset is quite small\n",
    "    n_iter = 5, # I do 10 to speed things up, but for randomized search 60 has been shown to find the optimal hyperparameters\n",
    "    random_state=10, # reproducibility\n",
    "    refit=True, # this fits the model with the best hyperparams to the entire training set after the hyperparam search\n",
    ")\n",
    "\n",
    "# find best hyperparameters\n",
    "# using the original data (without resampling)\n",
    "search.fit(X_train, y_train)"
   ]
  },
  {
   "cell_type": "code",
   "execution_count": null,
   "id": "dc768b6f",
   "metadata": {},
   "outputs": [],
   "source": [
    "# the best hyperparameters are stored in an attribute:\n",
    "\n",
    "search.best_params_"
   ]
  },
  {
   "cell_type": "code",
   "execution_count": null,
   "id": "9fdc3b81",
   "metadata": {},
   "outputs": [],
   "source": [
    "# Now let's get the performance on train and test\n",
    "\n",
    "X_train_preds = search.predict_proba(X_train)[:,1]\n",
    "X_test_preds = search.predict_proba(X_test)[:,1]\n",
    "\n",
    "print('Train roc_auc: ', roc_auc_score(y_train, X_train_preds))\n",
    "print('Test roc_auc: ', roc_auc_score(y_test, X_test_preds))"
   ]
  },
  {
   "cell_type": "code",
   "execution_count": null,
   "id": "a6d22a70",
   "metadata": {},
   "outputs": [],
   "source": [
    "# set up the gradient boosting classifier with default parameters\n",
    "gbm = GradientBoostingClassifier(random_state=0)\n",
    "\n",
    "# determine the hyperparameter space\n",
    "# we use stats to sample from distributions\n",
    "\n",
    "param_grid = dict(\n",
    "    n_estimators=stats.randint(10, 200),\n",
    "    min_samples_split=stats.uniform(0, 1),\n",
    "    max_depth=stats.randint(1, 5),\n",
    "    loss=('deviance', 'exponential'),\n",
    "    )\n",
    "\n",
    "# set up the search\n",
    "search = RandomizedSearchCV(\n",
    "    gbm, # the model\n",
    "    param_grid, # hyperparam space\n",
    "    scoring='roc_auc', # metric to optimize\n",
    "    cv=2, # I do 2 to speed things up, 5 would be better as the dataset is quite small\n",
    "    n_iter = 5, # I do 10 to speed things up, but for randomized search 60 has been shown to find the optimal hyperparameters\n",
    "    random_state=10, # reproducibility\n",
    "    refit=True, # this fits the model with the best hyperparams to the entire training set after the hyperparam search\n",
    ")\n",
    "\n",
    "# we have an imbalance of 95 to 5, so we use those as weights\n",
    "sample_weight = np.where(y_train==1, 95, 5)\n",
    "\n",
    "# find best hyperparameters\n",
    "search.fit(X_train, y_train, sample_weight)"
   ]
  },
  {
   "cell_type": "code",
   "execution_count": null,
   "id": "91897c52",
   "metadata": {},
   "outputs": [],
   "source": [
    "# the best hyperparameters are stored in an attribute:\n",
    "\n",
    "search.best_params_"
   ]
  },
  {
   "cell_type": "code",
   "execution_count": null,
   "id": "88d279c4",
   "metadata": {},
   "outputs": [],
   "source": [
    "# Now let's get the performance on train and test\n",
    "\n",
    "X_train_preds = search.predict_proba(X_train)[:,1]\n",
    "X_test_preds = search.predict_proba(X_test)[:,1]\n",
    "\n",
    "print('Train roc_auc: ', roc_auc_score(y_train, X_train_preds))\n",
    "print('Test roc_auc: ', roc_auc_score(y_test, X_test_preds))"
   ]
  },
  {
   "cell_type": "code",
   "execution_count": null,
   "id": "aa22d85f",
   "metadata": {},
   "outputs": [],
   "source": []
  },
  {
   "cell_type": "code",
   "execution_count": null,
   "id": "a3c1b768",
   "metadata": {},
   "outputs": [],
   "source": []
  }
 ],
 "metadata": {
  "kernelspec": {
   "display_name": "Python 3",
   "language": "python",
   "name": "python3"
  },
  "language_info": {
   "codemirror_mode": {
    "name": "ipython",
    "version": 3
   },
   "file_extension": ".py",
   "mimetype": "text/x-python",
   "name": "python",
   "nbconvert_exporter": "python",
   "pygments_lexer": "ipython3",
   "version": "3.8.8"
  }
 },
 "nbformat": 4,
 "nbformat_minor": 5
}
