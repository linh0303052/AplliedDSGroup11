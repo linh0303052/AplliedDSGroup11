{
 "cells": [
  {
   "cell_type": "markdown",
   "id": "cfacb603",
   "metadata": {},
   "source": [
    "## Mô hình Neural Network 1"
   ]
  },
  {
   "cell_type": "code",
   "execution_count": 2,
   "id": "cf027238",
   "metadata": {},
   "outputs": [],
   "source": [
    "def build_model(input_dim, output_dim):\n",
    "    models = Sequential()\n",
    "\n",
    "    models.add(Dense(120, input_dim=input_dim, kernel_regularizer=l2(0.00001)))\n",
    "    models.add(PReLU())\n",
    "    models.add(BatchNormalization())\n",
    "    models.add(Dropout(0.6))\n",
    "    models.add(Dense(output_dim))\n",
    "    models.add(Activation('softmax'))\n",
    "\n",
    "    opt = tf.keras.optimizers.Adagrad(learning_rate=0.0125)\n",
    "    models.compile(loss='binary_crossentropy', optimizer=opt)\n",
    "    return models"
   ]
  },
  {
   "cell_type": "markdown",
   "id": "c4d650ff",
   "metadata": {},
   "source": []
  },
  {
   "cell_type": "markdown",
   "id": "564ab5c5",
   "metadata": {},
   "source": [
    "`AUC Score: 0.817421`"
   ]
  },
  {
   "cell_type": "markdown",
   "id": "734093d9",
   "metadata": {},
   "source": [
    "## Mô hình Neural Network 2"
   ]
  },
  {
   "cell_type": "code",
   "execution_count": 5,
   "id": "911f4d33",
   "metadata": {},
   "outputs": [],
   "source": [
    "def build_model(input_dim, output_dim):\n",
    "    models = Sequential()\n",
    "\n",
    "    models.add(Dense(100, input_dim=input_dim, kernel_regularizer=l2(0.00001)))\n",
    "    models.add(PReLU())\n",
    "    models.add(BatchNormalization())\n",
    "    models.add(Dropout(0.6))\n",
    "    models.add(Dense(100, kernel_regularizer=l2(0.00001)))\n",
    "    models.add(PReLU())\n",
    "    models.add(BatchNormalization())\n",
    "    models.add(Dropout(0.60))\n",
    "    models.add(Dense(output_dim))\n",
    "    models.add(Activation('softmax'))\n",
    "\n",
    "    opt = tf.keras.optimizers.Adagrad(learning_rate=0.01)\n",
    "    models.compile(loss='binary_crossentropy', optimizer=opt)\n",
    "    return models"
   ]
  },
  {
   "cell_type": "markdown",
   "id": "4c236332",
   "metadata": {},
   "source": [
    "`AUC Score: 0.815941`"
   ]
  },
  {
   "cell_type": "markdown",
   "id": "5a1105e7",
   "metadata": {},
   "source": [
    "## Mô hình Neural Network 3"
   ]
  },
  {
   "cell_type": "code",
   "execution_count": null,
   "id": "4394ebe6",
   "metadata": {},
   "outputs": [],
   "source": [
    "def build_model(input_dim, output_dim):\n",
    "    models = Sequential()\n",
    "\n",
    "    models.add(Dense(100, input_dim=input_dim, kernel_regularizer=l2(0.00001)))\n",
    "    models.add(PReLU())\n",
    "    models.add(BatchNormalization())\n",
    "    models.add(Dropout(0.6))\n",
    "    models.add(Dense(100, kernel_regularizer=l2(0.00001)))\n",
    "    models.add(PReLU())\n",
    "    models.add(BatchNormalization())\n",
    "    models.add(Dropout(0.60))\n",
    "    models.add(Dense(20, kernel_regularizer=l2(0.00001)))\n",
    "    models.add(PReLU())\n",
    "    models.add(BatchNormalization())\n",
    "    models.add(Dropout(0.20))    \n",
    "    models.add(Dense(output_dim))\n",
    "    models.add(Activation('softmax'))\n",
    "\n",
    "    opt = tf.keras.optimizers.Adagrad(learning_rate=0.01)\n",
    "    models.compile(loss='binary_crossentropy', optimizer=opt)\n",
    "    return models"
   ]
  },
  {
   "cell_type": "markdown",
   "id": "3c2b818e",
   "metadata": {},
   "source": []
  },
  {
   "cell_type": "markdown",
   "id": "fbf60861",
   "metadata": {},
   "source": [
    "`AUC Score: 0.811631`"
   ]
  }
 ],
 "metadata": {
  "kernelspec": {
   "display_name": "Python 3",
   "language": "python",
   "name": "python3"
  },
  "language_info": {
   "codemirror_mode": {
    "name": "ipython",
    "version": 3
   },
   "file_extension": ".py",
   "mimetype": "text/x-python",
   "name": "python",
   "nbconvert_exporter": "python",
   "pygments_lexer": "ipython3",
   "version": "3.8.8"
  }
 },
 "nbformat": 4,
 "nbformat_minor": 5
}
