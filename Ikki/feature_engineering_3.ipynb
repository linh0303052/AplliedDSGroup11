{
 "cells": [
  {
   "cell_type": "code",
   "execution_count": 1,
   "metadata": {},
   "outputs": [],
   "source": [
    "import pandas as pd\n",
    "import numpy as np\n",
    "import os\n",
    "from datetime import date\n",
    "from sklearn.manifold import TSNE\n",
    "from sklearn.pipeline import Pipeline\n",
    "from sklearn.preprocessing import Normalizer, PolynomialFeatures, MinMaxScaler"
   ]
  },
  {
   "cell_type": "code",
   "execution_count": 2,
   "metadata": {},
   "outputs": [],
   "source": [
    "ori_train = pd.read_csv('train.csv')\n",
    "ori_test = pd.read_csv('test.csv')\n",
    "sample_submit = pd.read_csv('sample_submission.csv')\n",
    "\n",
    "ori_train['target'] = ori_train['TARGET']\n",
    "ori_train['t_id'] = ori_train[\"ID\"]\n",
    "ori_test['t_id'] = ori_test[\"ID\"]\n",
    "\n",
    "del ori_train['TARGET'], ori_train[\"ID\"], ori_test[\"ID\"]"
   ]
  },
  {
   "cell_type": "code",
   "execution_count": 3,
   "metadata": {},
   "outputs": [],
   "source": [
    "def main_feat_NN():\n",
    "    train = pd.read_csv('ikki_features_train_ver1.csv')\n",
    "    test = pd.read_csv('ikki_features_test_ver1.csv')\n",
    "\n",
    "    train_target = train['target']\n",
    "    del train['target']\n",
    "\n",
    "    #delete id\n",
    "    #del train['t_id'], test['t_id']\n",
    "    ohe_col = ['num_var13_corto','num_var13_corto_0','num_meses_var12_ult3','num_meses_var13_corto_ult3','num_meses_var39_vig_ult3','num_meses_var5_ult3','num_var24_0','num_var12','var36','num_var5','num_var5_0','num_var12_0','num_var13','num_var13_0','num_var42','num_var4','num_var42_0','num_var30','num_var39_0','num_var41_0']\n",
    "\n",
    "    #delete categorical columns\n",
    "    #because OHEncoder is ismplemented in another func.\n",
    "    for i in ohe_col:\n",
    "        del train[i], test[i]\n",
    "\n",
    "    #delete var3 because var3 is OHEncoded in main_feature() \n",
    "    del train['var3']\n",
    "    del test['var3']\n",
    "\n",
    "    #replace min/max in test with min/max in train\n",
    "    for i in train.columns:\n",
    "        min_val = train[i].min()\n",
    "        test.loc[(test[i] < min_val).values,i] = min_val\n",
    "\n",
    "        max_val = train[i].max()\n",
    "        test.loc[(test[i] > max_val).values,i] = max_val\n",
    "\n",
    "\n",
    "    \n",
    "    #log transformation\n",
    "    train_test = pd.concat([train, test])\n",
    "    train_test_min = train_test.min()\n",
    "    train_test = train_test - train_test_min\n",
    "    train = train_test.iloc[:len(train),:]\n",
    "    test = train_test.iloc[len(train):,:]\n",
    "\n",
    "    train = train.applymap(lambda x: np.log(x + 1))\n",
    "    test = test.applymap(lambda x: np.log(x + 1))\n",
    "    assert( all(train.columns == test.columns))\n",
    "    \n",
    "    train['target'] = train_target\n",
    "\n",
    "    train.to_csv('ikki_features_train_NN_ver3.csv',index=None)\n",
    "    test.to_csv('ikki_features_test_NN_ver3.csv',index=None)\n",
    "\n",
    "\n"
   ]
  },
  {
   "cell_type": "code",
   "execution_count": 4,
   "metadata": {},
   "outputs": [],
   "source": [
    "main_feat_NN()"
   ]
  }
 ],
 "metadata": {
  "kernelspec": {
   "display_name": "Python 3",
   "language": "python",
   "name": "python3"
  },
  "language_info": {
   "codemirror_mode": {
    "name": "ipython",
    "version": 3
   },
   "file_extension": ".py",
   "mimetype": "text/x-python",
   "name": "python",
   "nbconvert_exporter": "python",
   "pygments_lexer": "ipython3",
   "version": "3.8.5"
  }
 },
 "nbformat": 4,
 "nbformat_minor": 4
}
