{
 "cells": [
  {
   "cell_type": "code",
   "execution_count": 1,
   "metadata": {},
   "outputs": [],
   "source": [
    "import pandas as pd\n",
    "import numpy as np\n",
    "import os\n",
    "from datetime import date\n",
    "from sklearn.manifold import TSNE\n",
    "from sklearn.pipeline import Pipeline\n",
    "from sklearn.preprocessing import Normalizer, PolynomialFeatures, MinMaxScaler"
   ]
  },
  {
   "cell_type": "code",
   "execution_count": 2,
   "metadata": {},
   "outputs": [],
   "source": [
    "ori_train = pd.read_csv('train.csv')\n",
    "ori_test = pd.read_csv('test.csv')\n",
    "sample_submit = pd.read_csv('sample_submission.csv')\n",
    "\n",
    "ori_train['target'] = ori_train['TARGET']\n",
    "ori_train['t_id'] = ori_train[\"ID\"]\n",
    "ori_test['t_id'] = ori_test[\"ID\"]\n",
    "\n",
    "del ori_train['TARGET'], ori_train[\"ID\"], ori_test[\"ID\"]\n"
   ]
  },
  {
   "cell_type": "code",
   "execution_count": 3,
   "metadata": {},
   "outputs": [],
   "source": [
    "def main_feat(train, test, sample_submit=None):\n",
    "    \n",
    "    train_target = train['target']\n",
    "    del train['target']\n",
    "\n",
    "    #Xóa cột id\n",
    "    del train['t_id'], test['t_id']\n",
    "\n",
    "    # đếm giá trị 0 theo id\n",
    "    def countZero(data):\n",
    "        return np.sum(data == 0)\n",
    "\n",
    "    train['count0'] = train.apply(countZero, axis=1)\n",
    "    test['count0'] = test.apply(countZero, axis=1)\n",
    "\n",
    "    # Thêm cột count cho những cột giá trị nguyên\n",
    "    int_col = (train.dtypes == int)[(train.dtypes == int).values].index\n",
    "    train_test = pd.concat([train,test])\n",
    "    for i in int_col:\n",
    "        tmp_cnt = train_test[i].value_counts()\n",
    "        tmp_cnt = tmp_cnt.to_frame(name=i+'_cnt')\n",
    "        tmp_cnt[i] = tmp_cnt.index\n",
    "        tmp_cnt.reset_index(drop=True, inplace=True)\n",
    "        train = train.reset_index().merge(tmp_cnt, how='left', on=i).sort('index').drop('index', axis=1)\n",
    "        test = test.reset_index().merge(tmp_cnt, how='left', on=i).sort('index').drop('index', axis=1)\n",
    "        train.reset_index(drop=True, inplace=True)\n",
    "        test.reset_index(drop=True, inplace=True)\n",
    "    del train_test\n",
    "\n",
    "    # Tạo giá trị dummy cho biến var_3 với ngưỡng 4\n",
    "    var3_cnt = train.var3.value_counts()\n",
    "    index_var3_th = var3_cnt[(var3_cnt>=4).values].index\n",
    "    train['var3_tmp'] = train.var3.apply(lambda x: x if x in index_var3_th else np.nan)\n",
    "    test['var3_tmp'] = test.var3.apply(lambda x: x if x in index_var3_th else np.nan)\n",
    "    \n",
    "    train_test = pd.concat([train,test])\n",
    "    tmp = pd.get_dummies(train_test['var3_tmp'], prefix='ohe_var3', prefix_sep='_')\n",
    "\n",
    "    train = pd.concat([train, tmp.iloc[:len(train),:]], axis=1)\n",
    "    test = pd.concat([test, tmp.iloc[len(train):,:]], axis=1)\n",
    "    del train['var3_tmp'], test['var3_tmp']\n",
    "\n",
    "    # thêm feauture cho cột var38\n",
    "    train['var38mc'] = np.isclose(train.var38, 117310.979016)\n",
    "    train['logvar38'] = train.loc[~train['var38mc'], 'var38'].map(np.log)\n",
    "    train.loc[train['var38mc'], 'logvar38'] = 0\n",
    "\n",
    "    test['var38mc'] = np.isclose(test.var38, 117310.979016)\n",
    "    test['logvar38'] = test.loc[~test['var38mc'], 'var38'].map(np.log)\n",
    "    test.loc[test['var38mc'], 'logvar38'] = 0\n",
    "\n",
    "    train['var38mc'] = train['var38mc'].astype(int)\n",
    "\n",
    "    test['var38mc'] = test['var38mc'].astype(int)\n",
    "\n",
    "    #xóa các cột có 1 giá trị duy nhất\n",
    "    for i in train.columns:\n",
    "        if len(set(train[i].values)) == 1:\n",
    "            del train[i], test[i]\n",
    "    assert( all(train.columns == test.columns))\n",
    "\n",
    "    #xóa cột trùng\n",
    "    unique_col = train.T.drop_duplicates().T.columns\n",
    "    train = train[unique_col]\n",
    "    test = test[unique_col]\n",
    "    assert( all(train.columns == test.columns))\n",
    "\n",
    "\n",
    "    train['target'] = train_target\n",
    "\n",
    "    train.to_csv('ikki_features_train_ver2.csv',index=None)\n",
    "    test.to_csv('ikki_features_test_ver2.csv',index=None)\n",
    "\n"
   ]
  },
  {
   "cell_type": "code",
   "execution_count": 4,
   "metadata": {},
   "outputs": [],
   "source": [
    "main_feat(train=ori_train.copy(), test=ori_test.copy())"
   ]
  }
 ],
 "metadata": {
  "kernelspec": {
   "display_name": "Python 3",
   "language": "python",
   "name": "python3"
  },
  "language_info": {
   "codemirror_mode": {
    "name": "ipython",
    "version": 3
   },
   "file_extension": ".py",
   "mimetype": "text/x-python",
   "name": "python",
   "nbconvert_exporter": "python",
   "pygments_lexer": "ipython3",
   "version": "3.8.5"
  }
 },
 "nbformat": 4,
 "nbformat_minor": 4
}
