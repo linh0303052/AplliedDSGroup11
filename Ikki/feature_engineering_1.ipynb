{
 "cells": [
  {
   "cell_type": "code",
   "execution_count": 1,
   "metadata": {
    "executionInfo": {
     "elapsed": 899,
     "status": "ok",
     "timestamp": 1639199191590,
     "user": {
      "displayName": "Huy Lê",
      "photoUrl": "https://lh3.googleusercontent.com/a/default-user=s64",
      "userId": "04255824725604749089"
     },
     "user_tz": -420
    },
    "id": "RAW6X5_L3Ul1"
   },
   "outputs": [],
   "source": [
    "import pandas as pd\n",
    "import numpy as np\n",
    "import os\n",
    "from datetime import date\n",
    "\n",
    "from sklearn.manifold import TSNE\n",
    "\n",
    "from sklearn.pipeline import Pipeline\n",
    "from sklearn.preprocessing import Normalizer, PolynomialFeatures, MinMaxScaler\n",
    "\n"
   ]
  },
  {
   "cell_type": "code",
   "execution_count": 2,
   "metadata": {
    "executionInfo": {
     "elapsed": 8268,
     "status": "ok",
     "timestamp": 1639199202522,
     "user": {
      "displayName": "Huy Lê",
      "photoUrl": "https://lh3.googleusercontent.com/a/default-user=s64",
      "userId": "04255824725604749089"
     },
     "user_tz": -420
    },
    "id": "P7x_HSzW3tQC"
   },
   "outputs": [],
   "source": [
    "ori_train = pd.read_csv('train.csv')\n",
    "ori_test = pd.read_csv('test.csv')\n",
    "sample_submit = pd.read_csv('sample_submission.csv')\n",
    "\n",
    "ori_train['target'] = ori_train['TARGET']\n",
    "ori_train['t_id'] = ori_train[\"ID\"]\n",
    "ori_test['t_id'] = ori_test[\"ID\"]\n",
    "\n",
    "del ori_train['TARGET'], ori_train[\"ID\"], ori_test[\"ID\"]\n"
   ]
  },
  {
   "cell_type": "code",
   "execution_count": 7,
   "metadata": {
    "executionInfo": {
     "elapsed": 378,
     "status": "ok",
     "timestamp": 1639199699993,
     "user": {
      "displayName": "Huy Lê",
      "photoUrl": "https://lh3.googleusercontent.com/a/default-user=s64",
      "userId": "04255824725604749089"
     },
     "user_tz": -420
    },
    "id": "R_gy34ZB3zK7"
   },
   "outputs": [],
   "source": [
    "def main_feat(train, test, sample_submit=None):\n",
    "    \n",
    "    train_target = train['target']\n",
    "    del train['target']\n",
    "\n",
    "    #Xóa cột id\n",
    "    del train['t_id'], test['t_id']\n",
    "\n",
    "    # đếm giá trị 0 theo id\n",
    "    def countZero(data):\n",
    "        return np.sum(data == 0)\n",
    "\n",
    "    train['count0'] = train.apply(countZero, axis=1)\n",
    "    test['count0'] = test.apply(countZero, axis=1)\n",
    "\n",
    "    # Thêm cột count cho những cột giá trị nguyên\n",
    "    int_col = (train.dtypes == int)[(train.dtypes == int).values].index\n",
    "    train_test = pd.concat([train,test])\n",
    "    for i in int_col:\n",
    "        tmp_cnt = train_test[i].value_counts()\n",
    "        tmp_cnt = tmp_cnt.to_frame(name=i+'_cnt')\n",
    "        tmp_cnt[i] = tmp_cnt.index\n",
    "        tmp_cnt.reset_index(drop=True, inplace=True)\n",
    "        train = train.reset_index().merge(tmp_cnt, how='left', on=i).sort('index').drop('index', axis=1)\n",
    "        test = test.reset_index().merge(tmp_cnt, how='left', on=i).sort('index').drop('index', axis=1)\n",
    "        train.reset_index(drop=True, inplace=True)\n",
    "        test.reset_index(drop=True, inplace=True)\n",
    "    del train_test\n",
    "\n",
    "    # Tạo giá trị dummy cho biến var_3 với ngưỡng 5\n",
    "    var3_cnt = train.var3.value_counts()\n",
    "    index_var3_th = var3_cnt[(var3_cnt>=5).values].index\n",
    "    train['var3_tmp'] = train.var3.apply(lambda x: x if x in index_var3_th else np.nan)\n",
    "    test['var3_tmp'] = test.var3.apply(lambda x: x if x in index_var3_th else np.nan)\n",
    "    \n",
    "    train_test = pd.concat([train,test])\n",
    "    tmp = pd.get_dummies(train_test['var3_tmp'], prefix='ohe_var3', prefix_sep='_')\n",
    "\n",
    "    train = pd.concat([train, tmp.iloc[:len(train),:]], axis=1)\n",
    "    test = pd.concat([test, tmp.iloc[len(train):,:]], axis=1)\n",
    "    del train['var3_tmp'], test['var3_tmp']\n",
    "\n",
    "    # thêm feauture cho cột var38\n",
    "    train['var38mc'] = np.isclose(train.var38, 117310.979016)\n",
    "    train['logvar38'] = train.loc[~train['var38mc'], 'var38'].map(np.log)\n",
    "    train.loc[train['var38mc'], 'logvar38'] = 0\n",
    "\n",
    "    test['var38mc'] = np.isclose(test.var38, 117310.979016)\n",
    "    test['logvar38'] = test.loc[~test['var38mc'], 'var38'].map(np.log)\n",
    "    test.loc[test['var38mc'], 'logvar38'] = 0\n",
    "\n",
    "    train['var38mc'] = train['var38mc'].astype(int)\n",
    "\n",
    "    test['var38mc'] = test['var38mc'].astype(int)\n",
    "\n",
    "    #xóa các cột có 1 giá trị duy nhất\n",
    "    for i in train.columns:\n",
    "        if len(set(train[i].values)) == 1:\n",
    "            del train[i], test[i]\n",
    "    assert( all(train.columns == test.columns))\n",
    "\n",
    "    #xóa cột trùng\n",
    "    unique_col = train.T.drop_duplicates().T.columns\n",
    "    train = train[unique_col]\n",
    "    test = test[unique_col]\n",
    "    assert( all(train.columns == test.columns))\n",
    "\n",
    "\n",
    "    train['target'] = train_target\n",
    "\n",
    "    train.to_csv('ikki_features_train_ver1.csv',index=None)\n",
    "    test.to_csv('ikki_features_test_ver1.csv',index=None)\n",
    "\n"
   ]
  },
  {
   "cell_type": "code",
   "execution_count": 8,
   "metadata": {
    "executionInfo": {
     "elapsed": 339,
     "status": "ok",
     "timestamp": 1639199248141,
     "user": {
      "displayName": "Huy Lê",
      "photoUrl": "https://lh3.googleusercontent.com/a/default-user=s64",
      "userId": "04255824725604749089"
     },
     "user_tz": -420
    },
    "id": "SDGnpY8_32RW"
   },
   "outputs": [],
   "source": [
    "def one_hot_encoder(train, test):\n",
    "\n",
    "    ohe_col = ['num_var13_corto','num_var13_corto_0','num_meses_var12_ult3','num_meses_var13_corto_ult3','num_meses_var39_vig_ult3','num_meses_var5_ult3','num_var24_0','num_var12','var36','num_var5','num_var5_0','num_var12_0','num_var13','num_var13_0','num_var42','num_var4','num_var42_0','num_var30','num_var39_0','num_var41_0']\n",
    "    \n",
    "    train_test = pd.concat([train,test])\n",
    "    train_test.reset_index(drop=True, inplace=True)\n",
    "    ohe_data = pd.DataFrame()\n",
    "    for i in train_test.columns:\n",
    "        if i in ohe_col:\n",
    "            tmp = pd.get_dummies(train_test[i], prefix='ohe_'+i, prefix_sep='_')\n",
    "            ohe_data = pd.concat([ohe_data, tmp], axis=1)\n",
    "    \n",
    "    train = ohe_data.iloc[:len(train),:]\n",
    "    test = ohe_data.iloc[len(train):,:]\n",
    "\n",
    "    train.to_csv('ikki_one_hot_encoder_train_ver1.csv',index=None)\n",
    "    test.to_csv('ikki_one_hot_encoder_test_ver1.csv',index=None)\n"
   ]
  },
  {
   "cell_type": "code",
   "execution_count": 9,
   "metadata": {
    "colab": {
     "base_uri": "https://localhost:8080/",
     "height": 340
    },
    "executionInfo": {
     "elapsed": 316722,
     "status": "error",
     "timestamp": 1639200020856,
     "user": {
      "displayName": "Huy Lê",
      "photoUrl": "https://lh3.googleusercontent.com/a/default-user=s64",
      "userId": "04255824725604749089"
     },
     "user_tz": -420
    },
    "id": "0d4g-DGR35Js",
    "outputId": "4db543ca-d107-44bb-ec66-829233a34aa2"
   },
   "outputs": [],
   "source": [
    "main_feat(train=ori_train.copy(), test=ori_test.copy())\n",
    "one_hot_encoder(train=ori_train.copy(), test=ori_test.copy())"
   ]
  },
  {
   "cell_type": "code",
   "execution_count": null,
   "metadata": {},
   "outputs": [],
   "source": []
  }
 ],
 "metadata": {
  "colab": {
   "authorship_tag": "ABX9TyMbvHu5bbbbZhzjqIOlLz3L",
   "collapsed_sections": [],
   "name": "Untitled0.ipynb",
   "provenance": []
  },
  "kernelspec": {
   "display_name": "Python 3",
   "language": "python",
   "name": "python3"
  },
  "language_info": {
   "codemirror_mode": {
    "name": "ipython",
    "version": 3
   },
   "file_extension": ".py",
   "mimetype": "text/x-python",
   "name": "python",
   "nbconvert_exporter": "python",
   "pygments_lexer": "ipython3",
   "version": "3.8.5"
  }
 },
 "nbformat": 4,
 "nbformat_minor": 1
}
